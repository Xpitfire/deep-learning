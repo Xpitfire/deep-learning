{
 "cells": [
  {
   "cell_type": "markdown",
   "metadata": {
    "collapsed": true
   },
   "source": [
    "# Neural Network"
   ]
  },
  {
   "cell_type": "markdown",
   "metadata": {},
   "source": [
    "## Load Data"
   ]
  },
  {
   "cell_type": "code",
   "execution_count": 1,
   "metadata": {},
   "outputs": [],
   "source": [
    "from timeit import default_timer as timer\n",
    "from urllib.request import urlretrieve\n",
    "from os.path import isfile, isdir\n",
    "from tqdm import tqdm\n",
    "import tarfile\n",
    "import seaborn as sns\n",
    "\n",
    "%matplotlib inline\n",
    "%config InlineBackend.figure_format = 'retina'\n",
    "import matplotlib.pyplot as plt\n",
    "\n",
    "import helper\n",
    "import numpy as np\n",
    "import tensorflow as tf"
   ]
  },
  {
   "cell_type": "code",
   "execution_count": 2,
   "metadata": {},
   "outputs": [
    {
     "name": "stderr",
     "output_type": "stream",
     "text": [
      "CIFAR-10 Dataset: 171MB [00:39, 4.35MB/s]                              \n"
     ]
    }
   ],
   "source": [
    "cifar10_dataset_folder_path = 'cifar-10-batches-py'\n",
    "tar_gz_path = 'cifar-10-python.tar.gz'\n",
    "\n",
    "class DLProgress(tqdm):\n",
    "    last_block = 0\n",
    "\n",
    "    def hook(self, block_num=1, block_size=1, total_size=None):\n",
    "        self.total = total_size\n",
    "        self.update((block_num - self.last_block) * block_size)\n",
    "        self.last_block = block_num\n",
    "\n",
    "if not isfile(tar_gz_path):\n",
    "    with DLProgress(unit='B', unit_scale=True, miniters=1, desc='CIFAR-10 Dataset') as pbar:\n",
    "        urlretrieve(\n",
    "            'https://www.cs.toronto.edu/~kriz/cifar-10-python.tar.gz',\n",
    "            tar_gz_path,\n",
    "            pbar.hook)\n",
    "\n",
    "if not isdir(cifar10_dataset_folder_path):\n",
    "    with tarfile.open(tar_gz_path) as tar:\n",
    "        tar.extractall()\n",
    "        tar.close()"
   ]
  },
  {
   "cell_type": "code",
   "execution_count": 3,
   "metadata": {},
   "outputs": [
    {
     "name": "stdout",
     "output_type": "stream",
     "text": [
      "\n",
      "Stats of batch 4:\n",
      "Samples: 10000\n",
      "Label Counts: {0: 1003, 1: 963, 2: 1041, 3: 976, 4: 1004, 5: 1021, 6: 1004, 7: 981, 8: 1024, 9: 983}\n",
      "First 20 Labels: [0, 6, 0, 2, 7, 2, 1, 2, 4, 1, 5, 6, 6, 3, 1, 3, 5, 5, 8, 1]\n",
      "\n",
      "Example of Image 7:\n",
      "Image - Min Value: 17 Max Value: 221\n",
      "Image - Shape: (32, 32, 3)\n",
      "Label - Label Id: 2 Name: bird\n"
     ]
    },
    {
     "data": {
      "image/png": "[encoded data removed]",
      "text/plain": [
       "<matplotlib.figure.Figure at 0x1078a1c18>"
      ]
     },
     "metadata": {
      "image/png": {
       "height": 250,
       "width": 253
      }
     },
     "output_type": "display_data"
    }
   ],
   "source": [
    "# Explore the dataset\n",
    "batch_id = 4\n",
    "sample_id = 7\n",
    "batch_size = 5\n",
    "image_sizes = 32\n",
    "image_channels = 3\n",
    "helper.display_stats(cifar10_dataset_folder_path, batch_id, sample_id)"
   ]
  },
  {
   "cell_type": "markdown",
   "metadata": {},
   "source": [
    "## Preprocess Data"
   ]
  },
  {
   "cell_type": "code",
   "execution_count": 4,
   "metadata": {
    "collapsed": true
   },
   "outputs": [],
   "source": [
    "def normalize(x):\n",
    "    x_min = np.min(x)\n",
    "    return (x - x_min)/(np.max(x) - x_min)\n",
    "\n",
    "def one_hot_encode(x):\n",
    "    encoder = tf.one_hot(x, 10)\n",
    "    encodings = None\n",
    "    with tf.Session() as sess:\n",
    "        encodings = sess.run(encoder)\n",
    "    return encodings"
   ]
  },
  {
   "cell_type": "code",
   "execution_count": 5,
   "metadata": {
    "collapsed": true,
    "scrolled": true
   },
   "outputs": [],
   "source": [
    "# Preprocess Training, Validation, and Testing Data\n",
    "helper.preprocess_and_save_data(cifar10_dataset_folder_path, normalize, one_hot_encode)"
   ]
  },
  {
   "cell_type": "markdown",
   "metadata": {},
   "source": [
    "## Check Point"
   ]
  },
  {
   "cell_type": "code",
   "execution_count": 6,
   "metadata": {
    "collapsed": true
   },
   "outputs": [],
   "source": [
    "import pickle\n",
    "import helper\n",
    "\n",
    "# Load the Preprocessed Validation data for cifar-10\n",
    "valid_features, valid_labels = pickle.load(open('preprocess_validation.p', mode='rb'))"
   ]
  },
  {
   "cell_type": "code",
   "execution_count": 7,
   "metadata": {},
   "outputs": [
    {
     "name": "stdout",
     "output_type": "stream",
     "text": [
      "Successfully downloaded train-images-idx3-ubyte.gz 9912422 bytes.\n",
      "Extracting MNIST_data/train-images-idx3-ubyte.gz\n",
      "Successfully downloaded train-labels-idx1-ubyte.gz 28881 bytes.\n",
      "Extracting MNIST_data/train-labels-idx1-ubyte.gz\n",
      "Successfully downloaded t10k-images-idx3-ubyte.gz 1648877 bytes.\n",
      "Extracting MNIST_data/t10k-images-idx3-ubyte.gz\n",
      "Successfully downloaded t10k-labels-idx1-ubyte.gz 4542 bytes.\n",
      "Extracting MNIST_data/t10k-labels-idx1-ubyte.gz\n"
     ]
    }
   ],
   "source": [
    "# load mnist data\n",
    "from tensorflow.examples.tutorials.mnist import input_data\n",
    "mnist = input_data.read_data_sets('MNIST_data', one_hot=True)"
   ]
  },
  {
   "cell_type": "markdown",
   "metadata": {},
   "source": [
    "## Build Netwrok"
   ]
  },
  {
   "cell_type": "code",
   "execution_count": 8,
   "metadata": {
    "collapsed": true
   },
   "outputs": [],
   "source": [
    "# Remove previous weights, bias, inputs, etc..\n",
    "tf.reset_default_graph()"
   ]
  },
  {
   "cell_type": "code",
   "execution_count": 15,
   "metadata": {
    "collapsed": true
   },
   "outputs": [],
   "source": [
    "class Network(object):\n",
    "    \n",
    "    def __init__(self, x_dim, n_classes, p_l1_w, p_l2_w):\n",
    "        # Inputs\n",
    "        self.p_l1_w = p_l1_w\n",
    "        self.p_l2_w = p_l2_w\n",
    "        self.init_placeholders(x_dim, n_classes)\n",
    "        # Model\n",
    "        self.logits = self.build()\n",
    "        self.prediction = tf.nn.softmax(self.logits)\n",
    "        # Loss and Optimizer\n",
    "        self.cost = tf.reduce_mean(tf.nn.softmax_cross_entropy_with_logits(\n",
    "            logits=self.logits, \n",
    "            labels=self.y))\n",
    "        self.optimizer = tf.train.AdamOptimizer().minimize(self.cost)\n",
    "        # Accuracy\n",
    "        correct_pred = tf.equal(tf.argmax(self.y, 1), tf.argmax(self.prediction, 1))\n",
    "        self.accuracy = tf.reduce_mean(tf.cast(correct_pred, tf.float32), name='accuracy')\n",
    "\n",
    "    def init_placeholders(self, x_dim, n_classes):\n",
    "        self.x = tf.placeholder(tf.float32, [None, x_dim], name='x')\n",
    "        self.y = tf.placeholder(tf.int64, [None, 10], name='y')\n",
    "        # dimension: batch_size, x\n",
    "        self.l1_w = tf.Variable(self.p_l1_w, dtype=tf.float32, name='l1_w')\n",
    "        self.l2_w = tf.Variable(self.p_l2_w, dtype=tf.float32, name='l2_w')\n",
    "\n",
    "    def build(self):\n",
    "        l1_a = tf.sigmoid(tf.matmul(self.x, self.l1_w))\n",
    "        logits = tf.matmul(l1_a, self.l2_w)\n",
    "        return logits"
   ]
  },
  {
   "cell_type": "code",
   "execution_count": 16,
   "metadata": {
    "collapsed": true
   },
   "outputs": [],
   "source": [
    "def print_stats(session, net, total_epochs, epoch, batch_i, feature_batch, label_batch):\n",
    "    train_loss = session.run(net.cost, feed_dict={net.x:feature_batch, net.y:label_batch})\n",
    "    valid_loss = session.run(net.cost, feed_dict={net.x:valid_features, net.y:valid_labels})\n",
    "    train_accuracy = session.run(net.accuracy, feed_dict={net.x:feature_batch, net.y:label_batch})\n",
    "    valid_accuracy = session.run(net.accuracy, feed_dict={net.x:valid_features, net.y:valid_labels})\n",
    "    print('Epoch {:>2}/{:>2}, CIFAR-10 Batch {} | Train Acc: {:1.2} Loss: {:1.3} | Valid Acc: {:1.2} Loss: {:1.3}'.format(\n",
    "        epoch, total_epochs, batch_i, train_accuracy, train_loss, valid_accuracy, valid_loss), end='\\r')"
   ]
  },
  {
   "cell_type": "code",
   "execution_count": 11,
   "metadata": {
    "collapsed": true
   },
   "outputs": [],
   "source": [
    "def truncated_normal(mean=0.0, stddev=0.1, minval=-1.0, maxval=1.0):\n",
    "    return np.clip(np.random.normal(mean, stddev), minval, maxval)"
   ]
  },
  {
   "cell_type": "code",
   "execution_count": 104,
   "metadata": {},
   "outputs": [],
   "source": [
    "x_dim = 1\n",
    "n_hidden = 10000\n",
    "n_classes = 1000\n",
    "epochs = 1000\n",
    "\n",
    "with tf.Session() as sess:\n",
    "    \n",
    "    l1_w = [[truncated_normal() for _ in range(n_hidden)] for _ in range(x_dim)]\n",
    "    l2_w = [[truncated_normal() for _ in range(n_classes)] for _ in range(n_hidden)]\n",
    "\n",
    "    net = Network(x_dim, n_classes, l1_w, l2_w)\n",
    "    sess.run(tf.global_variables_initializer())\n",
    "    \n",
    "    xs = []\n",
    "    logits_list = []\n",
    "\n",
    "    # Initializing the variables\n",
    "    for e in range(epochs):\n",
    "        x = np.random.sample()\n",
    "        xs.append(x)\n",
    "        feed_dict = {\n",
    "            net.x: [[x]]\n",
    "        }\n",
    "        logits = sess.run([net.logits], feed_dict=feed_dict)\n",
    "        logits_list.append(logits)"
   ]
  },
  {
   "cell_type": "code",
   "execution_count": 105,
   "metadata": {
    "scrolled": false
   },
   "outputs": [
    {
     "data": {
      "text/plain": [
       "([array([    0.,     0.,     0.,     0.,     0.,     0.,     0.,     0.,\n",
       "             0.,     0.,     0.,     0.,     0.,    26.,    92.,    78.,\n",
       "            96.,    73.,    84.,    72.,    79.,    98.,    84.,   108.,\n",
       "            82.,    28.,     0.,     0.,     0.,     0.,     0.,     0.,\n",
       "             0.,     0.,     0.,     0.,     0.,     0.,     0.,     0.,\n",
       "             0.,     0.,     0.,     0.,     0.,     0.,     0.,     0.,\n",
       "             0.,     0.,     0.,     0.,     0.,     0.,     0.,     0.,\n",
       "             0.,     0.,     0.,     0.,     0.,     0.,     0.,     0.,\n",
       "             0.,     0.,     0.,     0.,     0.,     0.,     0.,     0.,\n",
       "             0.,     0.,     0.,     0.,     0.,     0.,     0.,     0.,\n",
       "             0.,     0.,     0.,     0.,     0.,     0.,     0.,     0.,\n",
       "             0.,     0.,     0.,     0.,     0.,     0.,     0.,     0.,\n",
       "             0.,     0.,     0.,     0.,     0.,     0.,     0.,     0.,\n",
       "             0.,     0.,     0.,     0.,     0.,     0.,     0.,     0.,\n",
       "             0.,     0.,     0.,     0.,     0.,     0.,     0.,     0.,\n",
       "             0.,     0.,     0.,     0.,     0.,     0.,     0.,     0.,\n",
       "             0.,     0.,     0.,     0.,     0.,     0.,     0.,     0.,\n",
       "             0.,     0.,     0.,     0.,     0.,     0.,     0.,     0.,\n",
       "             0.,     0.,     0.,     0.,     0.,     0.,     0.,     0.,\n",
       "             0.,     0.,     0.,     0.,     0.,     0.,     0.,     0.,\n",
       "             0.,     0.,     0.,     0.,     0.,     0.,     0.,     0.,\n",
       "             0.,     0.,     0.,     0.,     0.,     0.,     0.,     0.,\n",
       "             0.,     0.,     0.,     0.,     0.,     0.,     0.,     0.,\n",
       "             0.,     0.,     0.,     0.,     0.,     0.,     0.,     0.,\n",
       "             0.,     0.,     0.,     0.,     0.,     0.,     0.,     0.,\n",
       "             0.,     0.,     0.,     0.,     0.,     0.,     0.,     0.,\n",
       "             0.,     0.,     0.,     0.,     0.,     0.,     0.,     0.,\n",
       "             0.,     0.,     0.,     0.,     0.,     0.,     0.,     0.,\n",
       "             0.,     0.,     0.,     0.,     0.,     0.,     0.,     0.,\n",
       "             0.,     0.,     0.,     0.,   268.,   536.,   196.,     0.,\n",
       "             0.,     0.,     0.,     0.,     0.,     0.,     0.,     0.,\n",
       "             0.,     0.,     0.,     0.,     0.,     0.,     0.,     0.,\n",
       "             0.,     0.,     0.,     0.,     0.,     0.,     0.,     0.,\n",
       "             0.,     0.,    11.,    91.,    83.,    75.,    78.,    80.,\n",
       "            77.,    60.,    95.,    96.,    80.,    96.,    78.,     0.,\n",
       "             0.,     0.,     0.,     0.,     0.,     0.,     0.,     0.,\n",
       "             0.,     0.,     0.,     0.,     0.,     0.,     0.,     0.,\n",
       "             0.,     0.,     0.,     0.,   748.,   252.,     0.,     0.,\n",
       "             0.,     0.,     0.,    26.,    53.,    58.,    78.,    53.,\n",
       "            71.,    62.,    58.,    43.,    52.,   150.,   136.,   124.,\n",
       "           139.,   135.,   131.,   111.,   130.,    97.,    75.,    99.,\n",
       "            77.,    42.,     0.,     0.,     0.,     0.,   149.,   180.,\n",
       "           168.,   168.,   209.,   126.,     0.,     0.,     0.,     0.,\n",
       "             0.,     0.,     0.,     0.,     0.,     0.,     0.,     0.,\n",
       "             0.,     0.,     0.,     0.,     0.,     0.,     0.,     0.,\n",
       "             0.,     0.,     0.,     0.,     0.,     0.,     0.,     0.,\n",
       "             0.,     0.,     0.,     0.,     0.,     0.,     0.,     0.,\n",
       "             0.,     0.,     0.,     0.,     0.,     0.,     0.,     0.,\n",
       "             0.,     0.,     0.,     0.,     0.,    70.,   136.,   142.,\n",
       "           137.,   125.,   160.,   162.,    68.,     0.,     0.,     0.,\n",
       "             0.,     0.,     0.,     0.,     0.,     0.,     0.,     0.,\n",
       "             0.,     0.,     0.,     0.,     0.,    75.,   169.,   174.,\n",
       "           156.,   201.,   196.,    29.,     0.,     0.,     0.,     0.,\n",
       "             0.,     0.,     0.,     0.,     0.,     0.,   117.,   136.,\n",
       "           149.,   121.,   144.,   157.,   154.,    22.,     0.,     0.,\n",
       "             0.,     0.,     0.,     0.,     0.,     0.,     0.,     0.,\n",
       "             0.,     0.,     5.,    71.,    44.,    60.,    95.,   106.,\n",
       "           124.,   107.,    98.,   119.,    96.,   104.,   104.,   103.,\n",
       "           109.,   102.,   124.,   108.,   100.,    85.,    40.,    61.,\n",
       "            35.,     0.,     0.,     0.,     0.,     0.,     0.,    29.,\n",
       "            70.,   128.,   129.,   125.,   134.,    94.,   116.,   125.,\n",
       "           110.,   117.,   122.,   110.,    88.,    27.,    42.,    46.,\n",
       "            48.,    58.,    41.,    45.,   179.,   930.,    39.,    37.,\n",
       "            11.,     0.,     0.,    65.,    66.,    75.,    78.,    72.,\n",
       "            67.,    72.,    54.,    88.,    84.,    76.,    93.,    72.,\n",
       "            38.,   509.,   491.,    85.,   208.,   195.,   249.,   440.,\n",
       "           300.,   177.,   203.,   278.,   178.,   165.,   170.,   191.,\n",
       "           161.,     0.,     0.,     0.,     0.,     0.,     0.,    57.,\n",
       "            48.,    55.,    51.,    52.,    54.,    49.,    52.,    56.,\n",
       "            41.,    39.,    58.,    60.,    70.,    43.,    69.,    63.,\n",
       "            47.,    36.,     0.,     0.,     0.,     0.,     0.,     0.,\n",
       "             0.,     8.,   273.,   241.,   276.,   202.,     0.,     0.,\n",
       "             0.,     0.,     0.,     0.,     0.,     0.,     0.,     0.,\n",
       "             0.,     0.,     0.,     0.,     0.,     0.,     0.,     0.,\n",
       "             0.,     0.,     0.,     0.,     0.,     0.,   231.,   571.,\n",
       "           884.,   658.,   674.,   232.,    90.,    86.,    62.,    63.,\n",
       "            78.,    68.,    79.,    75.,    67.,    82.,    58.,    46.,\n",
       "            47.,    50.,   165.,   320.,   305.,   346.,   112.,    46.,\n",
       "            32.,    48.,    62.,    59.,    55.,    47.,    68.,    51.,\n",
       "            47.,    36.,     0.,     0.,     0.,     0.,     0.,     0.,\n",
       "             0.,     0.,     0.,     0.,     0.,     0.,     0.,     0.,\n",
       "             0.,     0.,     0.,     0.,     0.,     0.,     0.,     0.,\n",
       "             0.,     0.,   139.,   264.,   215.,   228.,   154.,     0.,\n",
       "             0.,    38.,    93.,    93.,    96.,    92.,    85.,    75.,\n",
       "           107.,   100.,   116.,    86.,    19.,     0.,     0.,     0.,\n",
       "             0.,     0.,     0.,     0.,    49.,   160.,   158.,   155.,\n",
       "           175.,   186.,   131.,   111.,   131.,   139.,   103.,   100.,\n",
       "           110.,   120.,   111.,    61.,     0.,     0.,     0.,     0.,\n",
       "             0.,    18.,   108.,   100.,   101.,    96.,    92.,    90.,\n",
       "           119.,   106.,   116.,    54.,     0.,     0.,   133.,   139.,\n",
       "           139.,   113.,   144.,   154.,   150.,    28.,     0.,     0.,\n",
       "             0.,     0.,     0.,    50.,   185.,   226.,   313.,   344.,\n",
       "           436.,   198.,   236.,   241.,   155.,    72.,    65.,    67.,\n",
       "          1083.,    88.,    85.,    82.,    72.,     2.,     0.,     0.,\n",
       "             0.,     0.,     0.,     0.,     0.,     0.,     0.,     0.,\n",
       "             0.,     0.,     0.,     0.,     0.,     0.,     0.,     0.,\n",
       "             0.,     0.,     0.,     0.,     0.,     0.,     0.,    11.,\n",
       "           104.,    92.,    96.,    93.,    84.,    75.,   105.,   103.,\n",
       "           116.,    92.,    29.,     0.,     0.,    54.,   195.,   203.,\n",
       "           143.,  1180.,   167.,    58.,     0.,     0.,     0.,     0.,\n",
       "             0.,     0.,     0.,     0.,     0.,    95.,   111.,   118.,\n",
       "           116.,   100.,   122.,   134.,   136.,   323.,   264.,   248.,\n",
       "           233.,     0.,     0.,     0.,     0.,    34.,   457.,   491.,\n",
       "           495.,   191.,   157.,   171.,   165.,   172.,   163.,   154.,\n",
       "            78.,    70.,    85.,    70.,    47.,     0.,     0.,     0.,\n",
       "             0.,     0.,     0.,     0.,     0.,     0.,     0.,     0.,\n",
       "             0.,     0.,     0.,     0.,    40.,    95.,   114.,   104.,\n",
       "           109.,   181.,   395.,   386.,   511.,   285.,   270.,   180.,\n",
       "           225.,   105.,     0.,     0.,     0.,     0.,     0.,     0.,\n",
       "             0.,     0.,     0.,     0.,     0.,     0.,     0.,     0.,\n",
       "             0.,     0.,     0.,     0.,     0.,     0.,     0.,     0.,\n",
       "             0.,     0.,     0.,     0.,     0.,     0.,     0.,     0.,\n",
       "             0.,     0.,     0.,     0.,     0.,     0.,     0.,     0.,\n",
       "             0.,     0.,     0.,     0.,     0.,     0.,     0.,     0.,\n",
       "             0.,     0.,     0.,     0.,     0.,     0.,     0.,     0.,\n",
       "             0.,     0.,     0.,     0.,     0.,     0.,     0.,     0.,\n",
       "            38.,    48.,    65.,    70.,    51.,    68.,    60.,    58.,\n",
       "            40.,    47.,    49.,    54.,    51.,    59.,    52.,    58.,\n",
       "            45.,    72.,    15.,     0.,     0.,     0.,     0.,     0.,\n",
       "             0.,     0.,     0.,     0.,     0.,     0.,     0.,     0.,\n",
       "             0.,     0.,     0.,     0.,     0.,     0.,     0.,     0.,\n",
       "             0.,     0.,     0.,     0.,     0.,     0.,     0.,     0.,\n",
       "             0.,     0.,     0.,     0.,     0.,     0.,     0.,     0.,\n",
       "             0.,     0.,     0.,     0.,     0.,     0.,     0.,     0.,\n",
       "             0.,     0.,     0.,     0.,     0.,     0.,     0.,     0.]),\n",
       "  array([  270.,   248.,   268.,   214.,     0.,     0.,     0.,     0.,\n",
       "             0.,     0.,     0.,     0.,     0.,     0.,     0.,     0.,\n",
       "             0.,     0.,     0.,     0.,     0.,     0.,     0.,     0.,\n",
       "             0.,     0.,     0.,     0.,     0.,     0.,     0.,     0.,\n",
       "             0.,     0.,     0.,     0.,     0.,     0.,     0.,     0.,\n",
       "             0.,     0.,     0.,     0.,     0.,     0.,     0.,     0.,\n",
       "             0.,     0.,     0.,     0.,     0.,     0.,     0.,     0.,\n",
       "             0.,     0.,     0.,     0.,     0.,     0.,     0.,     0.,\n",
       "             0.,     0.,     0.,     0.,     0.,     0.,     0.,     0.,\n",
       "             0.,     0.,     0.,     0.,     0.,     0.,     0.,     0.,\n",
       "             0.,     0.,     0.,     0.,     0.,     0.,     0.,     0.,\n",
       "             0.,     0.,     0.,     0.,     0.,     0.,     0.,     0.,\n",
       "             0.,     0.,     0.,     0.,     0.,     0.,     0.,     0.,\n",
       "             0.,     0.,     0.,     0.,     0.,     0.,     0.,     0.,\n",
       "             0.,     0.,     0.,     0.,     0.,     0.,     0.,     0.,\n",
       "             0.,     0.,     0.,     0.,     0.,     0.,     0.,     0.,\n",
       "             0.,     0.,     0.,     0.,     0.,     0.,     0.,     0.,\n",
       "             0.,     0.,     0.,     0.,     0.,     0.,     0.,     0.,\n",
       "             0.,     0.,     0.,     0.,     0.,     0.,     0.,     0.,\n",
       "             0.,     0.,     0.,     0.,     0.,     0.,     0.,     0.,\n",
       "             0.,     0.,     0.,     0.,     0.,     0.,     0.,     0.,\n",
       "             0.,     0.,     0.,     0.,     0.,     0.,     0.,     0.,\n",
       "             0.,     0.,     0.,     0.,     0.,     0.,     0.,     0.,\n",
       "             0.,     0.,     0.,     0.,     0.,     0.,     0.,     0.,\n",
       "             0.,     0.,     0.,     0.,     0.,     0.,     0.,     0.,\n",
       "             0.,     0.,     0.,     0.,     0.,     0.,     0.,     0.,\n",
       "             0.,     0.,     0.,     0.,     0.,     0.,     0.,     0.,\n",
       "             0.,     0.,     0.,     0.,     0.,     0.,  1000.,     0.,\n",
       "             0.,     0.,     0.,     0.,     0.,     0.,     0.,     0.,\n",
       "             0.,     0.,     0.,     0.,     0.,     0.,     0.,     0.,\n",
       "             0.,     0.,     0.,     0.,     0.,     0.,     0.,     0.,\n",
       "             0.,     0.,     0.,     0.,     0.,     0.,     0.,     0.,\n",
       "             0.,     0.,     0.,     0.,     0.,     0.,     0.,     0.,\n",
       "             0.,     0.,     0.,     0.,     0.,     0.,     0.,     0.,\n",
       "             0.,    45.,    66.,    88.,    66.,    78.,    81.,    56.,\n",
       "            55.,    60.,    73.,    64.,    72.,    65.,    60.,    71.,\n",
       "             0.,     0.,     0.,     0.,     0.,     0.,     0.,     0.,\n",
       "             0.,     0.,     0.,     0.,     0.,     0.,     0.,     0.,\n",
       "             0.,     0.,     0.,     0.,     0.,     0.,     0.,     0.,\n",
       "             0.,     0.,     0.,     0.,     0.,     0.,     0.,     0.,\n",
       "             0.,   111.,   168.,   159.,   171.,   142.,   141.,   154.,\n",
       "           161.,   160.,    71.,    38.,    29.,    40.,    39.,    46.,\n",
       "            38.,    33.,    52.,    41.,    39.,    45.,    33.,    53.,\n",
       "            36.,     0.,     2.,    87.,    50.,    72.,    67.,    61.,\n",
       "            70.,    96.,    95.,   102.,   137.,   132.,   109.,   143.,\n",
       "           118.,    99.,    38.,    34.,    44.,    40.,    48.,    47.,\n",
       "            49.,    46.,    41.,    51.,    38.,    58.,    26.,     0.,\n",
       "             0.,     0.,     0.,     0.,    52.,    99.,   102.,   348.,\n",
       "           370.,   364.,   292.,    81.,    98.,    91.,   103.,     0.,\n",
       "             0.,     0.,     0.,     0.,     0.,     0.,     0.,     0.,\n",
       "             0.,     0.,     0.,     0.,     0.,     0.,     0.,     0.,\n",
       "             0.,     0.,     0.,     0.,     0.,     0.,     0.,     0.,\n",
       "             0.,     0.,     0.,     0.,     0.,    47.,    51.,    38.,\n",
       "            58.,    48.,    58.,    41.,    52.,    47.,    48.,    35.,\n",
       "            45.,    58.,    54.,    64.,    42.,    67.,    60.,    45.,\n",
       "            42.,     0.,     0.,     0.,     0.,     0.,     0.,     0.,\n",
       "             0.,     0.,     0.,     0.,     0.,     0.,     0.,     0.,\n",
       "             0.,     0.,     0.,     0.,     0.,     0.,     0.,     0.,\n",
       "            81.,   281.,   275.,   318.,    45.,     0.,     0.,     0.,\n",
       "             0.,     0.,    81.,    55.,    70.,    64.,    62.,    73.,\n",
       "            57.,    55.,    55.,    78.,    72.,    60.,    92.,    63.,\n",
       "            59.,     4.,    47.,    73.,    98.,    68.,   248.,   262.,\n",
       "           202.,   216.,   224.,   223.,   137.,    75.,   201.,   198.,\n",
       "           133.,   112.,   132.,   133.,   154.,    64.,     0.,     0.,\n",
       "             0.,     0.,   104.,    93.,   106.,    99.,    89.,    81.,\n",
       "           111.,   104.,   126.,    87.,     0.,     0.,     0.,     0.,\n",
       "             0.,     0.,     0.,     0.,     0.,     0.,     0.,     0.,\n",
       "             0.,     0.,     0.,     0.,     0.,     0.,     0.,     0.,\n",
       "             0.,     0.,     0.,     0.,     0.,     0.,     0.,     0.,\n",
       "             0.,     0.,     0.,     0.,     0.,     0.,     0.,     0.,\n",
       "             0.,   445.,   555.,   244.,   636.,   120.,     0.,     0.,\n",
       "             0.,     0.,   249.,  1332.,   369.,   341.,   123.,    88.,\n",
       "            92.,   100.,   102.,   100.,   104.,     0.,     0.,     0.,\n",
       "             0.,     0.,     0.,     0.,     0.,     0.,     0.,     0.,\n",
       "             0.,     0.,     0.,     0.,     0.,     0.,     0.,     0.,\n",
       "             0.,     0.,     0.,     0.,     0.,     0.,     0.,     0.,\n",
       "             0.,     0.,     0.,     0.,     0.,     0.,     0.,     0.,\n",
       "             0.,     0.,     0.,     0.,     0.,     0.,     0.,     0.,\n",
       "             0.,     0.,     0.,     0.,     5.,    31.,    32.,    29.,\n",
       "            41.,    59.,   112.,    89.,   183.,   167.,   163.,   167.,\n",
       "           159.,   152.,   130.,   127.,   190.,   175.,   166.,   189.,\n",
       "           194.,   195.,   137.,   114.,   141.,   218.,   213.,   203.,\n",
       "           192.,   171.,   189.,  1190.,   160.,    61.,    50.,    57.,\n",
       "            49.,    55.,    45.,     0.,     0.,     0.,     0.,     0.,\n",
       "             0.,     0.,     0.,     0.,     0.,     0.,     0.,     0.,\n",
       "             0.,     0.,     0.,  1000.,     0.,     0.,     0.,     0.,\n",
       "             0.,     0.,     0.,    22.,   627.,   561.,   626.,   164.,\n",
       "             0.,     0.,     0.,     0.,     0.,    26.,    50.,    49.,\n",
       "            71.,    52.,    55.,    60.,    64.,    49.,    33.,    50.,\n",
       "            48.,    59.,    40.,    58.,    59.,   134.,   156.,   158.,\n",
       "           129.,   125.,   157.,   187.,   175.,   177.,   164.,   166.,\n",
       "            82.,    67.,   293.,   508.,   488.,   345.,   115.,    91.,\n",
       "           117.,   121.,   137.,    85.,     0.,     0.,     0.,     0.,\n",
       "             0.,     0.,     0.,     0.,     0.,     0.,     0.,     0.,\n",
       "             0.,     0.,     0.,   232.,   405.,   363.,     0.,     0.,\n",
       "             0.,     0.,     0.,    78.,   134.,   117.,   130.,   129.,\n",
       "           129.,   114.,   112.,   135.,   143.,   119.,   130.,   127.,\n",
       "            65.,    62.,    47.,    54.,    65.,   169.,   278.,   219.,\n",
       "           206.,   212.,    26.,     0.,     0.,     0.,     0.,     0.,\n",
       "             0.,     0.,   212.,   414.,   374.,     0.,     0.,     0.,\n",
       "             0.,     0.,     0.,     0.,     0.,     0.,     0.,     0.,\n",
       "             0.,     0.,     0.,     0.,     0.,     0.,     0.,     0.,\n",
       "             0.,     0.,     0.,     0.,     0.,   313.,   298.,   300.,\n",
       "            89.,     0.,     0.,     0.,     0.,     0.,     0.,     0.,\n",
       "             0.,    33.,    60.,   213.,   262.,   249.,   226.,   236.,\n",
       "           209.,   100.,    68.,    66.,    70.,   216.,   447.,   431.,\n",
       "           361.,   398.,   219.,   268.,   260.,   163.,   121.,   131.,\n",
       "           107.,   132.,   141.,   115.,   142.,   152.,   134.,    88.,\n",
       "            79.,    58.,    45.,     0.,     0.,     0.,     0.,     0.,\n",
       "             0.,     0.,     0.,     0.,     0.,     0.,     0.,     0.,\n",
       "             0.,     0.,     0.,     0.,     0.,     0.,     0.,     0.,\n",
       "             0.,     0.,     0.,     0.,     0.,     0.,     0.,     0.,\n",
       "             0.,     0.,     0.,     0.,     0.,     0.,     0.,     0.,\n",
       "             0.,     0.,     0.,     0.,     0.,     0.,     0.,     0.,\n",
       "             0.,     0.,     0.,     0.,     0.,     0.,     0.,     0.,\n",
       "             0.,     0.,     0.,     0.,     0.,     0.,     0.,     0.,\n",
       "           460.,   540.,     0.,     0.,     0.,     0.,     0.,     0.,\n",
       "             0.,     0.,     0.,     0.,     0.,     0.,     0.,     0.,\n",
       "             0.,     0.,     0.,     0.,     0.,     0.,     0.,     0.,\n",
       "             0.,     0.,     0.,     0.,     0.,    85.,   227.,   193.,\n",
       "           190.,   194.,   111.,     0.,     0.,     0.,     0.,     0.,\n",
       "             0.,     0.,     0.,     0.,     0.,     0.,     0.,     0.,\n",
       "             0.,     0.,     0.,     0.,     0.,     0.,     0.,     0.,\n",
       "             0.,     0.,     0.,    45.,    76.,   100.,    76.,    96.,\n",
       "            78.,    56.,    72.,    81.,    77.,    72.,    75.,    96.])],\n",
       " array([-14.67371082, -14.65032856, -14.62694629, ...,   8.66179259,\n",
       "          8.68517486,   8.70855713]),\n",
       " <a list of 2 Lists of Patches objects>)"
      ]
     },
     "execution_count": 105,
     "metadata": {},
     "output_type": "execute_result"
    },
    {
     "data": {
      "image/png": "[encoded data removed]",
      "text/plain": [
       "<matplotlib.figure.Figure at 0x18b86e5f8>"
      ]
     },
     "metadata": {
      "image/png": {
       "height": 252,
       "width": 383
      }
     },
     "output_type": "display_data"
    }
   ],
   "source": [
    "ys = np.reshape(logits_list, (-1, 2))\n",
    "plt.hist(ys[:,], bins=epochs)"
   ]
  },
  {
   "cell_type": "code",
   "execution_count": 109,
   "metadata": {},
   "outputs": [
    {
     "data": {
      "image/png": "[encoded data removed]",
      "text/plain": [
       "<matplotlib.figure.Figure at 0x123d94198>"
      ]
     },
     "metadata": {
      "image/png": {
       "height": 422,
       "width": 428
      }
     },
     "output_type": "display_data"
    }
   ],
   "source": [
    "sns.jointplot(x=ys[:, 0], y=ys[:, 1], kind='kde')\n",
    "plt.show()"
   ]
  },
  {
   "cell_type": "code",
   "execution_count": null,
   "metadata": {
    "collapsed": true
   },
   "outputs": [],
   "source": []
  }
 ],
 "metadata": {
  "kernelspec": {
   "display_name": "Python 3",
   "language": "python",
   "name": "python3"
  },
  "language_info": {
   "codemirror_mode": {
    "name": "ipython",
    "version": 3
   },
   "file_extension": ".py",
   "mimetype": "text/x-python",
   "name": "python",
   "nbconvert_exporter": "python",
   "pygments_lexer": "ipython3",
   "version": "3.5.4"
  }
 },
 "nbformat": 4,
 "nbformat_minor": 2
}

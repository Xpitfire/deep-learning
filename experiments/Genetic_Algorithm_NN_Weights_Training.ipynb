{
 "cells": [
  {
   "cell_type": "markdown",
   "metadata": {
    "collapsed": true
   },
   "source": [
    "# Neural Network"
   ]
  },
  {
   "cell_type": "markdown",
   "metadata": {},
   "source": [
    "## Load Data"
   ]
  },
  {
   "cell_type": "code",
   "execution_count": 1,
   "metadata": {
    "collapsed": true
   },
   "outputs": [],
   "source": [
    "from timeit import default_timer as timer\n",
    "from urllib.request import urlretrieve\n",
    "from os.path import isfile, isdir\n",
    "from tqdm import tqdm\n",
    "import tarfile\n",
    "\n",
    "%matplotlib inline\n",
    "%config InlineBackend.figure_format = 'retina'\n",
    "import matplotlib.pyplot as plt\n",
    "\n",
    "import helper\n",
    "import numpy as np\n",
    "import tensorflow as tf"
   ]
  },
  {
   "cell_type": "code",
   "execution_count": 2,
   "metadata": {
    "collapsed": true
   },
   "outputs": [],
   "source": [
    "cifar10_dataset_folder_path = 'cifar-10-batches-py'\n",
    "tar_gz_path = 'cifar-10-python.tar.gz'\n",
    "\n",
    "class DLProgress(tqdm):\n",
    "    last_block = 0\n",
    "\n",
    "    def hook(self, block_num=1, block_size=1, total_size=None):\n",
    "        self.total = total_size\n",
    "        self.update((block_num - self.last_block) * block_size)\n",
    "        self.last_block = block_num\n",
    "\n",
    "if not isfile(tar_gz_path):\n",
    "    with DLProgress(unit='B', unit_scale=True, miniters=1, desc='CIFAR-10 Dataset') as pbar:\n",
    "        urlretrieve(\n",
    "            'https://www.cs.toronto.edu/~kriz/cifar-10-python.tar.gz',\n",
    "            tar_gz_path,\n",
    "            pbar.hook)\n",
    "\n",
    "if not isdir(cifar10_dataset_folder_path):\n",
    "    with tarfile.open(tar_gz_path) as tar:\n",
    "        tar.extractall()\n",
    "        tar.close()"
   ]
  },
  {
   "cell_type": "code",
   "execution_count": 3,
   "metadata": {},
   "outputs": [
    {
     "name": "stdout",
     "output_type": "stream",
     "text": [
      "\n",
      "Stats of batch 4:\n",
      "Samples: 10000\n",
      "Label Counts: {0: 1003, 1: 963, 2: 1041, 3: 976, 4: 1004, 5: 1021, 6: 1004, 7: 981, 8: 1024, 9: 983}\n",
      "First 20 Labels: [0, 6, 0, 2, 7, 2, 1, 2, 4, 1, 5, 6, 6, 3, 1, 3, 5, 5, 8, 1]\n",
      "\n",
      "Example of Image 7:\n",
      "Image - Min Value: 17 Max Value: 221\n",
      "Image - Shape: (32, 32, 3)\n",
      "Label - Label Id: 2 Name: bird\n"
     ]
    },
    {
     "data": {
      "image/png": "[encoded data removed]",
      "text/plain": [
       "<matplotlib.figure.Figure at 0x7fb83f2c3cf8>"
      ]
     },
     "metadata": {
      "image/png": {
       "height": 250,
       "width": 253
      }
     },
     "output_type": "display_data"
    }
   ],
   "source": [
    "# Explore the dataset\n",
    "batch_id = 4\n",
    "sample_id = 7\n",
    "batch_size = 5\n",
    "image_sizes = 32\n",
    "image_channels = 3\n",
    "helper.display_stats(cifar10_dataset_folder_path, batch_id, sample_id)"
   ]
  },
  {
   "cell_type": "markdown",
   "metadata": {},
   "source": [
    "## Preprocess Data"
   ]
  },
  {
   "cell_type": "code",
   "execution_count": 4,
   "metadata": {
    "collapsed": true
   },
   "outputs": [],
   "source": [
    "def normalize(x):\n",
    "    x_min = np.min(x)\n",
    "    return (x - x_min)/(np.max(x) - x_min)\n",
    "\n",
    "def one_hot_encode(x):\n",
    "    encoder = tf.one_hot(x, 10)\n",
    "    encodings = None\n",
    "    with tf.Session() as sess:\n",
    "        encodings = sess.run(encoder)\n",
    "    return encodings"
   ]
  },
  {
   "cell_type": "code",
   "execution_count": 5,
   "metadata": {
    "collapsed": true,
    "scrolled": true
   },
   "outputs": [],
   "source": [
    "# Preprocess Training, Validation, and Testing Data\n",
    "helper.preprocess_and_save_data(cifar10_dataset_folder_path, normalize, one_hot_encode)"
   ]
  },
  {
   "cell_type": "markdown",
   "metadata": {},
   "source": [
    "## Check Point"
   ]
  },
  {
   "cell_type": "code",
   "execution_count": 6,
   "metadata": {
    "collapsed": true
   },
   "outputs": [],
   "source": [
    "import pickle\n",
    "import helper\n",
    "\n",
    "# Load the Preprocessed Validation data for cifar-10\n",
    "valid_features, valid_labels = pickle.load(open('preprocess_validation.p', mode='rb'))"
   ]
  },
  {
   "cell_type": "code",
   "execution_count": 297,
   "metadata": {},
   "outputs": [
    {
     "name": "stdout",
     "output_type": "stream",
     "text": [
      "Extracting MNIST_data/train-images-idx3-ubyte.gz\n",
      "Extracting MNIST_data/train-labels-idx1-ubyte.gz\n",
      "Extracting MNIST_data/t10k-images-idx3-ubyte.gz\n",
      "Extracting MNIST_data/t10k-labels-idx1-ubyte.gz\n"
     ]
    }
   ],
   "source": [
    "# load mnist data\n",
    "from tensorflow.examples.tutorials.mnist import input_data\n",
    "mnist = input_data.read_data_sets('MNIST_data', one_hot=True)"
   ]
  },
  {
   "cell_type": "markdown",
   "metadata": {},
   "source": [
    "## Build Netwrok"
   ]
  },
  {
   "cell_type": "code",
   "execution_count": 342,
   "metadata": {
    "collapsed": true
   },
   "outputs": [],
   "source": [
    "# Remove previous weights, bias, inputs, etc..\n",
    "tf.reset_default_graph()"
   ]
  },
  {
   "cell_type": "code",
   "execution_count": 343,
   "metadata": {
    "collapsed": true
   },
   "outputs": [],
   "source": [
    "class Network(object):\n",
    "    \n",
    "    def __init__(self, x_dim, n_classes, p_l1_w, p_l1_b, p_l2_w, p_l2_b):\n",
    "        # Inputs\n",
    "        self.p_l1_w = p_l1_w\n",
    "        self.p_l1_b = p_l1_b\n",
    "        self.p_l2_w = p_l2_w\n",
    "        self.p_l2_b = p_l2_b\n",
    "        self.init_placeholders(x_dim, n_classes)\n",
    "        # Model\n",
    "        self.logits = self.build()\n",
    "        self.prediction = tf.nn.softmax(self.logits)\n",
    "        # Loss and Optimizer\n",
    "        self.cost = tf.reduce_mean(tf.nn.softmax_cross_entropy_with_logits(\n",
    "            logits=self.logits, \n",
    "            labels=self.y))\n",
    "        self.optimizer = tf.train.GradientDescentOptimizer(0.003).minimize(self.cost)\n",
    "        # Accuracy\n",
    "        correct_pred = tf.equal(tf.argmax(self.y, 1), tf.argmax(self.prediction, 1))\n",
    "        self.accuracy = tf.reduce_mean(tf.cast(correct_pred, tf.float32), name='accuracy')\n",
    "\n",
    "    def init_placeholders(self, x_dim, n_classes):\n",
    "        self.x = tf.placeholder(tf.float32, [None, x_dim], name='x')\n",
    "        self.y = tf.placeholder(tf.int64, [None, 10], name='y')\n",
    "        # dimension: batch_size, x\n",
    "        self.l1_w = tf.Variable(self.p_l1_w, dtype=tf.float32, name='l1_w')\n",
    "        self.l1_b = tf.Variable(self.p_l1_b, dtype=tf.float32, name='l1_b')\n",
    "        self.l2_w = tf.Variable(self.p_l2_w, dtype=tf.float32, name='l2_w')\n",
    "        self.l2_b = tf.Variable(self.p_l2_b, dtype=tf.float32, name='l2_b')\n",
    "\n",
    "    def build(self):\n",
    "        l1_a = tf.sigmoid(tf.nn.bias_add(tf.matmul(self.x, self.l1_w), self.l1_b))\n",
    "        logits = tf.nn.bias_add(tf.matmul(l1_a, self.l2_w), self.l2_b)\n",
    "        return logits"
   ]
  },
  {
   "cell_type": "code",
   "execution_count": 344,
   "metadata": {
    "collapsed": true
   },
   "outputs": [],
   "source": [
    "def print_stats(session, net, total_epochs, epoch, batch_i, feature_batch, label_batch):\n",
    "    train_loss = session.run(net.cost, feed_dict={net.x:feature_batch, net.y:label_batch})\n",
    "    valid_loss = session.run(net.cost, feed_dict={net.x:valid_features, net.y:valid_labels})\n",
    "    train_accuracy = session.run(net.accuracy, feed_dict={net.x:feature_batch, net.y:label_batch})\n",
    "    valid_accuracy = session.run(net.accuracy, feed_dict={net.x:valid_features, net.y:valid_labels})\n",
    "    print('Epoch {:>2}/{:>2}, CIFAR-10 Batch {} | Train Acc: {:1.2} Loss: {:1.3} | Valid Acc: {:1.2} Loss: {:1.3}'.format(\n",
    "        epoch, total_epochs, batch_i, train_accuracy, train_loss, valid_accuracy, valid_loss), end='\\r')"
   ]
  },
  {
   "cell_type": "code",
   "execution_count": 345,
   "metadata": {
    "collapsed": true
   },
   "outputs": [],
   "source": [
    "def truncated_normal(mean=0.0, stddev=0.1, minval=-1.0, maxval=1.0):\n",
    "    return np.clip(np.random.normal(mean, stddev), minval, maxval)"
   ]
  },
  {
   "cell_type": "code",
   "execution_count": 341,
   "metadata": {},
   "outputs": [
    {
     "data": {
      "image/png": "[encoded data removed]",
      "text/plain": [
       "<matplotlib.figure.Figure at 0x7fb810622518>"
      ]
     },
     "metadata": {
      "image/png": {
       "height": 279,
       "width": 422
      }
     },
     "output_type": "display_data"
    }
   ],
   "source": [
    "batch_size = 128\n",
    "x_dim = 784\n",
    "n_classes = 10\n",
    "epochs = 20\n",
    "\n",
    "with tf.Session() as sess:\n",
    "    \n",
    "    l1_w = [[truncated_normal() for _ in range(100)] for _ in range(x_dim)]\n",
    "    l1_b = np.zeros(100)\n",
    "    l2_w = [[truncated_normal() for _ in range(10)] for _ in range(100)]\n",
    "    l2_b = np.zeros(10)\n",
    "\n",
    "    net = Network(x_dim, n_classes, l1_w, l1_b, l2_w, l2_b)\n",
    "    sess.run(tf.global_variables_initializer())\n",
    "    accuracies = []\n",
    "    # Initializing the variables\n",
    "    for e in range(epochs):\n",
    "        batch_num = mnist.train.num_examples//batch_size\n",
    "        for ii in range(batch_num):\n",
    "            train_batch, labels = mnist.train.next_batch(batch_size)\n",
    "            train_batch = train_batch*2-1\n",
    "\n",
    "            # Run optimizers\n",
    "            feed_dict = {net.x:train_batch,\n",
    "                         net.y:labels}\n",
    "            _ = sess.run([net.optimizer], feed_dict=feed_dict)\n",
    "            logits, predict, accuracy = sess.run([net.logits, net.prediction, net.accuracy], feed_dict=feed_dict)\n",
    "            \n",
    "        accuracies.append(accuracy)\n",
    "\n",
    "    acc_plot = plt.subplot(111)\n",
    "    acc_plot.set_title('Accuracy')\n",
    "    acc_plot.plot(range(epochs), accuracies, 'r', label='Accuracy')\n",
    "    acc_plot.set_ylim([0, 1.0])\n",
    "    plt.tight_layout()\n",
    "    plt.show()"
   ]
  },
  {
   "cell_type": "markdown",
   "metadata": {},
   "source": [
    "# Genetic Algorithm"
   ]
  },
  {
   "cell_type": "code",
   "execution_count": 12,
   "metadata": {
    "collapsed": true
   },
   "outputs": [],
   "source": [
    "import numpy as np\n",
    "from operator import attrgetter\n",
    "import string\n",
    "import random\n",
    "import time"
   ]
  },
  {
   "cell_type": "code",
   "execution_count": 346,
   "metadata": {
    "collapsed": true
   },
   "outputs": [],
   "source": [
    "__DEBUG__ = False\n",
    "batch_size = 64\n",
    "x_dim = 784\n",
    "n_classes = 10"
   ]
  },
  {
   "cell_type": "code",
   "execution_count": 365,
   "metadata": {
    "collapsed": true
   },
   "outputs": [],
   "source": [
    "class Individual(object):\n",
    "    \n",
    "    def __init__(self, generation):\n",
    "        self.accuracy = -1\n",
    "        self.evaluation_time = 0.0\n",
    "        self.generation = generation\n",
    "                \n",
    "        # define penalties\n",
    "        self.loss_mult = .1\n",
    "        self.accuracy_mult = 3\n",
    "        self.accuracy_delta_mult = 5\n",
    "        self.penalty = 99999\n",
    "        \n",
    "        self.network_epochs = 5\n",
    "        self.max_time = 30\n",
    "        \n",
    "    def generate(self):\n",
    "        self.gene = {}\n",
    "        # l1_w \n",
    "        self.gene[0] = np.random.randn(x_dim, 100)\n",
    "        # l1_b \n",
    "        self.gene[1] = np.random.randn(100)\n",
    "        # l2_w \n",
    "        self.gene[2] = np.random.randn(100, 10)\n",
    "        # l2_b \n",
    "        self.gene[3] = np.random.randn(10)\n",
    "        \n",
    "    def fitness(self):\n",
    "        tf.reset_default_graph()\n",
    "        with tf.Session() as sess:\n",
    "            net = Network(x_dim, \n",
    "                          n_classes,\n",
    "                          self.gene[0],\n",
    "                          self.gene[1], \n",
    "                          self.gene[2], \n",
    "                          self.gene[3])\n",
    "            sess.run(tf.global_variables_initializer())\n",
    "            \n",
    "            values = []\n",
    "            batch_num = mnist.train.num_examples//batch_size\n",
    "            for ii in range(batch_num):\n",
    "                train_batch, labels = mnist.train.next_batch(batch_size)\n",
    "                # Run optimizers\n",
    "                feed_dict = {net.x: train_batch,\n",
    "                             net.y: labels}\n",
    "                values += sess.run([net.accuracy], feed_dict=feed_dict)\n",
    "            self.accuracy = np.mean(values)\n",
    "\n",
    "    def cross_over(self, parent, recombination_probability=.5):\n",
    "        child = {}\n",
    "        child[0] = self.gene[0][:]\n",
    "        child[1] = self.gene[1][:]\n",
    "        child[2] = self.gene[2][:]\n",
    "        child[3] = self.gene[3][:]\n",
    "        \n",
    "        for ii, g in enumerate(child[0]):\n",
    "            prob = np.random.sample()\n",
    "            if prob <= recombination_probability:\n",
    "                child[0][ii] = (g + parent.gene[0][ii])/2.\n",
    "    \n",
    "        for ii, g in enumerate(child[1]):\n",
    "            prob = np.random.sample()\n",
    "            if prob <= recombination_probability:\n",
    "                child[1][ii] = (g + parent.gene[1][ii])/2.\n",
    "        \n",
    "        for ii, g in enumerate(child[2]):\n",
    "            prob = np.random.sample()\n",
    "            if prob <= recombination_probability:\n",
    "                child[2][ii] = (g + parent.gene[2][ii])/2.\n",
    "        \n",
    "        for ii, g in enumerate(child[3]):\n",
    "            prob = np.random.sample()\n",
    "            if prob <= recombination_probability:\n",
    "                child[3][ii] = (g + parent.gene[3][ii])/2.\n",
    "                    \n",
    "        individ = Individual(generation=self.generation)\n",
    "        individ.gene = child\n",
    "        return individ\n",
    "        \n",
    "    def mutate(self, mutation_rate=.05):\n",
    "        prob = np.random.sample()\n",
    "\n",
    "        if prob >= mutation_rate:\n",
    "            tf.reset_default_graph()\n",
    "            with tf.Session() as sess:\n",
    "                net = Network(x_dim, \n",
    "                              n_classes,\n",
    "                              self.gene[0],\n",
    "                              self.gene[1], \n",
    "                              self.gene[2], \n",
    "                              self.gene[3])\n",
    "                sess.run(tf.global_variables_initializer())\n",
    "                \n",
    "                batch_num = mnist.train.num_examples//batch_size\n",
    "                for ii in range(batch_num):\n",
    "                    train_batch, labels = mnist.train.next_batch(batch_size)\n",
    "                    # Run optimizers\n",
    "                    feed_dict = {net.x: train_batch,\n",
    "                                 net.y: labels}\n",
    "                    _ = sess.run([net.optimizer], feed_dict=feed_dict)\n",
    "                self.gene[0] = sess.run(net.l1_w)\n",
    "                self.gene[1] = sess.run(net.l1_b)\n",
    "                self.gene[2] = sess.run(net.l2_w)\n",
    "                self.gene[3] = sess.run(net.l2_b)\n",
    "        "
   ]
  },
  {
   "cell_type": "code",
   "execution_count": 366,
   "metadata": {
    "collapsed": true
   },
   "outputs": [],
   "source": [
    "class Population(object):\n",
    "    \n",
    "    def __init__(self,\n",
    "                 initial_population=200, \n",
    "                 max_generations=1000,\n",
    "                 mutation_rate=0.01, \n",
    "                 elitism=True,\n",
    "                 tournament_size=4,\n",
    "                 solution_threshold=.9):\n",
    "        self.initial_population = initial_population\n",
    "        self.max_generations = max_generations\n",
    "        self.mutation_rate = mutation_rate\n",
    "        self.elitism = elitism\n",
    "        self.tournament_size = tournament_size\n",
    "        self.solution_threshold = solution_threshold\n",
    "        self.time_elapsed = 0.0\n",
    "        self.global_best_individual = None\n",
    "        self.global_best_solution = 0.0\n",
    "        self.current_best_individual = None\n",
    "        self.current_best_solution = 0.0\n",
    "        self.generation = 0\n",
    "        self.population = []\n",
    "        \n",
    "    def _evaluate_fitnesses_(self):\n",
    "        population_length = len(self.population)\n",
    "        for i, p in enumerate(self.population):\n",
    "            p.fitness()\n",
    "            print('{}/{}, Accuracy {}'.format(i+1, \n",
    "                                              population_length, \n",
    "                                              p.accuracy))\n",
    "\n",
    "        self.current_best_individual = self.evaluate_current_best_individual()\n",
    "        self.current_best_solution = self.current_best_individual.accuracy\n",
    "        if self.global_best_individual == None or self.global_best_solution < self.current_best_solution:\n",
    "            self.global_best_individual = self.current_best_individual\n",
    "            self.global_best_solution = self.current_best_solution\n",
    "\n",
    "    def _perform_tournament_selection_(self):\n",
    "        tournament = Population()\n",
    "        tournament.generation = self.generation\n",
    "        for _ in range(self.tournament_size):\n",
    "            i = random.choice(self.population)\n",
    "            tournament.add_individual(i)\n",
    "        return tournament.evaluate_current_best_individual()\n",
    "    \n",
    "    def generate(self):\n",
    "        assert self.initial_population > 0\n",
    "        self.population = [Individual(generation=self.generation) for _ in range(self.initial_population)]\n",
    "        for p in self.population:\n",
    "            p.generate()\n",
    "    \n",
    "    def evolve_generation(self):\n",
    "        children_genes = []\n",
    "        self._evaluate_fitnesses_()  \n",
    "        \n",
    "        if self.elitism:\n",
    "            children_genes.append(self.current_best_individual)\n",
    "            \n",
    "        for _ in range(self.initial_population):\n",
    "            # perform selection\n",
    "            male = self._perform_tournament_selection_()\n",
    "            female = self._perform_tournament_selection_()\n",
    "            # perform cross-over\n",
    "            new_individual = male.cross_over(female)\n",
    "            new_individual.generation = self.generation\n",
    "            # perform mutation\n",
    "            new_individual.mutate(self.mutation_rate)\n",
    "            children_genes.append(new_individual)\n",
    "            \n",
    "        self.population = children_genes\n",
    "        self.generation += 1\n",
    "            \n",
    "    def evaluate_current_best_individual(self):\n",
    "        return max(self.population, key=attrgetter('accuracy'))\n",
    "    \n",
    "    def found_solution(self):\n",
    "        return self.global_best_solution >= self.solution_threshold\n",
    "    \n",
    "    def add_individual(self, individual):\n",
    "        self.population.append(individual)\n",
    "    \n",
    "    def print_accuracy(self):\n",
    "        if self.generation == 0:\n",
    "            return\n",
    "        print('Generation: {}/{}, Time {:2.2}s, Solution accuracy: {}'.format(\n",
    "            self.generation, \n",
    "            self.max_generations,\n",
    "            self.global_best_individual.evaluation_time,\n",
    "            self.global_best_solution))    "
   ]
  },
  {
   "cell_type": "code",
   "execution_count": 367,
   "metadata": {
    "collapsed": true
   },
   "outputs": [],
   "source": [
    "# hypter-parameters\n",
    "max_generations = 5\n",
    "population_size = 5\n",
    "mutation_rate = .5"
   ]
  },
  {
   "cell_type": "code",
   "execution_count": 368,
   "metadata": {},
   "outputs": [],
   "source": [
    "def execute(max_generations, population_size, mutation_rate, display_interval=1):\n",
    "    population = Population(population_size, max_generations)\n",
    "    population.generate()\n",
    "    accuracies = []\n",
    "    while not population.found_solution() and population.generation < max_generations:\n",
    "        population.evolve_generation()\n",
    "        if population.generation % display_interval == 0:\n",
    "            population.print_accuracy()\n",
    "        accuracies.append(population.global_best_individual.accuracy)\n",
    "    best_individual = population.global_best_individual\n",
    "    print('\\nCompleted {} generations:\\nFinal accuracy: {}, Generation: {}'.format(\n",
    "        population.generation, \n",
    "        best_individual.accuracy, \n",
    "        best_individual.generation))\n",
    "    \n",
    "    acc_plot = plt.subplot(111)\n",
    "    acc_plot.set_title('Accuracy')\n",
    "    acc_plot.plot(range(max_generations), accuracies, 'r', label='Accuracy')\n",
    "    acc_plot.set_ylim([0, 1.0])\n",
    "    plt.tight_layout()\n",
    "    plt.show()\n",
    "    \n",
    "    return best_individual"
   ]
  },
  {
   "cell_type": "code",
   "execution_count": 369,
   "metadata": {
    "scrolled": false
   },
   "outputs": [
    {
     "name": "stdout",
     "output_type": "stream",
     "text": [
      "1/5, Accuracy 0.09551440924406052\n",
      "2/5, Accuracy 0.09729700535535812\n",
      "3/5, Accuracy 0.08625581860542297\n",
      "4/5, Accuracy 0.09063955396413803\n",
      "5/5, Accuracy 0.10137150436639786\n",
      "Generation: 1/5, Time 0.0s, Solution accuracy: 0.10137150436639786\n",
      "1/6, Accuracy 0.10173530131578445\n",
      "2/6, Accuracy 0.1918109655380249\n",
      "3/6, Accuracy 0.19362995028495789\n",
      "4/6, Accuracy 0.19111976027488708\n",
      "5/6, Accuracy 0.1925385594367981\n",
      "6/6, Accuracy 0.19246579706668854\n",
      "Generation: 2/5, Time 0.0s, Solution accuracy: 0.19362995028495789\n",
      "1/6, Accuracy 0.19230209290981293\n",
      "2/6, Accuracy 0.28205034136772156\n",
      "3/6, Accuracy 0.2819775938987732\n",
      "4/6, Accuracy 0.2794128358364105\n",
      "5/6, Accuracy 0.2841239869594574\n",
      "6/6, Accuracy 0.2833782136440277\n",
      "Generation: 3/5, Time 0.0s, Solution accuracy: 0.2841239869594574\n",
      "1/6, Accuracy 0.2825232744216919\n",
      "2/6, Accuracy 0.35462746024131775\n",
      "3/6, Accuracy 0.35693758726119995\n",
      "4/6, Accuracy 0.35519134998321533\n",
      "5/6, Accuracy 0.35642826557159424\n",
      "6/6, Accuracy 0.3548821210861206\n",
      "Generation: 4/5, Time 0.0s, Solution accuracy: 0.35693758726119995\n",
      "1/6, Accuracy 0.3568648099899292\n",
      "2/6, Accuracy 0.4127073585987091\n",
      "3/6, Accuracy 0.41550859808921814\n",
      "4/6, Accuracy 0.41392606496810913\n",
      "5/6, Accuracy 0.4143626391887665\n",
      "6/6, Accuracy 0.41212528944015503\n",
      "Generation: 5/5, Time 0.0s, Solution accuracy: 0.41550859808921814\n",
      "\n",
      "Completed 5 generations:\n",
      "Final accuracy: 0.41550859808921814, Generation: 3\n"
     ]
    },
    {
     "data": {
      "image/png": "[encoded data removed]",
      "text/plain": [
       "<matplotlib.figure.Figure at 0x7fb83be77c18>"
      ]
     },
     "metadata": {
      "image/png": {
       "height": 279,
       "width": 422
      }
     },
     "output_type": "display_data"
    }
   ],
   "source": [
    "best_individ = execute(max_generations, population_size, mutation_rate)"
   ]
  },
  {
   "cell_type": "markdown",
   "metadata": {},
   "source": [
    "## Test Model - MNIST"
   ]
  },
  {
   "cell_type": "code",
   "execution_count": 370,
   "metadata": {},
   "outputs": [
    {
     "name": "stdout",
     "output_type": "stream",
     "text": [
      "Validation accuracy:  0.4377\n"
     ]
    }
   ],
   "source": [
    "with tf.Session() as sess:\n",
    "    net = Network(x_dim, \n",
    "                  n_classes,\n",
    "                  best_individ.gene[0],\n",
    "                  best_individ.gene[1], \n",
    "                  best_individ.gene[2], \n",
    "                  best_individ.gene[3])\n",
    "    sess.run(tf.global_variables_initializer())\n",
    "\n",
    "    values = []\n",
    "    batch_num = mnist.test.num_examples//batch_size\n",
    "    for ii in range(batch_num):\n",
    "        train_batch, labels = mnist.test.next_batch(batch_size)\n",
    "        # Run optimizers\n",
    "        feed_dict = {net.x: train_batch,\n",
    "                     net.y: labels}\n",
    "        values += sess.run([net.accuracy], feed_dict=feed_dict)\n",
    "    accuracy = np.mean(values)\n",
    "    print('Validation accuracy: ', accuracy)"
   ]
  },
  {
   "cell_type": "markdown",
   "metadata": {},
   "source": [
    "## Test Model - CIFAR10"
   ]
  },
  {
   "cell_type": "code",
   "execution_count": 29,
   "metadata": {},
   "outputs": [
    {
     "name": "stdout",
     "output_type": "stream",
     "text": [
      "INFO:tensorflow:Restoring parameters from ./image_classification\n",
      "Testing Accuracy: 0.6319665605095541\n",
      "\n"
     ]
    },
    {
     "data": {
      "image/png": "[encoded data removed]",
      "text/plain": [
       "<matplotlib.figure.Figure at 0x7f6d65891048>"
      ]
     },
     "metadata": {
      "image/png": {
       "height": 319,
       "width": 355
      }
     },
     "output_type": "display_data"
    }
   ],
   "source": [
    "# Set batch size if not already set\n",
    "try:\n",
    "    if batch_size:\n",
    "        pass\n",
    "except NameError:\n",
    "    batch_size = 64\n",
    "\n",
    "save_model_path = './image_classification'\n",
    "n_samples = 4\n",
    "top_n_predictions = 3\n",
    "\n",
    "def test_model():\n",
    "    test_features, test_labels = pickle.load(open('preprocess_test.p', mode='rb'))\n",
    "    loaded_graph = tf.Graph()\n",
    "\n",
    "    with tf.Session(graph=loaded_graph) as sess:\n",
    "        # Load model\n",
    "        loader = tf.train.import_meta_graph(save_model_path + '.meta')\n",
    "        loader.restore(sess, save_model_path)\n",
    "\n",
    "        # Get Tensors from loaded model\n",
    "        loaded_x = loaded_graph.get_tensor_by_name('x:0')\n",
    "        loaded_y = loaded_graph.get_tensor_by_name('y:0')\n",
    "        loaded_keep_prob = loaded_graph.get_tensor_by_name('keep_prob:0')\n",
    "        loaded_logits = loaded_graph.get_tensor_by_name('logits:0')\n",
    "        loaded_acc = loaded_graph.get_tensor_by_name('accuracy:0')\n",
    "        \n",
    "        # Get accuracy in batches for memory limitations\n",
    "        test_batch_acc_total = 0\n",
    "        test_batch_count = 0\n",
    "        \n",
    "        for test_feature_batch, test_label_batch in helper.batch_features_labels(test_features, test_labels, batch_size):\n",
    "            test_batch_acc_total += sess.run(\n",
    "                loaded_acc,\n",
    "                feed_dict={loaded_x: test_feature_batch, loaded_y: test_label_batch, loaded_keep_prob: 1.0})\n",
    "            test_batch_count += 1\n",
    "\n",
    "        print('Testing Accuracy: {}\\n'.format(test_batch_acc_total/test_batch_count))\n",
    "\n",
    "        # Print Random Samples\n",
    "        random_test_features, random_test_labels = tuple(zip(*random.sample(list(zip(test_features, test_labels)), n_samples)))\n",
    "        random_test_predictions = sess.run(\n",
    "            tf.nn.top_k(tf.nn.softmax(loaded_logits), top_n_predictions),\n",
    "            feed_dict={loaded_x: random_test_features, loaded_y: random_test_labels, loaded_keep_prob: 1.0})\n",
    "        helper.display_image_predictions(random_test_features, random_test_labels, random_test_predictions)\n",
    "\n",
    "test_model()"
   ]
  },
  {
   "cell_type": "code",
   "execution_count": null,
   "metadata": {
    "collapsed": true
   },
   "outputs": [],
   "source": []
  }
 ],
 "metadata": {
  "kernelspec": {
   "display_name": "Python [default]",
   "language": "python",
   "name": "python3"
  },
  "language_info": {
   "codemirror_mode": {
    "name": "ipython",
    "version": 3
   },
   "file_extension": ".py",
   "mimetype": "text/x-python",
   "name": "python",
   "nbconvert_exporter": "python",
   "pygments_lexer": "ipython3",
   "version": "3.6.1"
  }
 },
 "nbformat": 4,
 "nbformat_minor": 2
}

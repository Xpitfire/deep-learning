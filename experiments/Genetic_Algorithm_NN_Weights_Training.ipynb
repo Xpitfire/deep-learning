{
 "cells": [
  {
   "cell_type": "markdown",
   "metadata": {
    "collapsed": true
   },
   "source": [
    "# Neural Network"
   ]
  },
  {
   "cell_type": "markdown",
   "metadata": {},
   "source": [
    "## Load Data"
   ]
  },
  {
   "cell_type": "code",
   "execution_count": 1,
   "metadata": {
    "collapsed": true
   },
   "outputs": [],
   "source": [
    "from timeit import default_timer as timer\n",
    "from urllib.request import urlretrieve\n",
    "from os.path import isfile, isdir\n",
    "from tqdm import tqdm\n",
    "import tarfile\n",
    "\n",
    "%matplotlib inline\n",
    "%config InlineBackend.figure_format = 'retina'\n",
    "import matplotlib.pyplot as plt\n",
    "\n",
    "import helper\n",
    "import numpy as np\n",
    "import tensorflow as tf"
   ]
  },
  {
   "cell_type": "code",
   "execution_count": 2,
   "metadata": {},
   "outputs": [],
   "source": [
    "cifar10_dataset_folder_path = 'cifar-10-batches-py'\n",
    "tar_gz_path = 'cifar-10-python.tar.gz'\n",
    "\n",
    "class DLProgress(tqdm):\n",
    "    last_block = 0\n",
    "\n",
    "    def hook(self, block_num=1, block_size=1, total_size=None):\n",
    "        self.total = total_size\n",
    "        self.update((block_num - self.last_block) * block_size)\n",
    "        self.last_block = block_num\n",
    "\n",
    "if not isfile(tar_gz_path):\n",
    "    with DLProgress(unit='B', unit_scale=True, miniters=1, desc='CIFAR-10 Dataset') as pbar:\n",
    "        urlretrieve(\n",
    "            'https://www.cs.toronto.edu/~kriz/cifar-10-python.tar.gz',\n",
    "            tar_gz_path,\n",
    "            pbar.hook)\n",
    "\n",
    "if not isdir(cifar10_dataset_folder_path):\n",
    "    with tarfile.open(tar_gz_path) as tar:\n",
    "        tar.extractall()\n",
    "        tar.close()"
   ]
  },
  {
   "cell_type": "code",
   "execution_count": 3,
   "metadata": {},
   "outputs": [
    {
     "name": "stdout",
     "output_type": "stream",
     "text": [
      "\n",
      "Stats of batch 4:\n",
      "Samples: 10000\n",
      "Label Counts: {0: 1003, 1: 963, 2: 1041, 3: 976, 4: 1004, 5: 1021, 6: 1004, 7: 981, 8: 1024, 9: 983}\n",
      "First 20 Labels: [0, 6, 0, 2, 7, 2, 1, 2, 4, 1, 5, 6, 6, 3, 1, 3, 5, 5, 8, 1]\n",
      "\n",
      "Example of Image 7:\n",
      "Image - Min Value: 17 Max Value: 221\n",
      "Image - Shape: (32, 32, 3)\n",
      "Label - Label Id: 2 Name: bird\n"
     ]
    },
    {
     "data": {
      "image/png": "[encoded data removed]",
      "text/plain": [
       "<matplotlib.figure.Figure at 0x108aaa940>"
      ]
     },
     "metadata": {
      "image/png": {
       "height": 250,
       "width": 253
      }
     },
     "output_type": "display_data"
    }
   ],
   "source": [
    "# Explore the dataset\n",
    "batch_id = 4\n",
    "sample_id = 7\n",
    "batch_size = 5\n",
    "image_sizes = 32\n",
    "image_channels = 3\n",
    "helper.display_stats(cifar10_dataset_folder_path, batch_id, sample_id)"
   ]
  },
  {
   "cell_type": "markdown",
   "metadata": {},
   "source": [
    "## Preprocess Data"
   ]
  },
  {
   "cell_type": "code",
   "execution_count": 4,
   "metadata": {
    "collapsed": true
   },
   "outputs": [],
   "source": [
    "def normalize(x):\n",
    "    x_min = np.min(x)\n",
    "    return (x - x_min)/(np.max(x) - x_min)\n",
    "\n",
    "def one_hot_encode(x):\n",
    "    encoder = tf.one_hot(x, 10)\n",
    "    encodings = None\n",
    "    with tf.Session() as sess:\n",
    "        encodings = sess.run(encoder)\n",
    "    return encodings"
   ]
  },
  {
   "cell_type": "code",
   "execution_count": 5,
   "metadata": {
    "collapsed": true,
    "scrolled": true
   },
   "outputs": [],
   "source": [
    "# Preprocess Training, Validation, and Testing Data\n",
    "helper.preprocess_and_save_data(cifar10_dataset_folder_path, normalize, one_hot_encode)"
   ]
  },
  {
   "cell_type": "markdown",
   "metadata": {},
   "source": [
    "## Check Point"
   ]
  },
  {
   "cell_type": "code",
   "execution_count": 6,
   "metadata": {
    "collapsed": true
   },
   "outputs": [],
   "source": [
    "import pickle\n",
    "import helper\n",
    "\n",
    "# Load the Preprocessed Validation data for cifar-10\n",
    "valid_features, valid_labels = pickle.load(open('preprocess_validation.p', mode='rb'))"
   ]
  },
  {
   "cell_type": "code",
   "execution_count": 7,
   "metadata": {},
   "outputs": [
    {
     "name": "stdout",
     "output_type": "stream",
     "text": [
      "Extracting MNIST_data/train-images-idx3-ubyte.gz\n",
      "Extracting MNIST_data/train-labels-idx1-ubyte.gz\n",
      "Extracting MNIST_data/t10k-images-idx3-ubyte.gz\n",
      "Extracting MNIST_data/t10k-labels-idx1-ubyte.gz\n"
     ]
    }
   ],
   "source": [
    "# load mnist data\n",
    "from tensorflow.examples.tutorials.mnist import input_data\n",
    "mnist = input_data.read_data_sets('MNIST_data')"
   ]
  },
  {
   "cell_type": "markdown",
   "metadata": {},
   "source": [
    "## Build Netwrok"
   ]
  },
  {
   "cell_type": "code",
   "execution_count": 8,
   "metadata": {
    "collapsed": true
   },
   "outputs": [],
   "source": [
    "# Remove previous weights, bias, inputs, etc..\n",
    "tf.reset_default_graph()"
   ]
  },
  {
   "cell_type": "code",
   "execution_count": 9,
   "metadata": {
    "collapsed": true
   },
   "outputs": [],
   "source": [
    "class Network(object):\n",
    "    \n",
    "    def __init__(self, x_dim, n_classes):\n",
    "        # Inputs\n",
    "        self.init_placeholders(x_dim, n_classes)\n",
    "        # Model\n",
    "        self.logits = self.build()\n",
    "        self.prediction = tf.nn.softmax(self.logits)\n",
    "        # Loss and Optimizer\n",
    "        self.cost = tf.reduce_mean(tf.nn.softmax_cross_entropy_with_logits(logits=self.logits, labels=self.y))\n",
    "        # Accuracy\n",
    "        correct_pred = tf.equal(tf.argmax(self.prediction, 1), self.y)\n",
    "        self.accuracy = tf.reduce_mean(tf.cast(correct_pred, tf.float32), name='accuracy')\n",
    "\n",
    "    def init_placeholders(self, x_dim, n_classes):\n",
    "        self.x = tf.placeholder(tf.float32, [None, x_dim], name='x')\n",
    "        self.y = tf.placeholder(tf.int64, [None], name='y')\n",
    "        # dimension: batch_size, x\n",
    "        self.l1_w = tf.placeholder(tf.float32, [None, None])\n",
    "        self.l1_b = tf.placeholder(tf.float32, [None])\n",
    "        self.l2_w = tf.placeholder(tf.float32, [None, None])\n",
    "        self.l2_b = tf.placeholder(tf.float32, [None])\n",
    "\n",
    "    def build(self):\n",
    "        l1_a = tf.sigmoid(tf.nn.bias_add(tf.matmul(self.x, self.l1_w), self.l1_b))\n",
    "        logits = tf.nn.bias_add(tf.matmul(l1_a, self.l2_w), self.l2_b)\n",
    "        return logits"
   ]
  },
  {
   "cell_type": "code",
   "execution_count": 10,
   "metadata": {
    "collapsed": true
   },
   "outputs": [],
   "source": [
    "def print_stats(session, net, total_epochs, epoch, batch_i, feature_batch, label_batch):\n",
    "    train_loss = session.run(net.cost, feed_dict={net.x:feature_batch, net.y:label_batch})\n",
    "    valid_loss = session.run(net.cost, feed_dict={net.x:valid_features, net.y:valid_labels})\n",
    "    train_accuracy = session.run(net.accuracy, feed_dict={net.x:feature_batch, net.y:label_batch})\n",
    "    valid_accuracy = session.run(net.accuracy, feed_dict={net.x:valid_features, net.y:valid_labels})\n",
    "    print('Epoch {:>2}/{:>2}, CIFAR-10 Batch {} | Train Acc: {:1.2} Loss: {:1.3} | Valid Acc: {:1.2} Loss: {:1.3}'.format(\n",
    "        epoch, total_epochs, batch_i, train_accuracy, train_loss, valid_accuracy, valid_loss), end='\\r')"
   ]
  },
  {
   "cell_type": "code",
   "execution_count": 19,
   "metadata": {},
   "outputs": [
    {
     "data": {
      "image/png": "[encoded data removed]",
      "text/plain": [
       "<matplotlib.figure.Figure at 0x13d9b5be0>"
      ]
     },
     "metadata": {
      "image/png": {
       "height": 279,
       "width": 423
      }
     },
     "output_type": "display_data"
    }
   ],
   "source": [
    "batch_size = 128\n",
    "x_dim = 784\n",
    "n_classes = 10\n",
    "\n",
    "with tf.Session() as sess:\n",
    "    \n",
    "    net = Network(x_dim, n_classes)\n",
    "    l1_w = np.random.rand(x_dim, 100)\n",
    "    l1_b = np.random.rand(100)\n",
    "    l2_w = np.random.rand(100, 1)\n",
    "    l2_b = np.random.rand(1)\n",
    "\n",
    "    accuracies = []\n",
    "    # Initializing the variables\n",
    "    batch_num = mnist.train.num_examples//batch_size\n",
    "    for ii in range(batch_num):\n",
    "        train_batch, labels = mnist.train.next_batch(batch_size)\n",
    "\n",
    "        # Run optimizers\n",
    "        feed_dict = {net.x:train_batch,\n",
    "                     net.y:labels, \n",
    "                     net.l1_w:l1_w, \n",
    "                     net.l1_b:l1_b, \n",
    "                     net.l2_w:l2_w, \n",
    "                     net.l2_b:l2_b}\n",
    "        logits, predict, accuracy = sess.run([net.logits, net.prediction, net.accuracy], feed_dict=feed_dict)\n",
    "        accuracies.append(accuracy)\n",
    "        \n",
    "    acc_plot = plt.subplot(111)\n",
    "    acc_plot.set_title('Accuracy')\n",
    "    acc_plot.plot(range(batch_num), accuracies, 'r', label='Accuracy')\n",
    "    acc_plot.set_ylim([0, 1.0])\n",
    "    plt.tight_layout()\n",
    "    plt.show()"
   ]
  },
  {
   "cell_type": "markdown",
   "metadata": {},
   "source": [
    "# Genetic Algorithm"
   ]
  },
  {
   "cell_type": "code",
   "execution_count": 20,
   "metadata": {
    "collapsed": true
   },
   "outputs": [],
   "source": [
    "import numpy as np\n",
    "from operator import attrgetter\n",
    "import string\n",
    "import random\n",
    "import time"
   ]
  },
  {
   "cell_type": "code",
   "execution_count": 21,
   "metadata": {
    "collapsed": true
   },
   "outputs": [],
   "source": [
    "__DEBUG__ = False"
   ]
  },
  {
   "cell_type": "code",
   "execution_count": 42,
   "metadata": {
    "collapsed": true
   },
   "outputs": [],
   "source": [
    "batch_size = 64\n",
    "x_dim = 784\n",
    "n_classes = 10\n",
    "train_batch, labels = mnist.train.next_batch(batch_size)\n",
    "\n",
    "class Individual(object):\n",
    "    \n",
    "    def __init__(self, generation, gene={}):\n",
    "        self.gene = gene\n",
    "        self.score = -1\n",
    "        self.evaluation_time = 0.0\n",
    "        self.generation = generation\n",
    "                \n",
    "        # define penalties\n",
    "        self.loss_mult = .1\n",
    "        self.accuracy_mult = 3\n",
    "        self.accuracy_delta_mult = 5\n",
    "        self.penalty = 99999\n",
    "        \n",
    "        self.network_epochs = 5\n",
    "        self.max_time = 30\n",
    "        \n",
    "        if gene == None:\n",
    "            self.gene_length = 0\n",
    "        else:\n",
    "            self.gene_length = len(self.gene)\n",
    "        \n",
    "    def generate(self):\n",
    "        # l1_w \n",
    "        self.gene[0] = np.random.randn(x_dim, 100)\n",
    "        # l1_b \n",
    "        self.gene[1] = np.random.randn(100)\n",
    "        # l2_w \n",
    "        self.gene[2] = np.random.randn(100, 1)\n",
    "        # l2_b \n",
    "        self.gene[3] = np.random.randn(1)\n",
    "        \n",
    "    def fitness(self):\n",
    "        self.score = 0\n",
    "        \n",
    "        if __DEBUG__:\n",
    "            self.evaluation_time = np.random.random_sample()\n",
    "            self.score = np.random.random_sample() + self.evaluation_time\n",
    "            return\n",
    "        \n",
    "        tf.reset_default_graph()\n",
    "        with tf.Session() as sess:\n",
    "            # Run optimizers\n",
    "            net = Network(x_dim, n_classes)\n",
    "            feed_dict = {net.x: train_batch,\n",
    "                         net.y: labels, \n",
    "                         net.l1_w: self.gene[0], \n",
    "                         net.l1_b: self.gene[1], \n",
    "                         net.l2_w: self.gene[2], \n",
    "                         net.l2_b: self.gene[3]}\n",
    "            values = sess.run([net.accuracy], feed_dict=feed_dict)\n",
    "            self.score = np.mean(values)\n",
    "\n",
    "    def cross_over(self, parent):\n",
    "        # TODO\n",
    "        child = self.gene\n",
    "        \n",
    "        individ = Individual(generation=self.generation, gene=child)\n",
    "        individ.generate()\n",
    "        return individ\n",
    "        \n",
    "    def mutate(self, mutation_rate=0.01):\n",
    "        # TODO\n",
    "        pass\n",
    "        "
   ]
  },
  {
   "cell_type": "code",
   "execution_count": 51,
   "metadata": {
    "collapsed": true
   },
   "outputs": [],
   "source": [
    "class Population(object):\n",
    "    \n",
    "    def __init__(self,\n",
    "                 initial_population=200, \n",
    "                 max_generations=1000,\n",
    "                 mutation_rate=0.01, \n",
    "                 elitism=True,\n",
    "                 tournament_size=4,\n",
    "                 solution_threshold=.9):\n",
    "        self.initial_population = initial_population\n",
    "        self.max_generations = max_generations\n",
    "        self.mutation_rate = mutation_rate\n",
    "        self.elitism = elitism\n",
    "        self.tournament_size = tournament_size\n",
    "        self.solution_threshold = solution_threshold\n",
    "        self.time_elapsed = 0.0\n",
    "        self.global_best_individual = None\n",
    "        self.global_best_solution = 0.0\n",
    "        self.current_best_individual = None\n",
    "        self.current_best_solution = 0.0\n",
    "        self.generation = 0\n",
    "        self.population = []\n",
    "        \n",
    "    def _evaluate_fitnesses_(self):\n",
    "        population_length = len(self.population)\n",
    "        for i, p in enumerate(self.population):\n",
    "            if p.score < 0:\n",
    "                p.fitness()\n",
    "                self.time_elapsed += p.evaluation_time\n",
    "            print('{}/{}, Score {}, Time {}'.format(i+1, \n",
    "                                                     population_length, \n",
    "                                                     p.score,\n",
    "                                                     p.evaluation_time))\n",
    "\n",
    "        self.current_best_individual = self.evaluate_current_best_individual()\n",
    "        self.current_best_solution = self.current_best_individual.score\n",
    "        if self.global_best_individual == None or self.global_best_solution < self.current_best_solution:\n",
    "            self.global_best_individual = self.current_best_individual\n",
    "            self.global_best_solution = self.current_best_solution\n",
    "\n",
    "    def _perform_tournament_selection_(self):\n",
    "        tournament = Population()\n",
    "        tournament.generation = self.generation\n",
    "        for _ in range(self.tournament_size):\n",
    "            i = random.choice(self.population)\n",
    "            tournament.add_individual(i)\n",
    "        return tournament.evaluate_current_best_individual()\n",
    "    \n",
    "    def generate(self):\n",
    "        assert self.initial_population > 0\n",
    "        self.population = [Individual(generation=self.generation) for _ in range(self.initial_population)]\n",
    "        samples = np.random.sample(size=(self.initial_population, 784 * 100 * 100 * 100))\n",
    "        print(samples[0])\n",
    "        for p in self.population:\n",
    "            p.generate()\n",
    "    \n",
    "    def evolve_generation(self):\n",
    "        children_genes = []\n",
    "        self._evaluate_fitnesses_()  \n",
    "        \n",
    "        if self.elitism:\n",
    "            children_genes.append(self.current_best_individual)\n",
    "            \n",
    "        for _ in range(self.initial_population):\n",
    "            # perform selection\n",
    "            male = self._perform_tournament_selection_()\n",
    "            female = self._perform_tournament_selection_()\n",
    "            # perform cross-over\n",
    "            new_individual = male.cross_over(female)\n",
    "            new_individual.generation = self.generation\n",
    "            # perform mutation\n",
    "            new_individual.mutate(self.mutation_rate)\n",
    "            children_genes.append(new_individual)\n",
    "            \n",
    "        self.population = children_genes\n",
    "        self.generation += 1\n",
    "            \n",
    "    def evaluate_current_best_individual(self):\n",
    "        return max(self.population, key=attrgetter('score'))\n",
    "    \n",
    "    def found_solution(self):\n",
    "        return self.global_best_solution >= self.solution_threshold\n",
    "    \n",
    "    def add_individual(self, individual):\n",
    "        self.population.append(individual)\n",
    "    \n",
    "    def print_score(self):\n",
    "        if self.generation == 0:\n",
    "            return\n",
    "        print('Generation: {}/{}, Time {:2.2}s, Solution score: {}'.format(\n",
    "            self.generation, \n",
    "            self.max_generations,\n",
    "            self.global_best_individual.evaluation_time,\n",
    "            self.global_best_solution))    "
   ]
  },
  {
   "cell_type": "code",
   "execution_count": 52,
   "metadata": {
    "collapsed": true
   },
   "outputs": [],
   "source": [
    "# hypter-parameters\n",
    "max_generations = 5\n",
    "population_size = 10\n",
    "mutation_rate = 0.05"
   ]
  },
  {
   "cell_type": "code",
   "execution_count": 53,
   "metadata": {
    "collapsed": true
   },
   "outputs": [],
   "source": [
    "def execute(max_generations, population_size, mutation_rate, display_interval=1):\n",
    "    population = Population(population_size, max_generations)\n",
    "    population.generate()\n",
    "    while not population.found_solution() and population.generation < max_generations:\n",
    "        population.evolve_generation()\n",
    "        if population.generation % display_interval == 0:\n",
    "            population.print_score()\n",
    "    best_individual = population.global_best_individual\n",
    "    print('\\nCompleted {} generations:\\nFinal score: {}, Generation: {}'.format(\n",
    "        population.generation, \n",
    "        best_individual.score, \n",
    "        best_individual.generation))"
   ]
  },
  {
   "cell_type": "code",
   "execution_count": null,
   "metadata": {
    "scrolled": true
   },
   "outputs": [],
   "source": [
    "execute(max_generations, population_size, mutation_rate)"
   ]
  },
  {
   "cell_type": "markdown",
   "metadata": {},
   "source": [
    "## Train Network"
   ]
  },
  {
   "cell_type": "code",
   "execution_count": 26,
   "metadata": {
    "collapsed": true
   },
   "outputs": [],
   "source": [
    "tf.reset_default_graph()\n",
    "\n",
    "# 92, 0.002, 0.8, 3, 64, 3, 32\n",
    "# 256, 0.003, 0.6, 3, 92, 5, 64\n",
    "# 64, 0.0005, 0.9, 3, 64, 4, 64\n",
    "epochs = 10\n",
    "batch_size = 64\n",
    "learning_rate = 0.0005\n",
    "keep_probability = .9\n",
    "l1_kernel = 3\n",
    "l1_depth = 64\n",
    "l2_kernel = 4\n",
    "l2_depth = 64"
   ]
  },
  {
   "cell_type": "code",
   "execution_count": 27,
   "metadata": {},
   "outputs": [
    {
     "name": "stdout",
     "output_type": "stream",
     "text": [
      "Training...\n",
      "Epoch 10/10, CIFAR-10 Batch 5 | Train Acc: 0.77 Loss: 0.683 | Valid Acc: 0.64 Loss: 1.05\r"
     ]
    }
   ],
   "source": [
    "save_model_path = './image_classification'\n",
    "\n",
    "print('Training...')\n",
    "with tf.Session() as sess:\n",
    "    net = Network(l1_kernel=l1_kernel, \n",
    "                  l1_depth=l1_depth, \n",
    "                  l2_kernel=l2_kernel, \n",
    "                  l2_depth=l2_depth)\n",
    "    # Initializing the variables\n",
    "    sess.run(tf.global_variables_initializer())\n",
    "    \n",
    "    # Training cycle\n",
    "    for epoch in range(epochs):\n",
    "        # Loop over all batches\n",
    "        n_batches = 5\n",
    "        for batch_i in range(1, n_batches + 1):\n",
    "            for batch_features, batch_labels in helper.load_preprocess_training_batch(batch_i, batch_size):\n",
    "                fd = {net.x:batch_features, net.y:batch_labels, net.keep_prob:keep_probability, net.learning_rate:learning_rate}\n",
    "                sess.run(net.optimizer, feed_dict=fd)\n",
    "            print_stats(sess, net, epochs, epoch + 1, batch_i, batch_features, batch_labels)\n",
    "            \n",
    "    # Save Model\n",
    "    saver = tf.train.Saver()\n",
    "    save_path = saver.save(sess, save_model_path)"
   ]
  },
  {
   "cell_type": "markdown",
   "metadata": {},
   "source": [
    "## Test Model"
   ]
  },
  {
   "cell_type": "code",
   "execution_count": 29,
   "metadata": {},
   "outputs": [
    {
     "name": "stdout",
     "output_type": "stream",
     "text": [
      "INFO:tensorflow:Restoring parameters from ./image_classification\n",
      "Testing Accuracy: 0.6319665605095541\n",
      "\n"
     ]
    },
    {
     "data": {
      "image/png": "[encoded data removed]",
      "text/plain": [
       "<matplotlib.figure.Figure at 0x7f6d65891048>"
      ]
     },
     "metadata": {
      "image/png": {
       "height": 319,
       "width": 355
      }
     },
     "output_type": "display_data"
    }
   ],
   "source": [
    "# Set batch size if not already set\n",
    "try:\n",
    "    if batch_size:\n",
    "        pass\n",
    "except NameError:\n",
    "    batch_size = 64\n",
    "\n",
    "save_model_path = './image_classification'\n",
    "n_samples = 4\n",
    "top_n_predictions = 3\n",
    "\n",
    "def test_model():\n",
    "    test_features, test_labels = pickle.load(open('preprocess_test.p', mode='rb'))\n",
    "    loaded_graph = tf.Graph()\n",
    "\n",
    "    with tf.Session(graph=loaded_graph) as sess:\n",
    "        # Load model\n",
    "        loader = tf.train.import_meta_graph(save_model_path + '.meta')\n",
    "        loader.restore(sess, save_model_path)\n",
    "\n",
    "        # Get Tensors from loaded model\n",
    "        loaded_x = loaded_graph.get_tensor_by_name('x:0')\n",
    "        loaded_y = loaded_graph.get_tensor_by_name('y:0')\n",
    "        loaded_keep_prob = loaded_graph.get_tensor_by_name('keep_prob:0')\n",
    "        loaded_logits = loaded_graph.get_tensor_by_name('logits:0')\n",
    "        loaded_acc = loaded_graph.get_tensor_by_name('accuracy:0')\n",
    "        \n",
    "        # Get accuracy in batches for memory limitations\n",
    "        test_batch_acc_total = 0\n",
    "        test_batch_count = 0\n",
    "        \n",
    "        for test_feature_batch, test_label_batch in helper.batch_features_labels(test_features, test_labels, batch_size):\n",
    "            test_batch_acc_total += sess.run(\n",
    "                loaded_acc,\n",
    "                feed_dict={loaded_x: test_feature_batch, loaded_y: test_label_batch, loaded_keep_prob: 1.0})\n",
    "            test_batch_count += 1\n",
    "\n",
    "        print('Testing Accuracy: {}\\n'.format(test_batch_acc_total/test_batch_count))\n",
    "\n",
    "        # Print Random Samples\n",
    "        random_test_features, random_test_labels = tuple(zip(*random.sample(list(zip(test_features, test_labels)), n_samples)))\n",
    "        random_test_predictions = sess.run(\n",
    "            tf.nn.top_k(tf.nn.softmax(loaded_logits), top_n_predictions),\n",
    "            feed_dict={loaded_x: random_test_features, loaded_y: random_test_labels, loaded_keep_prob: 1.0})\n",
    "        helper.display_image_predictions(random_test_features, random_test_labels, random_test_predictions)\n",
    "\n",
    "test_model()"
   ]
  },
  {
   "cell_type": "code",
   "execution_count": null,
   "metadata": {
    "collapsed": true
   },
   "outputs": [],
   "source": []
  }
 ],
 "metadata": {
  "kernelspec": {
   "display_name": "Python 3",
   "language": "python",
   "name": "python3"
  },
  "language_info": {
   "codemirror_mode": {
    "name": "ipython",
    "version": 3
   },
   "file_extension": ".py",
   "mimetype": "text/x-python",
   "name": "python",
   "nbconvert_exporter": "python",
   "pygments_lexer": "ipython3",
   "version": "3.6.2"
  }
 },
 "nbformat": 4,
 "nbformat_minor": 2
}

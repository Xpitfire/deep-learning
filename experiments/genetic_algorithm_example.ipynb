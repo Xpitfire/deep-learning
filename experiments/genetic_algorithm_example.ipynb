{
 "cells": [
  {
   "cell_type": "code",
   "execution_count": 445,
   "metadata": {
    "collapsed": true
   },
   "outputs": [],
   "source": [
    "import numpy as np\n",
    "from operator import attrgetter\n",
    "import string\n",
    "import random"
   ]
  },
  {
   "cell_type": "code",
   "execution_count": 545,
   "metadata": {},
   "outputs": [],
   "source": [
    "class Individual(object):\n",
    "    \n",
    "    def __init__(self, gene=None, mutation_rate=0.01):\n",
    "        self.mutation_rate = mutation_rate\n",
    "        self.letters = '0123456789ABCDEFGHIJKLMNOPQRSTUVWXYZabcdefghijklmnopqrstuvwxyz!?.,;- '\n",
    "        self.gene = gene\n",
    "        self.score = 0\n",
    "        if gene == None:\n",
    "            self.gene_length = 0\n",
    "        else:\n",
    "            self.gene_length = len(self.gene)\n",
    "        \n",
    "    def generate(self, gene_length):\n",
    "        self.gene = [random.choice(self.letters) for _ in range(gene_length)]\n",
    "        self.gene_length = len(self.gene)\n",
    "        \n",
    "    def fitness(self, target):\n",
    "        assert len(target) == len(self.gene)\n",
    "        self.score = 0\n",
    "        index = 0\n",
    "        while index < len(target):\n",
    "            if self.gene[index] == target[index]:\n",
    "                self.score += 1\n",
    "            index += 1\n",
    "        self.score /= len(target)\n",
    "        \n",
    "    def cross_over(self, parent):\n",
    "        cross_over_point = len(self.gene) // 2\n",
    "        child = []\n",
    "        for i in range(0, cross_over_point):\n",
    "            child.append(self.gene[i])\n",
    "        for i in range(cross_over_point, self.gene_length):\n",
    "            child.append(parent.gene[i])\n",
    "        return Individual(gene=child, mutation_rate=self.mutation_rate)\n",
    "        \n",
    "    def mutate(self):\n",
    "        for i in range(self.gene_length):\n",
    "            prob = np.random.random_sample()\n",
    "            if prob > self.mutation_rate:\n",
    "                continue\n",
    "            self.gene[i] = random.choice(self.letters)\n",
    "    "
   ]
  },
  {
   "cell_type": "code",
   "execution_count": 570,
   "metadata": {},
   "outputs": [],
   "source": [
    "class Population(object):\n",
    "    \n",
    "    def __init__(self, target, \n",
    "                 initial_population=200, \n",
    "                 max_generations=1000,\n",
    "                 mutation_rate=0.01, \n",
    "                 elitism=True,\n",
    "                 tournament_size=4,\n",
    "                 solution_threshold=1.0):\n",
    "        self.target = target\n",
    "        self.target_length = len(target)\n",
    "        self.initial_population = initial_population\n",
    "        self.max_generations = max_generations\n",
    "        self.mutation_rate = mutation_rate\n",
    "        self.elitism = elitism\n",
    "        self.tournament_size = tournament_size\n",
    "        self.solution_threshold = solution_threshold\n",
    "        self.best_individual = None\n",
    "        self.best_solution = 0.0\n",
    "        self.generation = 0\n",
    "        self.population = []\n",
    "        \n",
    "    def _evaluate_fitnesses_(self):\n",
    "        for p in self.population:\n",
    "            p.fitness(target)\n",
    "        self.best_solution = self.evaluate_best_individual().score\n",
    "        self.best_individual = self.evaluate_best_individual()\n",
    "\n",
    "    def _perform_tournament_selection_(self):\n",
    "        tournament = Population(target)\n",
    "        for _ in range(self.tournament_size):\n",
    "            i = random.choice(self.population)\n",
    "            tournament.add_individual(i)\n",
    "        return tournament.evaluate_best_individual()\n",
    "    \n",
    "    def generate(self):\n",
    "        assert self.initial_population % 2 == 0\n",
    "        self.population = [Individual(mutation_rate=self.mutation_rate) for _ in range(self.initial_population)]\n",
    "        for p in self.population:\n",
    "            p.generate(self.target_length)\n",
    "    \n",
    "    def evolve_generation(self):\n",
    "        children_genes = []\n",
    "        self._evaluate_fitnesses_()  \n",
    "        \n",
    "        if self.elitism:\n",
    "            children_genes.append(self.best_individual)\n",
    "            \n",
    "        for _ in range(self.initial_population):\n",
    "            # perform selection\n",
    "            male = self._perform_tournament_selection_()\n",
    "            female = self._perform_tournament_selection_()\n",
    "            # perform cross-over\n",
    "            new_individual = male.cross_over(female)\n",
    "            # perform mutation\n",
    "            new_individual.mutate()\n",
    "            children_genes.append(new_individual)\n",
    "            \n",
    "        self.population = children_genes\n",
    "        self.generation += 1\n",
    "            \n",
    "    def evaluate_best_individual(self):\n",
    "        return max(self.population, key=attrgetter('score'))\n",
    "    \n",
    "    def found_solution(self):\n",
    "        return self.best_solution >= self.solution_threshold\n",
    "    \n",
    "    def add_individual(self, individual):\n",
    "        self.population.append(individual)\n",
    "    \n",
    "    def print_score(self):\n",
    "        print('Generation: {}/{}, Best solution score: {:1.2%}, Text: {}'.format(\n",
    "            self.generation, \n",
    "            self.max_generations,\n",
    "            self.best_solution,\n",
    "            ''.join(self.evaluate_best_individual().gene)), end='\\r')    "
   ]
  },
  {
   "cell_type": "code",
   "execution_count": 571,
   "metadata": {
    "collapsed": true
   },
   "outputs": [],
   "source": [
    "target = 'This is a genetic algorithm test phrase and it works quite well!'\n",
    "\n",
    "# hypter-parameters\n",
    "max_generations = 1000\n",
    "population_size = 200\n",
    "mutation_rate = 0.01"
   ]
  },
  {
   "cell_type": "code",
   "execution_count": 572,
   "metadata": {
    "collapsed": true
   },
   "outputs": [],
   "source": [
    "def execute(target, max_generations, population_size, mutation_rate, display_interval=10):\n",
    "    population = Population(target, population_size, max_generations)\n",
    "    population.generate()\n",
    "    while not population.found_solution() and population.generation < max_generations:\n",
    "        population.evolve_generation()\n",
    "        if population.generation % display_interval == 0:\n",
    "            population.print_score()\n",
    "    best_individual = population.best_individual\n",
    "    print('\\nGenerations: {}, Final result: {}'.format(population.generation, ''.join(best_individual.gene)))"
   ]
  },
  {
   "cell_type": "code",
   "execution_count": 573,
   "metadata": {
    "scrolled": true
   },
   "outputs": [
    {
     "name": "stdout",
     "output_type": "stream",
     "text": [
      "Generation: 450/1000, Best solution score: 98.44%, Text: This is a genetic algorithm test phrase and it works quiie well!\n",
      "Generations: 452, Final result: This is a genetic algorithm test phrase and it works quite well!\n"
     ]
    }
   ],
   "source": [
    "execute(target, max_generations, population_size, mutation_rate)"
   ]
  },
  {
   "cell_type": "code",
   "execution_count": null,
   "metadata": {
    "collapsed": true
   },
   "outputs": [],
   "source": []
  }
 ],
 "metadata": {
  "kernelspec": {
   "display_name": "Python [conda root]",
   "language": "python",
   "name": "conda-root-py"
  },
  "language_info": {
   "codemirror_mode": {
    "name": "ipython",
    "version": 3
   },
   "file_extension": ".py",
   "mimetype": "text/x-python",
   "name": "python",
   "nbconvert_exporter": "python",
   "pygments_lexer": "ipython3",
   "version": "3.6.1"
  }
 },
 "nbformat": 4,
 "nbformat_minor": 2
}

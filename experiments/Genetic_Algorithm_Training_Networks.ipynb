{
 "cells": [
  {
   "cell_type": "markdown",
   "metadata": {
    "collapsed": true
   },
   "source": [
    "# Neural Network"
   ]
  },
  {
   "cell_type": "markdown",
   "metadata": {},
   "source": [
    "## Load Data"
   ]
  },
  {
   "cell_type": "code",
   "execution_count": 1,
   "metadata": {
    "collapsed": true
   },
   "outputs": [],
   "source": [
    "from timeit import default_timer as timer\n",
    "from urllib.request import urlretrieve\n",
    "from os.path import isfile, isdir\n",
    "from tqdm import tqdm\n",
    "import tarfile\n",
    "\n",
    "%matplotlib inline\n",
    "%config InlineBackend.figure_format = 'retina'\n",
    "\n",
    "import helper\n",
    "import numpy as np\n",
    "import tensorflow as tf"
   ]
  },
  {
   "cell_type": "code",
   "execution_count": 2,
   "metadata": {
    "collapsed": true
   },
   "outputs": [],
   "source": [
    "cifar10_dataset_folder_path = 'cifar-10-batches-py'\n",
    "tar_gz_path = 'cifar-10-python.tar.gz'\n",
    "\n",
    "class DLProgress(tqdm):\n",
    "    last_block = 0\n",
    "\n",
    "    def hook(self, block_num=1, block_size=1, total_size=None):\n",
    "        self.total = total_size\n",
    "        self.update((block_num - self.last_block) * block_size)\n",
    "        self.last_block = block_num\n",
    "\n",
    "if not isfile(tar_gz_path):\n",
    "    with DLProgress(unit='B', unit_scale=True, miniters=1, desc='CIFAR-10 Dataset') as pbar:\n",
    "        urlretrieve(\n",
    "            'https://www.cs.toronto.edu/~kriz/cifar-10-python.tar.gz',\n",
    "            tar_gz_path,\n",
    "            pbar.hook)\n",
    "\n",
    "if not isdir(cifar10_dataset_folder_path):\n",
    "    with tarfile.open(tar_gz_path) as tar:\n",
    "        tar.extractall()\n",
    "        tar.close()"
   ]
  },
  {
   "cell_type": "code",
   "execution_count": 3,
   "metadata": {},
   "outputs": [
    {
     "name": "stdout",
     "output_type": "stream",
     "text": [
      "\n",
      "Stats of batch 4:\n",
      "Samples: 10000\n",
      "Label Counts: {0: 1003, 1: 963, 2: 1041, 3: 976, 4: 1004, 5: 1021, 6: 1004, 7: 981, 8: 1024, 9: 983}\n",
      "First 20 Labels: [0, 6, 0, 2, 7, 2, 1, 2, 4, 1, 5, 6, 6, 3, 1, 3, 5, 5, 8, 1]\n",
      "\n",
      "Example of Image 7:\n",
      "Image - Min Value: 17 Max Value: 221\n",
      "Image - Shape: (32, 32, 3)\n",
      "Label - Label Id: 2 Name: bird\n"
     ]
    },
    {
     "data": {
      "image/png": "[encoded data removed]",
      "text/plain": [
       "<matplotlib.figure.Figure at 0x7fbf2eab0da0>"
      ]
     },
     "metadata": {
      "image/png": {
       "height": 250,
       "width": 253
      }
     },
     "output_type": "display_data"
    }
   ],
   "source": [
    "# Explore the dataset\n",
    "batch_id = 4\n",
    "sample_id = 7\n",
    "batch_size = 5\n",
    "image_sizes = 32\n",
    "image_channels = 3\n",
    "helper.display_stats(cifar10_dataset_folder_path, batch_id, sample_id)"
   ]
  },
  {
   "cell_type": "markdown",
   "metadata": {},
   "source": [
    "## Preprocess Data"
   ]
  },
  {
   "cell_type": "code",
   "execution_count": 4,
   "metadata": {
    "collapsed": true
   },
   "outputs": [],
   "source": [
    "def normalize(x):\n",
    "    x_min = np.min(x)\n",
    "    return (x - x_min)/(np.max(x) - x_min)\n",
    "\n",
    "def one_hot_encode(x):\n",
    "    encoder = tf.one_hot(x, 10)\n",
    "    encodings = None\n",
    "    with tf.Session() as sess:\n",
    "        encodings = sess.run(encoder)\n",
    "    return encodings"
   ]
  },
  {
   "cell_type": "code",
   "execution_count": 35,
   "metadata": {
    "collapsed": true,
    "scrolled": true
   },
   "outputs": [],
   "source": [
    "# Preprocess Training, Validation, and Testing Data\n",
    "helper.preprocess_and_save_data(cifar10_dataset_folder_path, normalize, one_hot_encode)"
   ]
  },
  {
   "cell_type": "markdown",
   "metadata": {},
   "source": [
    "## Check Point"
   ]
  },
  {
   "cell_type": "code",
   "execution_count": 4,
   "metadata": {
    "collapsed": true
   },
   "outputs": [],
   "source": [
    "import pickle\n",
    "import helper\n",
    "\n",
    "# Load the Preprocessed Validation data\n",
    "valid_features, valid_labels = pickle.load(open('preprocess_validation.p', mode='rb'))"
   ]
  },
  {
   "cell_type": "markdown",
   "metadata": {},
   "source": [
    "## Build Netwrok"
   ]
  },
  {
   "cell_type": "code",
   "execution_count": 5,
   "metadata": {
    "collapsed": true
   },
   "outputs": [],
   "source": [
    "# Remove previous weights, bias, inputs, etc..\n",
    "tf.reset_default_graph()"
   ]
  },
  {
   "cell_type": "code",
   "execution_count": 6,
   "metadata": {
    "collapsed": true
   },
   "outputs": [],
   "source": [
    "def leaky_relu(x, alpha):\n",
    "    return tf.maximum(x * alpha, x)\n",
    "\n",
    "def selu(x):\n",
    "    alpha = 1.6732632423543772848170429916717\n",
    "    scale = 1.0507009873554804934193349852946\n",
    "    tmp1 = scale * tf.nn.elu(x)\n",
    "    tmp2 = scale * alpha * (tf.nn.elu(-1*tf.nn.relu(-1*x)))\n",
    "    return tmp1 + tmp2"
   ]
  },
  {
   "cell_type": "code",
   "execution_count": 7,
   "metadata": {
    "collapsed": true
   },
   "outputs": [],
   "source": [
    "class Network(object):\n",
    "    \n",
    "    def __init__(self, l1_kernel=3, l1_depth=128, l2_kernel=3, l2_depth=64):\n",
    "        self.l1_kernel = l1_kernel\n",
    "        self.l1_depth = l1_depth\n",
    "        self.l2_kernel = l2_kernel\n",
    "        self.l2_depth = l2_depth\n",
    "        # Inputs\n",
    "        self.x, self.y, self.keep_prob, self.learning_rate = self.init_placeholders((32, 32, 3), 10)\n",
    "        # Model\n",
    "        logits = self.build()\n",
    "        # Name logits Tensor, so that is can be loaded from disk after training\n",
    "        logits = tf.identity(logits, name='logits')\n",
    "        # Loss and Optimizer\n",
    "        self.cost = tf.reduce_mean(tf.nn.softmax_cross_entropy_with_logits(logits=logits, labels=self.y))\n",
    "        self.optimizer = tf.train.AdamOptimizer(learning_rate=self.learning_rate).minimize(self.cost)\n",
    "        # Accuracy\n",
    "        correct_pred = tf.equal(tf.argmax(logits, 1), tf.argmax(self.y, 1))\n",
    "        self.accuracy = tf.reduce_mean(tf.cast(correct_pred, tf.float32), name='accuracy')\n",
    "\n",
    "    def init_placeholders(self, image_shape, n_classes):\n",
    "        height, width, depth = image_shape\n",
    "        x = tf.placeholder(tf.float32, [None, height, width, depth], name='x')\n",
    "        y = tf.placeholder(tf.float32, [None, n_classes], name='y')\n",
    "        keep_prob = tf.placeholder(tf.float32, name='keep_prob')\n",
    "        learning_rate = tf.placeholder(tf.float32, name='learning_rate')\n",
    "        return x, y, keep_prob, learning_rate\n",
    "\n",
    "    def build(self):\n",
    "        l1 = tf.layers.conv2d(self.x, self.l1_depth, kernel_size=self.l1_kernel, strides=2, padding='same')\n",
    "        l1_act = selu(l1)\n",
    "        l1_drop = tf.nn.dropout(l1_act, keep_prob=self.keep_prob)\n",
    "\n",
    "        l2 = tf.layers.conv2d(l1_drop, self.l2_depth, kernel_size=self.l2_kernel, strides=2, padding='same')\n",
    "        l2_act = selu(l2)\n",
    "        l2_drop = tf.nn.dropout(l2_act, keep_prob=self.keep_prob)\n",
    "\n",
    "        l3 = tf.layers.conv2d(l2_drop, 64, 3, padding='same')\n",
    "        l3_act = selu(l3)\n",
    "\n",
    "        lfc = tf.reshape(l3_act, (-1, 8*8*64))\n",
    "\n",
    "        logits = tf.layers.dense(lfc, 10)\n",
    "        return logits"
   ]
  },
  {
   "cell_type": "code",
   "execution_count": 8,
   "metadata": {
    "collapsed": true
   },
   "outputs": [],
   "source": [
    "def print_stats(session, net, total_epochs, epoch, batch_i, feature_batch, label_batch):\n",
    "    train_loss = session.run(net.cost, feed_dict={net.x:feature_batch, net.y:label_batch, net.keep_prob:1.})\n",
    "    valid_loss = session.run(net.cost, feed_dict={net.x:valid_features, net.y:valid_labels, net.keep_prob:1.})\n",
    "    train_accuracy = session.run(net.accuracy, feed_dict={net.x:feature_batch, net.y:label_batch, net.keep_prob:1.})\n",
    "    valid_accuracy = session.run(net.accuracy, feed_dict={net.x:valid_features, net.y:valid_labels, net.keep_prob:1.})\n",
    "    print('Epoch {:>2}/{:>2}, CIFAR-10 Batch {} | Train Acc: {:1.2} Loss: {:1.3} | Valid Acc: {:1.2} Loss: {:1.3}'.format(\n",
    "        epoch, total_epochs, batch_i, train_accuracy, train_loss, valid_accuracy, valid_loss), end='\\r')"
   ]
  },
  {
   "cell_type": "markdown",
   "metadata": {},
   "source": [
    "# Genetic Algorithm"
   ]
  },
  {
   "cell_type": "code",
   "execution_count": 9,
   "metadata": {
    "collapsed": true
   },
   "outputs": [],
   "source": [
    "import numpy as np\n",
    "from operator import attrgetter\n",
    "import string\n",
    "import random"
   ]
  },
  {
   "cell_type": "code",
   "execution_count": 10,
   "metadata": {
    "collapsed": true
   },
   "outputs": [],
   "source": [
    "class Individual(object):\n",
    "    \n",
    "    def __init__(self, gene=None, mutation_rate=0.01):\n",
    "        self.mutation_rate = mutation_rate\n",
    "        self.gene = gene\n",
    "        self.score = -1\n",
    "        self.evaluation_time = 0.0\n",
    "        \n",
    "        # define genotypes\n",
    "        self.genotype_batch = [16, 32, 64, 92, 128, 256]\n",
    "        self.genotype_learning_rate = [.01, .02, .03, .05, .001, .002, .003, .005, .0001, .0002, .0003, .0005]\n",
    "        self.genotype_keep_probab = [.4, .5, .6, .7, .8, .9, .95, .98]\n",
    "        self.genotype_conv2d_l1_kernel = [3, 5, 7]\n",
    "        self.genotype_conv2d_l1_depth = [32, 64, 92, 128, 256, 512]\n",
    "        self.genotype_conv2d_l2_kernel = [3, 5, 7]\n",
    "        self.genotype_conv2d_l2_depth = [32, 64, 92, 128, 256, 512]\n",
    "        \n",
    "        # define penalties\n",
    "        self.loss_mult = .1\n",
    "        self.accuracy_mult = 3\n",
    "        self.accuracy_delta_mult = 5\n",
    "        self.penalty = 99999\n",
    "        \n",
    "        self.network_epochs = 5\n",
    "        self.max_time = 50\n",
    "        \n",
    "        if gene == None:\n",
    "            self.gene_length = 0\n",
    "        else:\n",
    "            self.gene_length = len(self.gene)\n",
    "        \n",
    "    def generate(self):\n",
    "        self.gene = []\n",
    "        self.gene.append(random.choice(self.genotype_batch))\n",
    "        self.gene.append(random.choice(self.genotype_learning_rate))\n",
    "        self.gene.append(random.choice(self.genotype_keep_probab))\n",
    "        self.gene.append(random.choice(self.genotype_conv2d_l1_kernel))\n",
    "        self.gene.append(random.choice(self.genotype_conv2d_l1_depth))\n",
    "        self.gene.append(random.choice(self.genotype_conv2d_l2_kernel))\n",
    "        self.gene.append(random.choice(self.genotype_conv2d_l2_depth))\n",
    "        self.gene_length = len(self.gene)\n",
    "        \n",
    "    def fitness(self):\n",
    "        self.score = 0\n",
    "        net = Network(l1_kernel=self.gene[3], \n",
    "                      l1_depth=self.gene[4],\n",
    "                      l2_kernel=self.gene[5], \n",
    "                      l2_depth=self.gene[6])\n",
    "        try:\n",
    "            batch_size = self.gene[0]\n",
    "            learning_rate = self.gene[1]\n",
    "            keep_probability = self.gene[2]\n",
    "            start = timer()\n",
    "            with tf.Session() as sess:\n",
    "                # Initializing the variables\n",
    "                sess.run(tf.global_variables_initializer())\n",
    "                # Training cycle\n",
    "                for epoch in range(self.network_epochs):\n",
    "                    # Loop over all batches\n",
    "                    n_batches = 1\n",
    "                    for batch_i in range(1, n_batches + 1):\n",
    "                        for batch_features, batch_labels in helper.load_preprocess_training_batch(batch_i, batch_size):\n",
    "                            fd = {net.x:batch_features, \n",
    "                                  net.y:batch_labels, \n",
    "                                  net.keep_prob:keep_probability, \n",
    "                                  net.learning_rate:learning_rate}\n",
    "                            sess.run(net.optimizer, feed_dict=fd)\n",
    "                        print_stats(sess, net, self.network_epochs, epoch + 1, batch_i, batch_features, batch_labels)\n",
    "                    if (timer() - start) > self.max_time:\n",
    "                        raise TimeoutError('Dropped Individual')\n",
    "                \n",
    "                end = timer()\n",
    "                self.evaluation_time = end - start\n",
    "                \n",
    "                train_loss = sess.run(net.cost, feed_dict={net.x:batch_features, net.y:batch_labels, net.keep_prob:1.})\n",
    "                valid_loss = sess.run(net.cost, feed_dict={net.x:valid_features, net.y:valid_labels, net.keep_prob:1.})\n",
    "                train_accuracy = sess.run(net.accuracy, feed_dict={net.x:batch_features, net.y:batch_labels, net.keep_prob:1.})\n",
    "                valid_accuracy = sess.run(net.accuracy, feed_dict={net.x:valid_features, net.y:valid_labels, net.keep_prob:1.})\n",
    "\n",
    "                self.score = (self.evaluation_time / 10) \\\n",
    "                    + train_loss*self.loss_mult \\\n",
    "                    + valid_loss*self.loss_mult \\\n",
    "                    + (1-train_accuracy)*self.accuracy_mult \\\n",
    "                    + (1-valid_accuracy)*self.accuracy_mult \\\n",
    "                    + np.abs(train_accuracy-valid_accuracy)*self.accuracy_delta_mult\n",
    "        except:\n",
    "            self.score = self.penalty\n",
    "            return\n",
    "\n",
    "    def cross_over(self, parent):\n",
    "        cross_over_point = len(self.gene) // 2\n",
    "        child = []\n",
    "        for i in range(0, cross_over_point):\n",
    "            child.append(self.gene[i])\n",
    "        for i in range(cross_over_point, self.gene_length):\n",
    "            child.append(parent.gene[i])\n",
    "        return Individual(gene=child, mutation_rate=self.mutation_rate)\n",
    "        \n",
    "    def mutate(self):\n",
    "        for i in range(self.gene_length):\n",
    "            prob = np.random.random_sample()\n",
    "            if prob <= self.mutation_rate:\n",
    "                continue\n",
    "            if i == 0:\n",
    "                # batch\n",
    "                val = np.random.randint(10, 101)\n",
    "                self.gene[0] += val\n",
    "            elif i == 1:\n",
    "                # learning rate\n",
    "                val = np.random.random()\n",
    "                self.gene[1] = val\n",
    "            elif i == 2:\n",
    "                # keep probability\n",
    "                val = np.random.random()\n",
    "                self.gene[2] = val\n",
    "            elif i == 3:\n",
    "                # conv2d l1 kernel\n",
    "                val = np.random.randint(1, 3)\n",
    "                self.gene[3] += val\n",
    "            elif i == 4:\n",
    "                # conv2d l1 depth\n",
    "                val = np.random.randint(2, 17)\n",
    "                self.gene[4] += val\n",
    "            elif i == 5:\n",
    "                # conv2d l2 kernel\n",
    "                val = np.random.randint(1, 3)\n",
    "                self.gene[5] += val\n",
    "            elif i == 6:\n",
    "                # conv2d l2 depth\n",
    "                val = np.random.randint(2, 17)\n",
    "                self.gene[6] += val\n",
    "            else:\n",
    "                raise NotImplementedError('Unknown genotype')\n"
   ]
  },
  {
   "cell_type": "code",
   "execution_count": 11,
   "metadata": {
    "collapsed": true
   },
   "outputs": [],
   "source": [
    "class Population(object):\n",
    "    \n",
    "    def __init__(self,\n",
    "                 initial_population=200, \n",
    "                 max_generations=1000,\n",
    "                 mutation_rate=0.01, \n",
    "                 elitism=True,\n",
    "                 tournament_size=4,\n",
    "                 solution_threshold=1.0):\n",
    "        self.initial_population = initial_population\n",
    "        self.max_generations = max_generations\n",
    "        self.mutation_rate = mutation_rate\n",
    "        self.elitism = elitism\n",
    "        self.tournament_size = tournament_size\n",
    "        self.solution_threshold = solution_threshold\n",
    "        self.time_elapsed = 0.0\n",
    "        self.global_best_individual = None\n",
    "        self.global_best_solution = 88888\n",
    "        self.current_best_individual = None\n",
    "        self.current_best_solution = 88888\n",
    "        self.generation = 0\n",
    "        self.population = []\n",
    "        \n",
    "    def _evaluate_fitnesses_(self):\n",
    "        for p in self.population:\n",
    "            if p.score < 0:\n",
    "                p.fitness()\n",
    "                self.time_elapsed += p.evaluation_time\n",
    "        self.current_best_individual = self.evaluate_current_best_individual()\n",
    "        self.current_best_solution = self.current_best_individual.score\n",
    "        if self.global_best_individual == None or self.global_best_solution > self.current_best_solution:\n",
    "            self.global_best_individual = self.current_best_individual\n",
    "            self.global_best_solution = self.current_best_solution\n",
    "\n",
    "    def _perform_tournament_selection_(self):\n",
    "        tournament = Population()\n",
    "        for _ in range(self.tournament_size):\n",
    "            i = random.choice(self.population)\n",
    "            tournament.add_individual(i)\n",
    "        return tournament.evaluate_current_best_individual()\n",
    "    \n",
    "    def generate(self):\n",
    "        assert self.initial_population % 2 == 0\n",
    "        self.population = [Individual(mutation_rate=self.mutation_rate) for _ in range(self.initial_population)]\n",
    "        for p in self.population:\n",
    "            p.generate()\n",
    "    \n",
    "    def evolve_generation(self):\n",
    "        children_genes = []\n",
    "        self._evaluate_fitnesses_()  \n",
    "        \n",
    "        if self.elitism:\n",
    "            children_genes.append(self.current_best_individual)\n",
    "            \n",
    "        for _ in range(self.initial_population):\n",
    "            # perform selection\n",
    "            male = self._perform_tournament_selection_()\n",
    "            female = self._perform_tournament_selection_()\n",
    "            # perform cross-over\n",
    "            new_individual = male.cross_over(female)\n",
    "            # perform mutation\n",
    "            new_individual.mutate()\n",
    "            children_genes.append(new_individual)\n",
    "            \n",
    "        self.population = children_genes\n",
    "        self.generation += 1\n",
    "            \n",
    "    def evaluate_current_best_individual(self):\n",
    "        return min(self.population, key=attrgetter('score'))\n",
    "    \n",
    "    def found_solution(self):\n",
    "        return self.global_best_solution < self.solution_threshold\n",
    "    \n",
    "    def add_individual(self, individual):\n",
    "        self.population.append(individual)\n",
    "    \n",
    "    def print_score(self):\n",
    "        print('Generation: {}/{}, Time {:2.2}s, Solution score: {}, Individual: {}'.format(\n",
    "            self.generation, \n",
    "            self.max_generations,\n",
    "            self.global_best_individual.evaluation_time,\n",
    "            self.global_best_solution,\n",
    "            self.global_best_individual.gene))    "
   ]
  },
  {
   "cell_type": "code",
   "execution_count": 12,
   "metadata": {
    "collapsed": true
   },
   "outputs": [],
   "source": [
    "# hypter-parameters\n",
    "max_generations = 100\n",
    "population_size = 100\n",
    "mutation_rate = 0.05"
   ]
  },
  {
   "cell_type": "code",
   "execution_count": 13,
   "metadata": {
    "collapsed": true
   },
   "outputs": [],
   "source": [
    "def execute(max_generations, population_size, mutation_rate, display_interval=1):\n",
    "    population = Population(population_size, max_generations)\n",
    "    population.generate()\n",
    "    while not population.found_solution() and population.generation < max_generations:\n",
    "        population.evolve_generation()\n",
    "        if population.generation % display_interval == 0:\n",
    "            population.print_score()\n",
    "    best_individual = population.global_best_individual\n",
    "    print('\\nGenerations: {}, Final score: {}, Final result: {}'.format(population.generation, best_individual.score, best_individual.gene))"
   ]
  },
  {
   "cell_type": "code",
   "execution_count": null,
   "metadata": {
    "scrolled": false
   },
   "outputs": [
    {
     "name": "stdout",
     "output_type": "stream",
     "text": [
      "Generation: 1/100, Time 8.9s, Solution score: 4.49126531463059, Individual: [92, 0.002, 0.8, 3, 64, 3, 32]\n",
      "Epoch  5/ 5, CIFAR-10 Batch 1 | Train Acc: 0.12 Loss: 4.7e+04 | Valid Acc: 0.1 Loss: 4.78e+044044\r"
     ]
    }
   ],
   "source": [
    "execute(max_generations, population_size, mutation_rate)"
   ]
  },
  {
   "cell_type": "markdown",
   "metadata": {},
   "source": [
    "## Train Network"
   ]
  },
  {
   "cell_type": "code",
   "execution_count": 10,
   "metadata": {
    "collapsed": true
   },
   "outputs": [],
   "source": [
    "epochs = 10\n",
    "batch_size = 128\n",
    "learning_rate = 0.0003\n",
    "keep_probability = 1.\n",
    "l1_kernel = 3\n",
    "l1_depth = 128\n",
    "l2_kernel = 3\n",
    "l2_depth = 92"
   ]
  },
  {
   "cell_type": "code",
   "execution_count": 11,
   "metadata": {},
   "outputs": [
    {
     "name": "stdout",
     "output_type": "stream",
     "text": [
      "Training...\n",
      "Epoch 10/10, CIFAR-10 Batch 5 | Train Acc: 0.85 Loss: 0.582 | Valid Acc: 0.62 Loss: 1.07\r"
     ]
    }
   ],
   "source": [
    "save_model_path = './image_classification'\n",
    "\n",
    "print('Training...')\n",
    "with tf.Session() as sess:\n",
    "    net = Network(l1_kernel=l1_kernel, \n",
    "                  l1_depth=l1_depth, \n",
    "                  l2_kernel=l2_kernel, \n",
    "                  l2_depth=l2_depth)\n",
    "    # Initializing the variables\n",
    "    sess.run(tf.global_variables_initializer())\n",
    "    \n",
    "    # Training cycle\n",
    "    for epoch in range(epochs):\n",
    "        # Loop over all batches\n",
    "        n_batches = 5\n",
    "        for batch_i in range(1, n_batches + 1):\n",
    "            for batch_features, batch_labels in helper.load_preprocess_training_batch(batch_i, batch_size):\n",
    "                fd = {net.x:batch_features, net.y:batch_labels, net.keep_prob:keep_probability, net.learning_rate:learning_rate}\n",
    "                sess.run(net.optimizer, feed_dict=fd)\n",
    "            print_stats(sess, net, epochs, epoch + 1, batch_i, batch_features, batch_labels)\n",
    "            \n",
    "    # Save Model\n",
    "    saver = tf.train.Saver()\n",
    "    save_path = saver.save(sess, save_model_path)"
   ]
  },
  {
   "cell_type": "markdown",
   "metadata": {},
   "source": [
    "## Test Model"
   ]
  },
  {
   "cell_type": "code",
   "execution_count": 20,
   "metadata": {},
   "outputs": [
    {
     "name": "stdout",
     "output_type": "stream",
     "text": [
      "INFO:tensorflow:Restoring parameters from ./image_classification\n",
      "Testing Accuracy: 0.624307753164557\n",
      "\n"
     ]
    },
    {
     "data": {
      "image/png": "[encoded data removed]",
      "text/plain": [
       "<matplotlib.figure.Figure at 0x7f81ea3b1470>"
      ]
     },
     "metadata": {
      "image/png": {
       "height": 319,
       "width": 355
      }
     },
     "output_type": "display_data"
    }
   ],
   "source": [
    "# Set batch size if not already set\n",
    "try:\n",
    "    if batch_size:\n",
    "        pass\n",
    "except NameError:\n",
    "    batch_size = 64\n",
    "\n",
    "save_model_path = './image_classification'\n",
    "n_samples = 4\n",
    "top_n_predictions = 3\n",
    "\n",
    "def test_model():\n",
    "    test_features, test_labels = pickle.load(open('preprocess_test.p', mode='rb'))\n",
    "    loaded_graph = tf.Graph()\n",
    "\n",
    "    with tf.Session(graph=loaded_graph) as sess:\n",
    "        # Load model\n",
    "        loader = tf.train.import_meta_graph(save_model_path + '.meta')\n",
    "        loader.restore(sess, save_model_path)\n",
    "\n",
    "        # Get Tensors from loaded model\n",
    "        loaded_x = loaded_graph.get_tensor_by_name('x:0')\n",
    "        loaded_y = loaded_graph.get_tensor_by_name('y:0')\n",
    "        loaded_keep_prob = loaded_graph.get_tensor_by_name('keep_prob:0')\n",
    "        loaded_logits = loaded_graph.get_tensor_by_name('logits:0')\n",
    "        loaded_acc = loaded_graph.get_tensor_by_name('accuracy:0')\n",
    "        \n",
    "        # Get accuracy in batches for memory limitations\n",
    "        test_batch_acc_total = 0\n",
    "        test_batch_count = 0\n",
    "        \n",
    "        for test_feature_batch, test_label_batch in helper.batch_features_labels(test_features, test_labels, batch_size):\n",
    "            test_batch_acc_total += sess.run(\n",
    "                loaded_acc,\n",
    "                feed_dict={loaded_x: test_feature_batch, loaded_y: test_label_batch, loaded_keep_prob: 1.0})\n",
    "            test_batch_count += 1\n",
    "\n",
    "        print('Testing Accuracy: {}\\n'.format(test_batch_acc_total/test_batch_count))\n",
    "\n",
    "        # Print Random Samples\n",
    "        random_test_features, random_test_labels = tuple(zip(*random.sample(list(zip(test_features, test_labels)), n_samples)))\n",
    "        random_test_predictions = sess.run(\n",
    "            tf.nn.top_k(tf.nn.softmax(loaded_logits), top_n_predictions),\n",
    "            feed_dict={loaded_x: random_test_features, loaded_y: random_test_labels, loaded_keep_prob: 1.0})\n",
    "        helper.display_image_predictions(random_test_features, random_test_labels, random_test_predictions)\n",
    "\n",
    "test_model()"
   ]
  },
  {
   "cell_type": "code",
   "execution_count": null,
   "metadata": {
    "collapsed": true
   },
   "outputs": [],
   "source": []
  }
 ],
 "metadata": {
  "kernelspec": {
   "display_name": "Python [conda root]",
   "language": "python",
   "name": "conda-root-py"
  },
  "language_info": {
   "codemirror_mode": {
    "name": "ipython",
    "version": 3
   },
   "file_extension": ".py",
   "mimetype": "text/x-python",
   "name": "python",
   "nbconvert_exporter": "python",
   "pygments_lexer": "ipython3",
   "version": "3.6.1"
  }
 },
 "nbformat": 4,
 "nbformat_minor": 2
}

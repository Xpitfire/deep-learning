{
 "cells": [
  {
   "cell_type": "markdown",
   "metadata": {
    "collapsed": true
   },
   "source": [
    "# Image Classification\n",
    "In this project, you'll classify images from the [CIFAR-10 dataset](https://www.cs.toronto.edu/~kriz/cifar.html).  The dataset consists of airplanes, dogs, cats, and other objects. You'll preprocess the images, then train a convolutional neural network on all the samples. The images need to be normalized and the labels need to be one-hot encoded.  You'll get to apply what you learned and build a convolutional, max pooling, dropout, and fully connected layers.  At the end, you'll get to see your neural network's predictions on the sample images.\n",
    "## Get the Data\n",
    "Run the following cell to download the [CIFAR-10 dataset for python](https://www.cs.toronto.edu/~kriz/cifar-10-python.tar.gz)."
   ]
  },
  {
   "cell_type": "code",
   "execution_count": 1,
   "metadata": {},
   "outputs": [
    {
     "name": "stdout",
     "output_type": "stream",
     "text": [
      "All files found!\n"
     ]
    }
   ],
   "source": [
    "\"\"\"\n",
    "DON'T MODIFY ANYTHING IN THIS CELL THAT IS BELOW THIS LINE\n",
    "\"\"\"\n",
    "from urllib.request import urlretrieve\n",
    "from os.path import isfile, isdir\n",
    "from tqdm import tqdm\n",
    "import problem_unittests as tests\n",
    "import tarfile\n",
    "\n",
    "cifar10_dataset_folder_path = 'cifar-10-batches-py'\n",
    "\n",
    "# Use Floyd's cifar-10 dataset if present\n",
    "floyd_cifar10_location = '/input/cifar-10/python.tar.gz'\n",
    "if isfile(floyd_cifar10_location):\n",
    "    tar_gz_path = floyd_cifar10_location\n",
    "else:\n",
    "    tar_gz_path = 'cifar-10-python.tar.gz'\n",
    "\n",
    "class DLProgress(tqdm):\n",
    "    last_block = 0\n",
    "\n",
    "    def hook(self, block_num=1, block_size=1, total_size=None):\n",
    "        self.total = total_size\n",
    "        self.update((block_num - self.last_block) * block_size)\n",
    "        self.last_block = block_num\n",
    "\n",
    "if not isfile(tar_gz_path):\n",
    "    with DLProgress(unit='B', unit_scale=True, miniters=1, desc='CIFAR-10 Dataset') as pbar:\n",
    "        urlretrieve(\n",
    "            'https://www.cs.toronto.edu/~kriz/cifar-10-python.tar.gz',\n",
    "            tar_gz_path,\n",
    "            pbar.hook)\n",
    "\n",
    "if not isdir(cifar10_dataset_folder_path):\n",
    "    with tarfile.open(tar_gz_path) as tar:\n",
    "        tar.extractall()\n",
    "        tar.close()\n",
    "\n",
    "\n",
    "tests.test_folder_path(cifar10_dataset_folder_path)"
   ]
  },
  {
   "cell_type": "markdown",
   "metadata": {},
   "source": [
    "## Explore the Data\n",
    "The dataset is broken into batches to prevent your machine from running out of memory.  The CIFAR-10 dataset consists of 5 batches, named `data_batch_1`, `data_batch_2`, etc.. Each batch contains the labels and images that are one of the following:\n",
    "* airplane\n",
    "* automobile\n",
    "* bird\n",
    "* cat\n",
    "* deer\n",
    "* dog\n",
    "* frog\n",
    "* horse\n",
    "* ship\n",
    "* truck\n",
    "\n",
    "Understanding a dataset is part of making predictions on the data.  Play around with the code cell below by changing the `batch_id` and `sample_id`. The `batch_id` is the id for a batch (1-5). The `sample_id` is the id for a image and label pair in the batch.\n",
    "\n",
    "Ask yourself \"What are all possible labels?\", \"What is the range of values for the image data?\", \"Are the labels in order or random?\".  Answers to questions like these will help you preprocess the data and end up with better predictions."
   ]
  },
  {
   "cell_type": "code",
   "execution_count": 2,
   "metadata": {},
   "outputs": [
    {
     "name": "stdout",
     "output_type": "stream",
     "text": [
      "\n",
      "Stats of batch 4:\n",
      "Samples: 10000\n",
      "Label Counts: {0: 1003, 1: 963, 2: 1041, 3: 976, 4: 1004, 5: 1021, 6: 1004, 7: 981, 8: 1024, 9: 983}\n",
      "First 20 Labels: [0, 6, 0, 2, 7, 2, 1, 2, 4, 1, 5, 6, 6, 3, 1, 3, 5, 5, 8, 1]\n",
      "\n",
      "Example of Image 7:\n",
      "Image - Min Value: 17 Max Value: 221\n",
      "Image - Shape: (32, 32, 3)\n",
      "Label - Label Id: 2 Name: bird\n"
     ]
    },
    {
     "data": {
      "image/png": "[encoded data removed]",
      "text/plain": [
       "<matplotlib.figure.Figure at 0x7fcaf7edb0f0>"
      ]
     },
     "metadata": {
      "image/png": {
       "height": 250,
       "width": 253
      }
     },
     "output_type": "display_data"
    }
   ],
   "source": [
    "%matplotlib inline\n",
    "%config InlineBackend.figure_format = 'retina'\n",
    "\n",
    "import helper\n",
    "import numpy as np\n",
    "\n",
    "# Explore the dataset\n",
    "batch_id = 4\n",
    "sample_id = 7\n",
    "batch_size = 5\n",
    "image_sizes = 32\n",
    "image_channels = 3\n",
    "helper.display_stats(cifar10_dataset_folder_path, batch_id, sample_id)"
   ]
  },
  {
   "cell_type": "markdown",
   "metadata": {},
   "source": [
    "## Implement Preprocess Functions\n",
    "### Normalize\n",
    "In the cell below, implement the `normalize` function to take in image data, `x`, and return it as a normalized Numpy array. The values should be in the range of 0 to 1, inclusive.  The return object should be the same shape as `x`."
   ]
  },
  {
   "cell_type": "code",
   "execution_count": 3,
   "metadata": {},
   "outputs": [
    {
     "name": "stdout",
     "output_type": "stream",
     "text": [
      "Tests Passed\n"
     ]
    }
   ],
   "source": [
    "def normalize(x):\n",
    "    \"\"\"\n",
    "    Normalize a list of sample image data in the range of 0 to 1\n",
    "    : x: List of image data.  The image shape is (32, 32, 3)\n",
    "    : return: Numpy array of normalize data\n",
    "    \"\"\"\n",
    "    # TODO: Implement Function\n",
    "    x_min = np.min(x)\n",
    "    return (x - x_min)/(np.max(x) - x_min)\n",
    "\n",
    "\n",
    "\"\"\"\n",
    "DON'T MODIFY ANYTHING IN THIS CELL THAT IS BELOW THIS LINE\n",
    "\"\"\"\n",
    "tests.test_normalize(normalize)"
   ]
  },
  {
   "cell_type": "markdown",
   "metadata": {},
   "source": [
    "### One-hot encode\n",
    "Just like the previous code cell, you'll be implementing a function for preprocessing.  This time, you'll implement the `one_hot_encode` function. The input, `x`, are a list of labels.  Implement the function to return the list of labels as One-Hot encoded Numpy array.  The possible values for labels are 0 to 9. The one-hot encoding function should return the same encoding for each value between each call to `one_hot_encode`.  Make sure to save the map of encodings outside the function.\n",
    "\n",
    "Hint: Don't reinvent the wheel."
   ]
  },
  {
   "cell_type": "code",
   "execution_count": 4,
   "metadata": {
    "scrolled": false
   },
   "outputs": [
    {
     "name": "stdout",
     "output_type": "stream",
     "text": [
      "Tests Passed\n"
     ]
    }
   ],
   "source": [
    "import tensorflow as tf\n",
    "\n",
    "def one_hot_encode(x):\n",
    "    \"\"\"\n",
    "    One hot encode a list of sample labels. Return a one-hot encoded vector for each label.\n",
    "    : x: List of sample Labels\n",
    "    : return: Numpy array of one-hot encoded labels\n",
    "    \"\"\"\n",
    "    # TODO: Implement Function\n",
    "    encoder = tf.one_hot(x, 10)\n",
    "    encodings = None\n",
    "    with tf.Session() as sess:\n",
    "        encodings = sess.run(encoder)\n",
    "    return encodings\n",
    "\n",
    "\"\"\"\n",
    "DON'T MODIFY ANYTHING IN THIS CELL THAT IS BELOW THIS LINE\n",
    "\"\"\"\n",
    "tests.test_one_hot_encode(one_hot_encode)"
   ]
  },
  {
   "cell_type": "markdown",
   "metadata": {},
   "source": [
    "### Randomize Data\n",
    "As you saw from exploring the data above, the order of the samples are randomized.  It doesn't hurt to randomize it again, but you don't need to for this dataset."
   ]
  },
  {
   "cell_type": "markdown",
   "metadata": {},
   "source": [
    "## Preprocess all the data and save it\n",
    "Running the code cell below will preprocess all the CIFAR-10 data and save it to file. The code below also uses 10% of the training data for validation."
   ]
  },
  {
   "cell_type": "code",
   "execution_count": 5,
   "metadata": {
    "collapsed": true
   },
   "outputs": [],
   "source": [
    "\"\"\"\n",
    "DON'T MODIFY ANYTHING IN THIS CELL\n",
    "\"\"\"\n",
    "# Preprocess Training, Validation, and Testing Data\n",
    "helper.preprocess_and_save_data(cifar10_dataset_folder_path, normalize, one_hot_encode)"
   ]
  },
  {
   "cell_type": "markdown",
   "metadata": {},
   "source": [
    "# Check Point\n",
    "This is your first checkpoint.  If you ever decide to come back to this notebook or have to restart the notebook, you can start from here.  The preprocessed data has been saved to disk."
   ]
  },
  {
   "cell_type": "code",
   "execution_count": 6,
   "metadata": {
    "collapsed": true
   },
   "outputs": [],
   "source": [
    "\"\"\"\n",
    "DON'T MODIFY ANYTHING IN THIS CELL\n",
    "\"\"\"\n",
    "import pickle\n",
    "import problem_unittests as tests\n",
    "import helper\n",
    "\n",
    "# Load the Preprocessed Validation data\n",
    "valid_features, valid_labels = pickle.load(open('preprocess_validation.p', mode='rb'))"
   ]
  },
  {
   "cell_type": "markdown",
   "metadata": {},
   "source": [
    "## Build the network\n",
    "For the neural network, you'll build each layer into a function.  Most of the code you've seen has been outside of functions. To test your code more thoroughly, we require that you put each layer in a function.  This allows us to give you better feedback and test for simple mistakes using our unittests before you submit your project.\n",
    "\n",
    ">**Note:** If you're finding it hard to dedicate enough time for this course each week, we've provided a small shortcut to this part of the project. In the next couple of problems, you'll have the option to use classes from the [TensorFlow Layers](https://www.tensorflow.org/api_docs/python/tf/layers) or [TensorFlow Layers (contrib)](https://www.tensorflow.org/api_guides/python/contrib.layers) packages to build each layer, except the layers you build in the \"Convolutional and Max Pooling Layer\" section.  TF Layers is similar to Keras's and TFLearn's abstraction to layers, so it's easy to pickup.\n",
    "\n",
    ">However, if you would like to get the most out of this course, try to solve all the problems _without_ using anything from the TF Layers packages. You **can** still use classes from other packages that happen to have the same name as ones you find in TF Layers! For example, instead of using the TF Layers version of the `conv2d` class, [tf.layers.conv2d](https://www.tensorflow.org/api_docs/python/tf/layers/conv2d), you would want to use the TF Neural Network version of `conv2d`, [tf.nn.conv2d](https://www.tensorflow.org/api_docs/python/tf/nn/conv2d). \n",
    "\n",
    "Let's begin!\n",
    "\n",
    "### Input\n",
    "The neural network needs to read the image data, one-hot encoded labels, and dropout keep probability. Implement the following functions\n",
    "* Implement `neural_net_image_input`\n",
    " * Return a [TF Placeholder](https://www.tensorflow.org/api_docs/python/tf/placeholder)\n",
    " * Set the shape using `image_shape` with batch size set to `None`.\n",
    " * Name the TensorFlow placeholder \"x\" using the TensorFlow `name` parameter in the [TF Placeholder](https://www.tensorflow.org/api_docs/python/tf/placeholder).\n",
    "* Implement `neural_net_label_input`\n",
    " * Return a [TF Placeholder](https://www.tensorflow.org/api_docs/python/tf/placeholder)\n",
    " * Set the shape using `n_classes` with batch size set to `None`.\n",
    " * Name the TensorFlow placeholder \"y\" using the TensorFlow `name` parameter in the [TF Placeholder](https://www.tensorflow.org/api_docs/python/tf/placeholder).\n",
    "* Implement `neural_net_keep_prob_input`\n",
    " * Return a [TF Placeholder](https://www.tensorflow.org/api_docs/python/tf/placeholder) for dropout keep probability.\n",
    " * Name the TensorFlow placeholder \"keep_prob\" using the TensorFlow `name` parameter in the [TF Placeholder](https://www.tensorflow.org/api_docs/python/tf/placeholder).\n",
    "\n",
    "These names will be used at the end of the project to load your saved model.\n",
    "\n",
    "Note: `None` for shapes in TensorFlow allow for a dynamic size."
   ]
  },
  {
   "cell_type": "code",
   "execution_count": 7,
   "metadata": {},
   "outputs": [
    {
     "name": "stdout",
     "output_type": "stream",
     "text": [
      "Image Input Tests Passed.\n",
      "Label Input Tests Passed.\n",
      "Keep Prob Tests Passed.\n"
     ]
    }
   ],
   "source": [
    "import tensorflow as tf\n",
    "\n",
    "def neural_net_image_input(image_shape):\n",
    "    \"\"\"\n",
    "    Return a Tensor for a batch of image input\n",
    "    : image_shape: Shape of the images\n",
    "    : return: Tensor for image input.\n",
    "    \"\"\"\n",
    "    # TODO: Implement Function\n",
    "    height, width, depth = image_shape\n",
    "    return tf.placeholder(tf.float32, [None, height, width, depth], name='x')\n",
    "\n",
    "\n",
    "def neural_net_label_input(n_classes):\n",
    "    \"\"\"\n",
    "    Return a Tensor for a batch of label input\n",
    "    : n_classes: Number of classes\n",
    "    : return: Tensor for label input.\n",
    "    \"\"\"\n",
    "    # TODO: Implement Function\n",
    "    return tf.placeholder(tf.float32, [None, n_classes], name='y')\n",
    "\n",
    "\n",
    "def neural_net_keep_prob_input():\n",
    "    \"\"\"\n",
    "    Return a Tensor for keep probability\n",
    "    : return: Tensor for keep probability.\n",
    "    \"\"\"\n",
    "    # TODO: Implement Function\n",
    "    return tf.placeholder(tf.float32, name='keep_prob')\n",
    "\n",
    "\n",
    "\"\"\"\n",
    "DON'T MODIFY ANYTHING IN THIS CELL THAT IS BELOW THIS LINE\n",
    "\"\"\"\n",
    "tf.reset_default_graph()\n",
    "tests.test_nn_image_inputs(neural_net_image_input)\n",
    "tests.test_nn_label_inputs(neural_net_label_input)\n",
    "tests.test_nn_keep_prob_inputs(neural_net_keep_prob_input)"
   ]
  },
  {
   "cell_type": "markdown",
   "metadata": {},
   "source": [
    "### Activation Functions"
   ]
  },
  {
   "cell_type": "code",
   "execution_count": 8,
   "metadata": {
    "collapsed": true
   },
   "outputs": [],
   "source": [
    "def selu(z,\n",
    "         scale=1.0507009873554804934193349852946,\n",
    "         alpha=1.6732632423543772848170429916717):\n",
    "    return scale * tf.where(z >= 0.0, z, alpha * tf.nn.elu(z))"
   ]
  },
  {
   "cell_type": "markdown",
   "metadata": {},
   "source": [
    "### Convolution and Max Pooling Layer\n",
    "Convolution layers have a lot of success with images. For this code cell, you should implement the function `conv2d_maxpool` to apply convolution then max pooling:\n",
    "* Create the weight and bias using `conv_ksize`, `conv_num_outputs` and the shape of `x_tensor`.\n",
    "* Apply a convolution to `x_tensor` using weight and `conv_strides`.\n",
    " * We recommend you use same padding, but you're welcome to use any padding.\n",
    "* Add bias\n",
    "* Add a nonlinear activation to the convolution.\n",
    "* Apply Max Pooling using `pool_ksize` and `pool_strides`.\n",
    " * We recommend you use same padding, but you're welcome to use any padding.\n",
    "\n",
    "**Note:** You **can't** use [TensorFlow Layers](https://www.tensorflow.org/api_docs/python/tf/layers) or [TensorFlow Layers (contrib)](https://www.tensorflow.org/api_guides/python/contrib.layers) for **this** layer, but you can still use TensorFlow's [Neural Network](https://www.tensorflow.org/api_docs/python/tf/nn) package. You may still use the shortcut option for all the **other** layers."
   ]
  },
  {
   "cell_type": "markdown",
   "metadata": {},
   "source": [
    "### Formula\n",
    "\n",
    "$\n",
    "h_{new} = \\frac{h_{ori} - h_{k} + 2P}{s} + 1\n",
    "$"
   ]
  },
  {
   "cell_type": "code",
   "execution_count": 9,
   "metadata": {
    "scrolled": false
   },
   "outputs": [
    {
     "name": "stdout",
     "output_type": "stream",
     "text": [
      "Tests Passed\n"
     ]
    }
   ],
   "source": [
    "def conv2d_maxpool(x_tensor, conv_num_outputs, conv_ksize, conv_strides, pool_ksize, pool_strides):\n",
    "    \"\"\"\n",
    "    Apply convolution then max pooling to x_tensor\n",
    "    :param x_tensor: TensorFlow Tensor\n",
    "    :param conv_num_outputs: Number of outputs for the convolutional layer\n",
    "    :param conv_ksize: kernal size 2-D Tuple for the convolutional layer\n",
    "    :param conv_strides: Stride 2-D Tuple for convolution\n",
    "    :param pool_ksize: kernal size 2-D Tuple for pool\n",
    "    :param pool_strides: Stride 2-D Tuple for pool\n",
    "    : return: A tensor that represents convolution and max pooling of x_tensor\n",
    "    \"\"\"\n",
    "    # TODO: Implement Function\n",
    "    x_shape = x_tensor.get_shape().as_list()\n",
    "    stddev = 2 / np.sqrt(x_shape[1] * x_shape[2] * x_shape[3])\n",
    "    w_init = tf.truncated_normal([conv_ksize[0], conv_ksize[1], x_shape[3], conv_num_outputs], stddev=stddev)\n",
    "    W = tf.Variable(w_init)\n",
    "    b = tf.Variable(tf.zeros([conv_num_outputs]))\n",
    "    conv = tf.nn.conv2d(x_tensor, W, strides=[1, conv_strides[0], conv_strides[1], 1], padding='SAME')\n",
    "    conv = tf.nn.bias_add(conv, b)\n",
    "    conv = selu(conv)\n",
    "    pool = tf.nn.pool(conv, [pool_ksize[0], pool_ksize[1]], pooling_type='MAX', strides=[pool_strides[0], pool_strides[1]], padding='VALID')\n",
    "    return pool\n",
    "\n",
    "\n",
    "\"\"\"\n",
    "DON'T MODIFY ANYTHING IN THIS CELL THAT IS BELOW THIS LINE\n",
    "\"\"\"\n",
    "tests.test_con_pool(conv2d_maxpool)"
   ]
  },
  {
   "cell_type": "markdown",
   "metadata": {},
   "source": [
    "### Flatten Layer\n",
    "Implement the `flatten` function to change the dimension of `x_tensor` from a 4-D tensor to a 2-D tensor.  The output should be the shape (*Batch Size*, *Flattened Image Size*). Shortcut option: you can use classes from the [TensorFlow Layers](https://www.tensorflow.org/api_docs/python/tf/layers) or [TensorFlow Layers (contrib)](https://www.tensorflow.org/api_guides/python/contrib.layers) packages for this layer. For more of a challenge, only use other TensorFlow packages."
   ]
  },
  {
   "cell_type": "code",
   "execution_count": 10,
   "metadata": {},
   "outputs": [
    {
     "name": "stdout",
     "output_type": "stream",
     "text": [
      "Tests Passed\n"
     ]
    }
   ],
   "source": [
    "def flatten(x_tensor):\n",
    "    \"\"\"\n",
    "    Flatten x_tensor to (Batch Size, Flattened Image Size)\n",
    "    : x_tensor: A tensor of size (Batch Size, ...), where ... are the image dimensions.\n",
    "    : return: A tensor of size (Batch Size, Flattened Image Size).\n",
    "    \"\"\"\n",
    "    # TODO: Implement Function\n",
    "    tensor_shape = x_tensor.get_shape().as_list()\n",
    "    return tf.reshape(x_tensor, [-1, tensor_shape[1]*tensor_shape[2]*tensor_shape[3]])\n",
    "\n",
    "\n",
    "\"\"\"\n",
    "DON'T MODIFY ANYTHING IN THIS CELL THAT IS BELOW THIS LINE\n",
    "\"\"\"\n",
    "tests.test_flatten(flatten)"
   ]
  },
  {
   "cell_type": "markdown",
   "metadata": {},
   "source": [
    "### Fully-Connected Layer\n",
    "Implement the `fully_conn` function to apply a fully connected layer to `x_tensor` with the shape (*Batch Size*, *num_outputs*). Shortcut option: you can use classes from the [TensorFlow Layers](https://www.tensorflow.org/api_docs/python/tf/layers) or [TensorFlow Layers (contrib)](https://www.tensorflow.org/api_guides/python/contrib.layers) packages for this layer. For more of a challenge, only use other TensorFlow packages."
   ]
  },
  {
   "cell_type": "code",
   "execution_count": 11,
   "metadata": {},
   "outputs": [
    {
     "name": "stdout",
     "output_type": "stream",
     "text": [
      "Tests Passed\n"
     ]
    }
   ],
   "source": [
    "def fully_conn(x_tensor, num_outputs):\n",
    "    \"\"\"\n",
    "    Apply a fully connected layer to x_tensor using weight and bias\n",
    "    : x_tensor: A 2-D tensor where the first dimension is batch size.\n",
    "    : num_outputs: The number of output that the new tensor should be.\n",
    "    : return: A 2-D tensor where the second dimension is num_outputs.\n",
    "    \"\"\"\n",
    "    # TODO: Implement Function\n",
    "    x_shape = x_tensor.get_shape().as_list()\n",
    "    stddev = 2 / np.sqrt(x_shape[1])\n",
    "    w_init = tf.truncated_normal([x_shape[1], num_outputs], stddev=stddev)\n",
    "    W = tf.Variable(w_init)\n",
    "    b = tf.Variable(tf.zeros([num_outputs]))\n",
    "    logits = tf.nn.bias_add(tf.matmul(x_tensor, W), b)\n",
    "    return selu(logits)\n",
    "\n",
    "\n",
    "\"\"\"\n",
    "DON'T MODIFY ANYTHING IN THIS CELL THAT IS BELOW THIS LINE\n",
    "\"\"\"\n",
    "tests.test_fully_conn(fully_conn)"
   ]
  },
  {
   "cell_type": "markdown",
   "metadata": {},
   "source": [
    "### Output Layer\n",
    "Implement the `output` function to apply a fully connected layer to `x_tensor` with the shape (*Batch Size*, *num_outputs*). Shortcut option: you can use classes from the [TensorFlow Layers](https://www.tensorflow.org/api_docs/python/tf/layers) or [TensorFlow Layers (contrib)](https://www.tensorflow.org/api_guides/python/contrib.layers) packages for this layer. For more of a challenge, only use other TensorFlow packages.\n",
    "\n",
    "**Note:** Activation, softmax, or cross entropy should **not** be applied to this."
   ]
  },
  {
   "cell_type": "code",
   "execution_count": 12,
   "metadata": {},
   "outputs": [
    {
     "name": "stdout",
     "output_type": "stream",
     "text": [
      "Tests Passed\n"
     ]
    }
   ],
   "source": [
    "def output(x_tensor, num_outputs):\n",
    "    \"\"\"\n",
    "    Apply a output layer to x_tensor using weight and bias\n",
    "    : x_tensor: A 2-D tensor where the first dimension is batch size.\n",
    "    : num_outputs: The number of output that the new tensor should be.\n",
    "    : return: A 2-D tensor where the second dimension is num_outputs.\n",
    "    \"\"\"\n",
    "    # TODO: Implement Function\n",
    "    x_shape = x_tensor.get_shape().as_list()\n",
    "    stddev = 2 / np.sqrt(x_shape[1])\n",
    "    w_init = tf.truncated_normal([x_shape[1], num_outputs], stddev=stddev)\n",
    "    W = tf.Variable(w_init)\n",
    "    b = tf.Variable(tf.zeros([num_outputs]))\n",
    "    return tf.nn.bias_add(tf.matmul(x_tensor, W), b)\n",
    "\n",
    "\n",
    "\"\"\"\n",
    "DON'T MODIFY ANYTHING IN THIS CELL THAT IS BELOW THIS LINE\n",
    "\"\"\"\n",
    "tests.test_output(output)"
   ]
  },
  {
   "cell_type": "markdown",
   "metadata": {},
   "source": [
    "### Create Convolutional Model\n",
    "Implement the function `conv_net` to create a convolutional neural network model. The function takes in a batch of images, `x`, and outputs logits.  Use the layers you created above to create this model:\n",
    "\n",
    "* Apply 1, 2, or 3 Convolution and Max Pool layers\n",
    "* Apply a Flatten Layer\n",
    "* Apply 1, 2, or 3 Fully Connected Layers\n",
    "* Apply an Output Layer\n",
    "* Return the output\n",
    "* Apply [TensorFlow's Dropout](https://www.tensorflow.org/api_docs/python/tf/nn/dropout) to one or more layers in the model using `keep_prob`. "
   ]
  },
  {
   "cell_type": "markdown",
   "metadata": {},
   "source": [
    "### Cost Functions"
   ]
  },
  {
   "cell_type": "code",
   "execution_count": 45,
   "metadata": {
    "collapsed": true
   },
   "outputs": [],
   "source": [
    "def future_cost_exp(cost, epoch):\n",
    "    return tf.pow(cost*(1+(epoch+1)*tf.exp(-(epoch+1))-epoch*tf.exp(-epoch)), 2)"
   ]
  },
  {
   "cell_type": "code",
   "execution_count": 56,
   "metadata": {
    "collapsed": true
   },
   "outputs": [],
   "source": [
    "def future_cost_linear(cost, epoch):\n",
    "    return tf.pow(2*cost+(1/4)*(tf.pow(epoch, 2)-tf.pow(epoch+1, 2)), 2)"
   ]
  },
  {
   "cell_type": "code",
   "execution_count": 66,
   "metadata": {},
   "outputs": [
    {
     "name": "stdout",
     "output_type": "stream",
     "text": [
      "Neural Network Built!\n"
     ]
    }
   ],
   "source": [
    "def conv_net(x, keep_prob):\n",
    "    \"\"\"\n",
    "    Create a convolutional neural network model\n",
    "    : x: Placeholder tensor that holds image data.\n",
    "    : keep_prob: Placeholder tensor that hold dropout keep probability.\n",
    "    : return: Tensor that represents logits\n",
    "    \"\"\"\n",
    "    # TODO: Apply 1, 2, or 3 Convolution and Max Pool layers\n",
    "    #    Play around with different number of outputs, kernel size and stride\n",
    "    # Function Definition from Above:\n",
    "    #    conv2d_maxpool(x_tensor, conv_num_outputs, conv_ksize, conv_strides, pool_ksize, pool_strides)\n",
    "    conv_1 = conv2d_maxpool(x, 128, [3, 3], [1, 1], [2, 2], [2, 2])\n",
    "    conv_2 = conv2d_maxpool(conv_1, 256, [3, 3], [1, 1], [1, 1], [1, 1])\n",
    "    conv_out = tf.nn.dropout(conv_2, keep_prob)\n",
    "\n",
    "    # TODO: Apply a Flatten Layer\n",
    "    # Function Definition from Above:\n",
    "    #   flatten(x_tensor)\n",
    "    conv_flat = flatten(conv_out)\n",
    "\n",
    "    # TODO: Apply 1, 2, or 3 Fully Connected Layers\n",
    "    #    Play around with different number of outputs\n",
    "    # Function Definition from Above:\n",
    "    #   fully_conn(x_tensor, num_outputs)\n",
    "    fc_1 = fully_conn(conv_flat, 1024)\n",
    "    fc_1_drop = tf.nn.dropout(fc_1, keep_prob)\n",
    "    fc_out = fully_conn(fc_1_drop, 512)\n",
    "    \n",
    "    # TODO: Apply an Output Layer\n",
    "    #    Set this to the number of classes\n",
    "    # Function Definition from Above:\n",
    "    #   output(x_tensor, num_outputs)\n",
    "    out = output(fc_out, 10)\n",
    "    \n",
    "    # TODO: return output\n",
    "    return out\n",
    "\n",
    "\n",
    "\"\"\"\n",
    "DON'T MODIFY ANYTHING IN THIS CELL THAT IS BELOW THIS LINE\n",
    "\"\"\"\n",
    "\n",
    "##############################\n",
    "## Build the Neural Network ##\n",
    "##############################\n",
    "\n",
    "# Remove previous weights, bias, inputs, etc..\n",
    "tf.reset_default_graph()\n",
    "\n",
    "# Inputs\n",
    "x = neural_net_image_input((32, 32, 3))\n",
    "y = neural_net_label_input(10)\n",
    "keep_prob = neural_net_keep_prob_input()\n",
    "\n",
    "# Model\n",
    "logits = conv_net(x, keep_prob)\n",
    "\n",
    "# Name logits Tensor, so that is can be loaded from disk after training\n",
    "logits = tf.identity(logits, name='logits')\n",
    "\n",
    "# Loss and Optimizer\n",
    "cost = tf.reduce_mean(tf.nn.softmax_cross_entropy_with_logits(logits=logits, labels=y))\n",
    "cost_epoch = tf.placeholder(tf.float32, name='cost_epoch')\n",
    "cost_predict = future_cost_exp(cost, cost_epoch)\n",
    "optimizer = tf.train.AdamOptimizer().minimize(cost)\n",
    "\n",
    "# Accuracy\n",
    "correct_pred = tf.equal(tf.argmax(logits, 1), tf.argmax(y, 1))\n",
    "accuracy = tf.reduce_mean(tf.cast(correct_pred, tf.float32), name='accuracy')\n",
    "\n",
    "tests.test_conv_net(conv_net)"
   ]
  },
  {
   "cell_type": "markdown",
   "metadata": {},
   "source": [
    "## Train the Neural Network\n",
    "### Single Optimization\n",
    "Implement the function `train_neural_network` to do a single optimization.  The optimization should use `optimizer` to optimize in `session` with a `feed_dict` of the following:\n",
    "* `x` for image input\n",
    "* `y` for labels\n",
    "* `keep_prob` for keep probability for dropout\n",
    "\n",
    "This function will be called for each batch, so `tf.global_variables_initializer()` has already been called.\n",
    "\n",
    "Note: Nothing needs to be returned. This function is only optimizing the neural network."
   ]
  },
  {
   "cell_type": "markdown",
   "metadata": {},
   "source": [
    "### Show Stats\n",
    "Implement the function `print_stats` to print loss and validation accuracy.  Use the global variables `valid_features` and `valid_labels` to calculate validation accuracy.  Use a keep probability of `1.0` to calculate the loss and validation accuracy."
   ]
  },
  {
   "cell_type": "code",
   "execution_count": 48,
   "metadata": {
    "collapsed": true
   },
   "outputs": [],
   "source": [
    "def print_stats(session, feature_batch, label_batch, cost, accuracy):\n",
    "    \"\"\"\n",
    "    Print information about loss and validation accuracy\n",
    "    : session: Current TensorFlow session\n",
    "    : feature_batch: Batch of Numpy image data\n",
    "    : label_batch: Batch of Numpy label data\n",
    "    : cost: TensorFlow cost function\n",
    "    : accuracy: TensorFlow accuracy function\n",
    "    \"\"\"\n",
    "    # TODO: Implement Function\n",
    "    train_loss = session.run(cost, feed_dict={x:feature_batch, y:label_batch, keep_prob:1.})\n",
    "    valid_loss = session.run(cost, feed_dict={x:valid_features, y:valid_labels, keep_prob:1.})\n",
    "    train_accuracy = session.run(accuracy, feed_dict={x:feature_batch, y:label_batch, keep_prob:1.})\n",
    "    valid_accuracy = session.run(accuracy, feed_dict={x:valid_features, y:valid_labels, keep_prob:1.})\n",
    "    print('Loss = Train: {}, Valid: {}'.format(train_loss, valid_loss))\n",
    "    print('Accuracy = Train: {} Valid: {}'.format(train_accuracy, valid_accuracy))"
   ]
  },
  {
   "cell_type": "markdown",
   "metadata": {},
   "source": [
    "### Hyperparameters\n",
    "Tune the following parameters:\n",
    "* Set `epochs` to the number of iterations until the network stops learning or start overfitting\n",
    "* Set `batch_size` to the highest number that your machine has memory for.  Most people set them to common sizes of memory:\n",
    " * 64\n",
    " * 128\n",
    " * 256\n",
    " * ...\n",
    "* Set `keep_probability` to the probability of keeping a node using dropout"
   ]
  },
  {
   "cell_type": "code",
   "execution_count": 64,
   "metadata": {
    "collapsed": true
   },
   "outputs": [],
   "source": [
    "# TODO: Tune Parameters\n",
    "epochs = 30\n",
    "batch_size = 256\n",
    "keep_probability = .5"
   ]
  },
  {
   "cell_type": "markdown",
   "metadata": {},
   "source": [
    "### Train on a Single CIFAR-10 Batch\n",
    "Instead of training the neural network on all the CIFAR-10 batches of data, let's use a single batch. This should save time while you iterate on the model to get a better accuracy.  Once the final validation accuracy is 50% or greater, run the model on all the data in the next section."
   ]
  },
  {
   "cell_type": "code",
   "execution_count": 67,
   "metadata": {
    "scrolled": false
   },
   "outputs": [
    {
     "name": "stdout",
     "output_type": "stream",
     "text": [
      "Checking the Training on a Single Batch...\n",
      "Epoch  1, CIFAR-10 Batch 1: \n",
      "Loss = Train: 2.788896083831787, Valid: 2.708961248397827\n",
      "Accuracy = Train: 0.17499999701976776 Valid: 0.1727999895811081\n",
      "Epoch  2, CIFAR-10 Batch 1: \n",
      "Loss = Train: 1.7965893745422363, Valid: 1.8120837211608887\n",
      "Accuracy = Train: 0.3500000238418579 Valid: 0.3384000062942505\n",
      "Epoch  3, CIFAR-10 Batch 1: \n",
      "Loss = Train: 1.4174329042434692, Valid: 1.5980017185211182\n",
      "Accuracy = Train: 0.6000000238418579 Valid: 0.43400001525878906\n",
      "Epoch  4, CIFAR-10 Batch 1: \n",
      "Loss = Train: 1.1769661903381348, Valid: 1.5320844650268555\n",
      "Accuracy = Train: 0.6499999761581421 Valid: 0.45979994535446167\n",
      "Epoch  5, CIFAR-10 Batch 1: \n",
      "Loss = Train: 1.0791419744491577, Valid: 1.5778369903564453\n",
      "Accuracy = Train: 0.6750000715255737 Valid: 0.433199942111969\n",
      "Epoch  6, CIFAR-10 Batch 1: \n",
      "Loss = Train: 0.8500012159347534, Valid: 1.5005111694335938\n",
      "Accuracy = Train: 0.8999999761581421 Valid: 0.4675999879837036\n",
      "Epoch  7, CIFAR-10 Batch 1: \n",
      "Loss = Train: 0.6849267482757568, Valid: 1.4991533756256104\n",
      "Accuracy = Train: 0.8500000238418579 Valid: 0.48419997096061707\n",
      "Epoch  8, CIFAR-10 Batch 1: \n",
      "Loss = Train: 0.6301474571228027, Valid: 1.5020636320114136\n",
      "Accuracy = Train: 0.8750000596046448 Valid: 0.48959997296333313\n",
      "Epoch  9, CIFAR-10 Batch 1: \n",
      "Loss = Train: 0.5714926719665527, Valid: 1.5804595947265625\n",
      "Accuracy = Train: 0.925000011920929 Valid: 0.4713999629020691\n",
      "Epoch 10, CIFAR-10 Batch 1: \n",
      "Loss = Train: 0.385312020778656, Valid: 1.3802646398544312\n",
      "Accuracy = Train: 0.925000011920929 Valid: 0.5191999077796936\n",
      "Epoch 11, CIFAR-10 Batch 1: \n",
      "Loss = Train: 0.43506738543510437, Valid: 1.640665054321289\n",
      "Accuracy = Train: 0.925000011920929 Valid: 0.4877999722957611\n",
      "Epoch 12, CIFAR-10 Batch 1: \n",
      "Loss = Train: 0.27125704288482666, Valid: 1.4109447002410889\n",
      "Accuracy = Train: 0.949999988079071 Valid: 0.5197998881340027\n",
      "Epoch 13, CIFAR-10 Batch 1: \n",
      "Loss = Train: 0.17099213600158691, Valid: 1.454413890838623\n",
      "Accuracy = Train: 1.0 Valid: 0.5275999307632446\n",
      "Epoch 14, CIFAR-10 Batch 1: \n",
      "Loss = Train: 0.12456890195608139, Valid: 1.4890881776809692\n",
      "Accuracy = Train: 1.0 Valid: 0.5231999158859253\n",
      "Epoch 15, CIFAR-10 Batch 1: \n",
      "Loss = Train: 0.14782515168190002, Valid: 1.5041769742965698\n",
      "Accuracy = Train: 1.0 Valid: 0.5145999193191528\n",
      "Epoch 16, CIFAR-10 Batch 1: \n",
      "Loss = Train: 0.09298785030841827, Valid: 1.4987239837646484\n",
      "Accuracy = Train: 0.9749999642372131 Valid: 0.5427999496459961\n",
      "Epoch 17, CIFAR-10 Batch 1: \n",
      "Loss = Train: 0.0431237556040287, Valid: 1.5149692296981812\n",
      "Accuracy = Train: 1.0 Valid: 0.5509999394416809\n",
      "Epoch 18, CIFAR-10 Batch 1: \n",
      "Loss = Train: 0.05045899376273155, Valid: 1.5911939144134521\n",
      "Accuracy = Train: 1.0 Valid: 0.5201999545097351\n",
      "Epoch 19, CIFAR-10 Batch 1: \n",
      "Loss = Train: 0.027333855628967285, Valid: 1.6512454748153687\n",
      "Accuracy = Train: 1.0 Valid: 0.5303999185562134\n",
      "Epoch 20, CIFAR-10 Batch 1: \n",
      "Loss = Train: 0.023307085037231445, Valid: 1.6928317546844482\n",
      "Accuracy = Train: 1.0 Valid: 0.5189999341964722\n",
      "Epoch 21, CIFAR-10 Batch 1: \n",
      "Loss = Train: 0.01570083573460579, Valid: 1.6352288722991943\n",
      "Accuracy = Train: 1.0 Valid: 0.5543999671936035\n",
      "Epoch 22, CIFAR-10 Batch 1: \n",
      "Loss = Train: 0.01734768971800804, Valid: 1.6802486181259155\n",
      "Accuracy = Train: 1.0 Valid: 0.5531999468803406\n",
      "Epoch 23, CIFAR-10 Batch 1: \n",
      "Loss = Train: 0.016446085646748543, Valid: 1.7041305303573608\n",
      "Accuracy = Train: 1.0 Valid: 0.5529999732971191\n",
      "Epoch 24, CIFAR-10 Batch 1: \n",
      "Loss = Train: 0.014468429610133171, Valid: 1.8464820384979248\n",
      "Accuracy = Train: 1.0 Valid: 0.5371999740600586\n",
      "Epoch 25, CIFAR-10 Batch 1: \n",
      "Loss = Train: 0.00993302371352911, Valid: 1.8442184925079346\n",
      "Accuracy = Train: 1.0 Valid: 0.5283999443054199\n",
      "Epoch 26, CIFAR-10 Batch 1: \n",
      "Loss = Train: 0.001845472026616335, Valid: 1.915651798248291\n",
      "Accuracy = Train: 1.0 Valid: 0.5543999671936035\n",
      "Epoch 27, CIFAR-10 Batch 1: \n",
      "Loss = Train: 0.0029988999012857676, Valid: 1.924507737159729\n",
      "Accuracy = Train: 1.0 Valid: 0.5429999232292175\n",
      "Epoch 28, CIFAR-10 Batch 1: \n",
      "Loss = Train: 0.001789085566997528, Valid: 1.8355352878570557\n",
      "Accuracy = Train: 1.0 Valid: 0.5557999610900879\n",
      "Epoch 29, CIFAR-10 Batch 1: \n",
      "Loss = Train: 0.0024043640587478876, Valid: 2.048431873321533\n",
      "Accuracy = Train: 1.0 Valid: 0.5415999889373779\n",
      "Epoch 30, CIFAR-10 Batch 1: \n",
      "Loss = Train: 0.005497500766068697, Valid: 2.202227830886841\n",
      "Accuracy = Train: 1.0 Valid: 0.5239999294281006\n"
     ]
    }
   ],
   "source": [
    "\"\"\"\n",
    "DON'T MODIFY ANYTHING IN THIS CELL\n",
    "\"\"\"\n",
    "print('Checking the Training on a Single Batch...')\n",
    "with tf.Session() as sess:\n",
    "    # Initializing the variables\n",
    "    sess.run(tf.global_variables_initializer())\n",
    "    \n",
    "    # Training cycle\n",
    "    for epoch in range(epochs):\n",
    "        batch_i = 1\n",
    "        for batch_features, batch_labels in helper.load_preprocess_training_batch(batch_i, batch_size):\n",
    "            sess.run([optimizer], feed_dict={x: batch_features, y: batch_labels, keep_prob: keep_probability, cost_epoch: epoch})\n",
    "        \n",
    "        print('Epoch {:>2}, CIFAR-10 Batch {}: \\n'.format(epoch + 1, batch_i), end='')\n",
    "        print_stats(sess, batch_features, batch_labels, cost, accuracy)"
   ]
  },
  {
   "cell_type": "markdown",
   "metadata": {},
   "source": [
    "### Fully Train the Model\n",
    "Now that you got a good accuracy with a single CIFAR-10 batch, try it with all five batches."
   ]
  },
  {
   "cell_type": "code",
   "execution_count": 52,
   "metadata": {
    "scrolled": false
   },
   "outputs": [
    {
     "name": "stdout",
     "output_type": "stream",
     "text": [
      "Training...\n",
      "Epoch  1, CIFAR-10 Batch 1:  Loss = Train: 5.620275974273682, Valid: 5.5662031173706055\n",
      "Accuracy = Train: 0.125 Valid: 0.14159998297691345\n",
      "Epoch  1, CIFAR-10 Batch 2:  Loss = Train: 2.218839645385742, Valid: 2.221308708190918\n",
      "Accuracy = Train: 0.22499999403953552 Valid: 0.23499998450279236\n",
      "Epoch  1, CIFAR-10 Batch 3:  Loss = Train: 1.9603168964385986, Valid: 2.0307607650756836\n",
      "Accuracy = Train: 0.3500000238418579 Valid: 0.29159998893737793\n",
      "Epoch  1, CIFAR-10 Batch 4:  Loss = Train: 1.9751720428466797, Valid: 1.9398448467254639\n",
      "Accuracy = Train: 0.2750000059604645 Valid: 0.3084000051021576\n",
      "Epoch  1, CIFAR-10 Batch 5:  Loss = Train: 1.947845458984375, Valid: 1.845324158668518\n",
      "Accuracy = Train: 0.42499998211860657 Valid: 0.3564000129699707\n",
      "Epoch  2, CIFAR-10 Batch 1:  Loss = Train: 1.9438709020614624, Valid: 1.809300184249878\n",
      "Accuracy = Train: 0.375 Valid: 0.3677999973297119\n",
      "Epoch  2, CIFAR-10 Batch 2:  Loss = Train: 1.8187897205352783, Valid: 1.795790672302246\n",
      "Accuracy = Train: 0.3750000298023224 Valid: 0.36500000953674316\n",
      "Epoch  2, CIFAR-10 Batch 3:  Loss = Train: 1.6600770950317383, Valid: 1.7737982273101807\n",
      "Accuracy = Train: 0.5 Valid: 0.3707999587059021\n",
      "Epoch  2, CIFAR-10 Batch 4:  Loss = Train: 1.6998056173324585, Valid: 1.7482178211212158\n",
      "Accuracy = Train: 0.30000001192092896 Valid: 0.376800000667572\n",
      "Epoch  2, CIFAR-10 Batch 5:  Loss = Train: 1.8519396781921387, Valid: 1.7141175270080566\n",
      "Accuracy = Train: 0.4000000059604645 Valid: 0.38759997487068176\n",
      "Epoch  3, CIFAR-10 Batch 1:  Loss = Train: 1.8570590019226074, Valid: 1.7180466651916504\n",
      "Accuracy = Train: 0.3500000238418579 Valid: 0.38839995861053467\n",
      "Epoch  3, CIFAR-10 Batch 2:  Loss = Train: 1.6403213739395142, Valid: 1.6712284088134766\n",
      "Accuracy = Train: 0.5250000357627869 Valid: 0.4095999598503113\n",
      "Epoch  3, CIFAR-10 Batch 3:  Loss = Train: 1.5283392667770386, Valid: 1.6505595445632935\n",
      "Accuracy = Train: 0.5249999761581421 Valid: 0.41359996795654297\n",
      "Epoch  3, CIFAR-10 Batch 4:  Loss = Train: 1.5776927471160889, Valid: 1.626291275024414\n",
      "Accuracy = Train: 0.375 Valid: 0.42820000648498535\n",
      "Epoch  3, CIFAR-10 Batch 5:  Loss = Train: 1.7575204372406006, Valid: 1.6187092065811157\n",
      "Accuracy = Train: 0.4750000238418579 Valid: 0.4281999468803406\n",
      "Epoch  4, CIFAR-10 Batch 1:  Loss = Train: 1.735809087753296, Valid: 1.5804940462112427\n",
      "Accuracy = Train: 0.5 Valid: 0.4455999732017517\n",
      "Epoch  4, CIFAR-10 Batch 2:  Loss = Train: 1.4886038303375244, Valid: 1.581202745437622\n",
      "Accuracy = Train: 0.5249999761581421 Valid: 0.43140000104904175\n",
      "Epoch  4, CIFAR-10 Batch 3:  Loss = Train: 1.3737428188323975, Valid: 1.5546185970306396\n",
      "Accuracy = Train: 0.550000011920929 Valid: 0.4463999569416046\n",
      "Epoch  4, CIFAR-10 Batch 4:  Loss = Train: 1.409902572631836, Valid: 1.5439691543579102\n",
      "Accuracy = Train: 0.4749999940395355 Valid: 0.4609999656677246\n",
      "Epoch  4, CIFAR-10 Batch 5:  Loss = Train: 1.5889745950698853, Valid: 1.5168005228042603\n",
      "Accuracy = Train: 0.5750000476837158 Valid: 0.4607999622821808\n",
      "Epoch  5, CIFAR-10 Batch 1:  Loss = Train: 1.6993515491485596, Valid: 1.5713768005371094\n",
      "Accuracy = Train: 0.4749999940395355 Valid: 0.4373999834060669\n",
      "Epoch  5, CIFAR-10 Batch 2:  Loss = Train: 1.2970600128173828, Valid: 1.5633186101913452\n",
      "Accuracy = Train: 0.6000000238418579 Valid: 0.4649999737739563\n",
      "Epoch  5, CIFAR-10 Batch 3:  Loss = Train: 1.2457728385925293, Valid: 1.4767892360687256\n",
      "Accuracy = Train: 0.6000000238418579 Valid: 0.48419997096061707\n",
      "Epoch  5, CIFAR-10 Batch 4:  Loss = Train: 1.2925933599472046, Valid: 1.4890177249908447\n",
      "Accuracy = Train: 0.550000011920929 Valid: 0.4795999526977539\n",
      "Epoch  5, CIFAR-10 Batch 5:  Loss = Train: 1.454883098602295, Valid: 1.453348159790039\n",
      "Accuracy = Train: 0.625 Valid: 0.4923999607563019\n",
      "Epoch  6, CIFAR-10 Batch 1:  Loss = Train: 1.458601713180542, Valid: 1.4219844341278076\n",
      "Accuracy = Train: 0.6000000238418579 Valid: 0.49959996342658997\n",
      "Epoch  6, CIFAR-10 Batch 2:  Loss = Train: 1.1893854141235352, Valid: 1.6322813034057617\n",
      "Accuracy = Train: 0.6000000238418579 Valid: 0.4601999521255493\n",
      "Epoch  6, CIFAR-10 Batch 3:  Loss = Train: 1.1132838726043701, Valid: 1.438934326171875\n",
      "Accuracy = Train: 0.675000011920929 Valid: 0.49379995465278625\n",
      "Epoch  6, CIFAR-10 Batch 4:  Loss = Train: 1.1689187288284302, Valid: 1.401097297668457\n",
      "Accuracy = Train: 0.550000011920929 Valid: 0.5043999552726746\n",
      "Epoch  6, CIFAR-10 Batch 5:  Loss = Train: 1.3345651626586914, Valid: 1.4111905097961426\n",
      "Accuracy = Train: 0.625 Valid: 0.5035998821258545\n",
      "Epoch  7, CIFAR-10 Batch 1:  Loss = Train: 1.3849464654922485, Valid: 1.3737760782241821\n",
      "Accuracy = Train: 0.625 Valid: 0.5191999673843384\n",
      "Epoch  7, CIFAR-10 Batch 2:  Loss = Train: 1.0014389753341675, Valid: 1.4423346519470215\n",
      "Accuracy = Train: 0.6749999523162842 Valid: 0.5033999085426331\n",
      "Epoch  7, CIFAR-10 Batch 3:  Loss = Train: 1.0093071460723877, Valid: 1.3849225044250488\n",
      "Accuracy = Train: 0.6499999761581421 Valid: 0.5133999586105347\n",
      "Epoch  7, CIFAR-10 Batch 4:  Loss = Train: 1.0960503816604614, Valid: 1.406327724456787\n",
      "Accuracy = Train: 0.625 Valid: 0.5094000101089478\n",
      "Epoch  7, CIFAR-10 Batch 5:  Loss = Train: 1.1726328134536743, Valid: 1.3219859600067139\n",
      "Accuracy = Train: 0.6749999523162842 Valid: 0.5389999151229858\n",
      "Epoch  8, CIFAR-10 Batch 1:  Loss = Train: 1.3493252992630005, Valid: 1.415343165397644\n",
      "Accuracy = Train: 0.5750000476837158 Valid: 0.5055999159812927\n",
      "Epoch  8, CIFAR-10 Batch 2:  Loss = Train: 0.9163302779197693, Valid: 1.320284366607666\n",
      "Accuracy = Train: 0.7000000476837158 Valid: 0.5371999740600586\n",
      "Epoch  8, CIFAR-10 Batch 3:  Loss = Train: 0.9007373452186584, Valid: 1.3636261224746704\n",
      "Accuracy = Train: 0.7000000476837158 Valid: 0.5269998908042908\n",
      "Epoch  8, CIFAR-10 Batch 4:  Loss = Train: 0.9445842504501343, Valid: 1.3002361059188843\n",
      "Accuracy = Train: 0.7250000238418579 Valid: 0.5457999110221863\n",
      "Epoch  8, CIFAR-10 Batch 5:  Loss = Train: 1.1574698686599731, Valid: 1.349865198135376\n",
      "Accuracy = Train: 0.675000011920929 Valid: 0.5221999287605286\n",
      "Epoch  9, CIFAR-10 Batch 1:  Loss = Train: 1.2513576745986938, Valid: 1.3907513618469238\n",
      "Accuracy = Train: 0.625 Valid: 0.5251998901367188\n",
      "Epoch  9, CIFAR-10 Batch 2:  Loss = Train: 0.9132479429244995, Valid: 1.3412339687347412\n",
      "Accuracy = Train: 0.6499999761581421 Valid: 0.53739994764328\n",
      "Epoch  9, CIFAR-10 Batch 3:  Loss = Train: 0.8750050663948059, Valid: 1.2854347229003906\n",
      "Accuracy = Train: 0.6749999523162842 Valid: 0.5499999523162842\n",
      "Epoch  9, CIFAR-10 Batch 4:  Loss = Train: 1.1303679943084717, Valid: 1.5512640476226807\n",
      "Accuracy = Train: 0.550000011920929 Valid: 0.4943999648094177\n",
      "Epoch  9, CIFAR-10 Batch 5:  Loss = Train: 1.207452416419983, Valid: 1.3748040199279785\n",
      "Accuracy = Train: 0.550000011920929 Valid: 0.531999945640564\n",
      "Epoch 10, CIFAR-10 Batch 1:  Loss = Train: 1.0792818069458008, Valid: 1.274928092956543\n",
      "Accuracy = Train: 0.7250000238418579 Valid: 0.5559999346733093\n",
      "Epoch 10, CIFAR-10 Batch 2:  Loss = Train: 0.8871381282806396, Valid: 1.284114122390747\n",
      "Accuracy = Train: 0.7500000596046448 Valid: 0.5537999272346497\n",
      "Epoch 10, CIFAR-10 Batch 3:  Loss = Train: 0.7764264345169067, Valid: 1.2376081943511963\n",
      "Accuracy = Train: 0.6749999523162842 Valid: 0.5681999325752258\n",
      "Epoch 10, CIFAR-10 Batch 4:  Loss = Train: 0.9730809926986694, Valid: 1.27227783203125\n",
      "Accuracy = Train: 0.7250000238418579 Valid: 0.5553998947143555\n",
      "Epoch 10, CIFAR-10 Batch 5:  Loss = Train: 1.0050479173660278, Valid: 1.2799534797668457\n",
      "Accuracy = Train: 0.6500000357627869 Valid: 0.5593999624252319\n",
      "Epoch 11, CIFAR-10 Batch 1:  Loss = Train: 1.0637011528015137, Valid: 1.3529164791107178\n",
      "Accuracy = Train: 0.6499999761581421 Valid: 0.5331999063491821\n",
      "Epoch 11, CIFAR-10 Batch 2:  Loss = Train: 0.786830484867096, Valid: 1.254118800163269\n",
      "Accuracy = Train: 0.8000000715255737 Valid: 0.5649999380111694\n",
      "Epoch 11, CIFAR-10 Batch 3:  Loss = Train: 0.7873795628547668, Valid: 1.2528496980667114\n",
      "Accuracy = Train: 0.6750000715255737 Valid: 0.5641999244689941\n",
      "Epoch 11, CIFAR-10 Batch 4:  Loss = Train: 0.8450862765312195, Valid: 1.2604175806045532\n",
      "Accuracy = Train: 0.75 Valid: 0.5673999190330505\n",
      "Epoch 11, CIFAR-10 Batch 5:  Loss = Train: 0.8315244913101196, Valid: 1.211269736289978\n",
      "Accuracy = Train: 0.7250000238418579 Valid: 0.5775999426841736\n"
     ]
    },
    {
     "name": "stdout",
     "output_type": "stream",
     "text": [
      "Epoch 12, CIFAR-10 Batch 1:  Loss = Train: 0.8706910014152527, Valid: 1.2402851581573486\n",
      "Accuracy = Train: 0.7250000238418579 Valid: 0.5701999068260193\n",
      "Epoch 12, CIFAR-10 Batch 2:  Loss = Train: 0.720096230506897, Valid: 1.189154863357544\n",
      "Accuracy = Train: 0.75 Valid: 0.5863999128341675\n",
      "Epoch 12, CIFAR-10 Batch 3:  Loss = Train: 0.7019556760787964, Valid: 1.2298407554626465\n",
      "Accuracy = Train: 0.7000000476837158 Valid: 0.579599916934967\n",
      "Epoch 12, CIFAR-10 Batch 4:  Loss = Train: 0.7591986060142517, Valid: 1.2026022672653198\n",
      "Accuracy = Train: 0.7750000357627869 Valid: 0.5851999521255493\n",
      "Epoch 12, CIFAR-10 Batch 5:  Loss = Train: 0.7945041060447693, Valid: 1.1715528964996338\n",
      "Accuracy = Train: 0.7999999523162842 Valid: 0.5947998762130737\n",
      "Epoch 13, CIFAR-10 Batch 1:  Loss = Train: 0.8758670091629028, Valid: 1.1792956590652466\n",
      "Accuracy = Train: 0.7749999761581421 Valid: 0.5879999399185181\n",
      "Epoch 13, CIFAR-10 Batch 2:  Loss = Train: 0.6763795018196106, Valid: 1.2003085613250732\n",
      "Accuracy = Train: 0.7750000357627869 Valid: 0.5859999656677246\n",
      "Epoch 13, CIFAR-10 Batch 3:  Loss = Train: 0.6360890865325928, Valid: 1.1706342697143555\n",
      "Accuracy = Train: 0.7250000238418579 Valid: 0.5981999635696411\n",
      "Epoch 13, CIFAR-10 Batch 4:  Loss = Train: 0.6925851702690125, Valid: 1.1273740530014038\n",
      "Accuracy = Train: 0.8250000476837158 Valid: 0.6117998957633972\n",
      "Epoch 13, CIFAR-10 Batch 5:  Loss = Train: 0.6949583292007446, Valid: 1.1244579553604126\n",
      "Accuracy = Train: 0.7999999523162842 Valid: 0.6103999614715576\n",
      "Epoch 14, CIFAR-10 Batch 1:  Loss = Train: 0.8248292207717896, Valid: 1.1646878719329834\n",
      "Accuracy = Train: 0.7750000357627869 Valid: 0.5949999094009399\n",
      "Epoch 14, CIFAR-10 Batch 2:  Loss = Train: 0.7352578639984131, Valid: 1.1576980352401733\n",
      "Accuracy = Train: 0.7750000357627869 Valid: 0.5999999046325684\n",
      "Epoch 14, CIFAR-10 Batch 3:  Loss = Train: 0.5915623307228088, Valid: 1.1469616889953613\n",
      "Accuracy = Train: 0.7250000238418579 Valid: 0.6053999662399292\n",
      "Epoch 14, CIFAR-10 Batch 4:  Loss = Train: 0.6811649799346924, Valid: 1.1105314493179321\n",
      "Accuracy = Train: 0.8500000238418579 Valid: 0.6131999492645264\n",
      "Epoch 14, CIFAR-10 Batch 5:  Loss = Train: 0.595687985420227, Valid: 1.1035761833190918\n",
      "Accuracy = Train: 0.8999999761581421 Valid: 0.616599977016449\n",
      "Epoch 15, CIFAR-10 Batch 1:  Loss = Train: 0.74730384349823, Valid: 1.172411322593689\n",
      "Accuracy = Train: 0.800000011920929 Valid: 0.6035999059677124\n",
      "Epoch 15, CIFAR-10 Batch 2:  Loss = Train: 0.6241476535797119, Valid: 1.1339037418365479\n",
      "Accuracy = Train: 0.8500000238418579 Valid: 0.6063998937606812\n",
      "Epoch 15, CIFAR-10 Batch 3:  Loss = Train: 0.5501810908317566, Valid: 1.0920127630233765\n",
      "Accuracy = Train: 0.7750000357627869 Valid: 0.6223999261856079\n",
      "Epoch 15, CIFAR-10 Batch 4:  Loss = Train: 0.6045330762863159, Valid: 1.0826349258422852\n",
      "Accuracy = Train: 0.8000000715255737 Valid: 0.6277998685836792\n",
      "Epoch 15, CIFAR-10 Batch 5:  Loss = Train: 0.6377621293067932, Valid: 1.1279453039169312\n",
      "Accuracy = Train: 0.800000011920929 Valid: 0.6113998889923096\n"
     ]
    }
   ],
   "source": [
    "\"\"\"\n",
    "DON'T MODIFY ANYTHING IN THIS CELL\n",
    "\"\"\"\n",
    "save_model_path = './image_classification'\n",
    "\n",
    "print('Training...')\n",
    "with tf.Session() as sess:\n",
    "    # Initializing the variables\n",
    "    sess.run(tf.global_variables_initializer())\n",
    "    \n",
    "    # Training cycle\n",
    "    for epoch in range(epochs):\n",
    "        # Loop over all batches\n",
    "        n_batches = 5\n",
    "        for batch_i in range(1, n_batches + 1):\n",
    "            for batch_features, batch_labels in helper.load_preprocess_training_batch(batch_i, batch_size):\n",
    "                sess.run([optimizer], feed_dict={x: batch_features, y: batch_labels, keep_prob: keep_probability, cost_epoch: epoch})\n",
    "            print('Epoch {:>2}, CIFAR-10 Batch {}: \\n'.format(epoch + 1, batch_i), end='')\n",
    "            print_stats(sess, batch_features, batch_labels, cost, accuracy)\n",
    "            \n",
    "    # Save Model\n",
    "    saver = tf.train.Saver()\n",
    "    save_path = saver.save(sess, save_model_path)"
   ]
  },
  {
   "cell_type": "markdown",
   "metadata": {},
   "source": [
    "# Checkpoint\n",
    "The model has been saved to disk.\n",
    "## Test Model\n",
    "Test your model against the test dataset.  This will be your final accuracy. You should have an accuracy greater than 50%. If you don't, keep tweaking the model architecture and parameters."
   ]
  },
  {
   "cell_type": "code",
   "execution_count": 54,
   "metadata": {},
   "outputs": [
    {
     "name": "stdout",
     "output_type": "stream",
     "text": [
      "INFO:tensorflow:Restoring parameters from ./image_classification\n",
      "Testing Accuracy: 0.60615234375\n",
      "\n"
     ]
    },
    {
     "data": {
      "image/png": "[encoded data removed]",
      "text/plain": [
       "<matplotlib.figure.Figure at 0x7fcae4463470>"
      ]
     },
     "metadata": {
      "image/png": {
       "height": 319,
       "width": 355
      }
     },
     "output_type": "display_data"
    }
   ],
   "source": [
    "\"\"\"\n",
    "DON'T MODIFY ANYTHING IN THIS CELL\n",
    "\"\"\"\n",
    "%matplotlib inline\n",
    "%config InlineBackend.figure_format = 'retina'\n",
    "\n",
    "import tensorflow as tf\n",
    "import pickle\n",
    "import helper\n",
    "import random\n",
    "\n",
    "# Set batch size if not already set\n",
    "try:\n",
    "    if batch_size:\n",
    "        pass\n",
    "except NameError:\n",
    "    batch_size = 64\n",
    "\n",
    "save_model_path = './image_classification'\n",
    "n_samples = 4\n",
    "top_n_predictions = 3\n",
    "\n",
    "def test_model():\n",
    "    \"\"\"\n",
    "    Test the saved model against the test dataset\n",
    "    \"\"\"\n",
    "\n",
    "    test_features, test_labels = pickle.load(open('preprocess_test.p', mode='rb'))\n",
    "    loaded_graph = tf.Graph()\n",
    "\n",
    "    with tf.Session(graph=loaded_graph) as sess:\n",
    "        # Load model\n",
    "        loader = tf.train.import_meta_graph(save_model_path + '.meta')\n",
    "        loader.restore(sess, save_model_path)\n",
    "\n",
    "        # Get Tensors from loaded model\n",
    "        loaded_x = loaded_graph.get_tensor_by_name('x:0')\n",
    "        loaded_y = loaded_graph.get_tensor_by_name('y:0')\n",
    "        loaded_keep_prob = loaded_graph.get_tensor_by_name('keep_prob:0')\n",
    "        loaded_logits = loaded_graph.get_tensor_by_name('logits:0')\n",
    "        loaded_acc = loaded_graph.get_tensor_by_name('accuracy:0')\n",
    "        \n",
    "        # Get accuracy in batches for memory limitations\n",
    "        test_batch_acc_total = 0\n",
    "        test_batch_count = 0\n",
    "        \n",
    "        for test_feature_batch, test_label_batch in helper.batch_features_labels(test_features, test_labels, batch_size):\n",
    "            test_batch_acc_total += sess.run(\n",
    "                loaded_acc,\n",
    "                feed_dict={loaded_x: test_feature_batch, loaded_y: test_label_batch, loaded_keep_prob: 1.0})\n",
    "            test_batch_count += 1\n",
    "\n",
    "        print('Testing Accuracy: {}\\n'.format(test_batch_acc_total/test_batch_count))\n",
    "\n",
    "        # Print Random Samples\n",
    "        random_test_features, random_test_labels = tuple(zip(*random.sample(list(zip(test_features, test_labels)), n_samples)))\n",
    "        random_test_predictions = sess.run(\n",
    "            tf.nn.top_k(tf.nn.softmax(loaded_logits), top_n_predictions),\n",
    "            feed_dict={loaded_x: random_test_features, loaded_y: random_test_labels, loaded_keep_prob: 1.0})\n",
    "        helper.display_image_predictions(random_test_features, random_test_labels, random_test_predictions)\n",
    "\n",
    "\n",
    "test_model()"
   ]
  },
  {
   "cell_type": "markdown",
   "metadata": {},
   "source": [
    "## Why 50-80% Accuracy?\n",
    "You might be wondering why you can't get an accuracy any higher. First things first, 50% isn't bad for a simple CNN.  Pure guessing would get you 10% accuracy. However, you might notice people are getting scores [well above 80%](http://rodrigob.github.io/are_we_there_yet/build/classification_datasets_results.html#43494641522d3130).  That's because we haven't taught you all there is to know about neural networks. We still need to cover a few more techniques.\n",
    "## Submitting This Project\n",
    "When submitting this project, make sure to run all the cells before saving the notebook.  Save the notebook file as \"dlnd_image_classification.ipynb\" and save it as a HTML file under \"File\" -> \"Download as\".  Include the \"helper.py\" and \"problem_unittests.py\" files in your submission."
   ]
  }
 ],
 "metadata": {
  "kernelspec": {
   "display_name": "Python [default]",
   "language": "python",
   "name": "python3"
  },
  "language_info": {
   "codemirror_mode": {
    "name": "ipython",
    "version": 3
   },
   "file_extension": ".py",
   "mimetype": "text/x-python",
   "name": "python",
   "nbconvert_exporter": "python",
   "pygments_lexer": "ipython3",
   "version": "3.6.1"
  }
 },
 "nbformat": 4,
 "nbformat_minor": 1
}

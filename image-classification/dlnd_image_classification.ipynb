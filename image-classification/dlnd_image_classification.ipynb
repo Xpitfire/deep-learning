{
 "cells": [
  {
   "cell_type": "markdown",
   "metadata": {
    "collapsed": true
   },
   "source": [
    "# Image Classification\n",
    "In this project, you'll classify images from the [CIFAR-10 dataset](https://www.cs.toronto.edu/~kriz/cifar.html).  The dataset consists of airplanes, dogs, cats, and other objects. You'll preprocess the images, then train a convolutional neural network on all the samples. The images need to be normalized and the labels need to be one-hot encoded.  You'll get to apply what you learned and build a convolutional, max pooling, dropout, and fully connected layers.  At the end, you'll get to see your neural network's predictions on the sample images.\n",
    "## Get the Data\n",
    "Run the following cell to download the [CIFAR-10 dataset for python](https://www.cs.toronto.edu/~kriz/cifar-10-python.tar.gz)."
   ]
  },
  {
   "cell_type": "code",
   "execution_count": 1,
   "metadata": {},
   "outputs": [
    {
     "name": "stdout",
     "output_type": "stream",
     "text": [
      "All files found!\n"
     ]
    }
   ],
   "source": [
    "\"\"\"\n",
    "DON'T MODIFY ANYTHING IN THIS CELL THAT IS BELOW THIS LINE\n",
    "\"\"\"\n",
    "from urllib.request import urlretrieve\n",
    "from os.path import isfile, isdir\n",
    "from tqdm import tqdm\n",
    "import problem_unittests as tests\n",
    "import tarfile\n",
    "\n",
    "cifar10_dataset_folder_path = 'cifar-10-batches-py'\n",
    "\n",
    "# Use Floyd's cifar-10 dataset if present\n",
    "floyd_cifar10_location = '/input/cifar-10/python.tar.gz'\n",
    "if isfile(floyd_cifar10_location):\n",
    "    tar_gz_path = floyd_cifar10_location\n",
    "else:\n",
    "    tar_gz_path = 'cifar-10-python.tar.gz'\n",
    "\n",
    "class DLProgress(tqdm):\n",
    "    last_block = 0\n",
    "\n",
    "    def hook(self, block_num=1, block_size=1, total_size=None):\n",
    "        self.total = total_size\n",
    "        self.update((block_num - self.last_block) * block_size)\n",
    "        self.last_block = block_num\n",
    "\n",
    "if not isfile(tar_gz_path):\n",
    "    with DLProgress(unit='B', unit_scale=True, miniters=1, desc='CIFAR-10 Dataset') as pbar:\n",
    "        urlretrieve(\n",
    "            'https://www.cs.toronto.edu/~kriz/cifar-10-python.tar.gz',\n",
    "            tar_gz_path,\n",
    "            pbar.hook)\n",
    "\n",
    "if not isdir(cifar10_dataset_folder_path):\n",
    "    with tarfile.open(tar_gz_path) as tar:\n",
    "        tar.extractall()\n",
    "        tar.close()\n",
    "\n",
    "\n",
    "tests.test_folder_path(cifar10_dataset_folder_path)"
   ]
  },
  {
   "cell_type": "markdown",
   "metadata": {},
   "source": [
    "## Explore the Data\n",
    "The dataset is broken into batches to prevent your machine from running out of memory.  The CIFAR-10 dataset consists of 5 batches, named `data_batch_1`, `data_batch_2`, etc.. Each batch contains the labels and images that are one of the following:\n",
    "* airplane\n",
    "* automobile\n",
    "* bird\n",
    "* cat\n",
    "* deer\n",
    "* dog\n",
    "* frog\n",
    "* horse\n",
    "* ship\n",
    "* truck\n",
    "\n",
    "Understanding a dataset is part of making predictions on the data.  Play around with the code cell below by changing the `batch_id` and `sample_id`. The `batch_id` is the id for a batch (1-5). The `sample_id` is the id for a image and label pair in the batch.\n",
    "\n",
    "Ask yourself \"What are all possible labels?\", \"What is the range of values for the image data?\", \"Are the labels in order or random?\".  Answers to questions like these will help you preprocess the data and end up with better predictions."
   ]
  },
  {
   "cell_type": "code",
   "execution_count": 2,
   "metadata": {},
   "outputs": [
    {
     "name": "stdout",
     "output_type": "stream",
     "text": [
      "\n",
      "Stats of batch 4:\n",
      "Samples: 10000\n",
      "Label Counts: {0: 1003, 1: 963, 2: 1041, 3: 976, 4: 1004, 5: 1021, 6: 1004, 7: 981, 8: 1024, 9: 983}\n",
      "First 20 Labels: [0, 6, 0, 2, 7, 2, 1, 2, 4, 1, 5, 6, 6, 3, 1, 3, 5, 5, 8, 1]\n",
      "\n",
      "Example of Image 7:\n",
      "Image - Min Value: 17 Max Value: 221\n",
      "Image - Shape: (32, 32, 3)\n",
      "Label - Label Id: 2 Name: bird\n"
     ]
    },
    {
     "data": {
      "image/png": "[encoded data removed]",
      "text/plain": [
       "<matplotlib.figure.Figure at 0x7efefc443048>"
      ]
     },
     "metadata": {
      "image/png": {
       "height": 250,
       "width": 253
      }
     },
     "output_type": "display_data"
    }
   ],
   "source": [
    "%matplotlib inline\n",
    "%config InlineBackend.figure_format = 'retina'\n",
    "\n",
    "import helper\n",
    "import numpy as np\n",
    "\n",
    "# Explore the dataset\n",
    "batch_id = 4\n",
    "sample_id = 7\n",
    "batch_size = 5\n",
    "image_sizes = 32\n",
    "image_channels = 3\n",
    "helper.display_stats(cifar10_dataset_folder_path, batch_id, sample_id)"
   ]
  },
  {
   "cell_type": "markdown",
   "metadata": {},
   "source": [
    "## Implement Preprocess Functions\n",
    "### Normalize\n",
    "In the cell below, implement the `normalize` function to take in image data, `x`, and return it as a normalized Numpy array. The values should be in the range of 0 to 1, inclusive.  The return object should be the same shape as `x`."
   ]
  },
  {
   "cell_type": "code",
   "execution_count": 3,
   "metadata": {},
   "outputs": [
    {
     "name": "stdout",
     "output_type": "stream",
     "text": [
      "Tests Passed\n"
     ]
    }
   ],
   "source": [
    "def normalize(x):\n",
    "    \"\"\"\n",
    "    Normalize a list of sample image data in the range of 0 to 1\n",
    "    : x: List of image data.  The image shape is (32, 32, 3)\n",
    "    : return: Numpy array of normalize data\n",
    "    \"\"\"\n",
    "    # TODO: Implement Function\n",
    "    x_min = np.min(x)\n",
    "    return (x - x_min)/(np.max(x) - x_min)\n",
    "\n",
    "\n",
    "\"\"\"\n",
    "DON'T MODIFY ANYTHING IN THIS CELL THAT IS BELOW THIS LINE\n",
    "\"\"\"\n",
    "tests.test_normalize(normalize)"
   ]
  },
  {
   "cell_type": "markdown",
   "metadata": {},
   "source": [
    "### One-hot encode\n",
    "Just like the previous code cell, you'll be implementing a function for preprocessing.  This time, you'll implement the `one_hot_encode` function. The input, `x`, are a list of labels.  Implement the function to return the list of labels as One-Hot encoded Numpy array.  The possible values for labels are 0 to 9. The one-hot encoding function should return the same encoding for each value between each call to `one_hot_encode`.  Make sure to save the map of encodings outside the function.\n",
    "\n",
    "Hint: Don't reinvent the wheel."
   ]
  },
  {
   "cell_type": "code",
   "execution_count": 4,
   "metadata": {
    "scrolled": false
   },
   "outputs": [
    {
     "name": "stdout",
     "output_type": "stream",
     "text": [
      "Tests Passed\n"
     ]
    }
   ],
   "source": [
    "import tensorflow as tf\n",
    "\n",
    "def one_hot_encode(x):\n",
    "    \"\"\"\n",
    "    One hot encode a list of sample labels. Return a one-hot encoded vector for each label.\n",
    "    : x: List of sample Labels\n",
    "    : return: Numpy array of one-hot encoded labels\n",
    "    \"\"\"\n",
    "    # TODO: Implement Function\n",
    "    encoder = tf.one_hot(x, 10)\n",
    "    encodings = None\n",
    "    with tf.Session() as sess:\n",
    "        encodings = sess.run(encoder)\n",
    "    return encodings\n",
    "\n",
    "\"\"\"\n",
    "DON'T MODIFY ANYTHING IN THIS CELL THAT IS BELOW THIS LINE\n",
    "\"\"\"\n",
    "tests.test_one_hot_encode(one_hot_encode)"
   ]
  },
  {
   "cell_type": "markdown",
   "metadata": {},
   "source": [
    "### Randomize Data\n",
    "As you saw from exploring the data above, the order of the samples are randomized.  It doesn't hurt to randomize it again, but you don't need to for this dataset."
   ]
  },
  {
   "cell_type": "markdown",
   "metadata": {},
   "source": [
    "## Preprocess all the data and save it\n",
    "Running the code cell below will preprocess all the CIFAR-10 data and save it to file. The code below also uses 10% of the training data for validation."
   ]
  },
  {
   "cell_type": "code",
   "execution_count": 5,
   "metadata": {
    "collapsed": true
   },
   "outputs": [],
   "source": [
    "\"\"\"\n",
    "DON'T MODIFY ANYTHING IN THIS CELL\n",
    "\"\"\"\n",
    "# Preprocess Training, Validation, and Testing Data\n",
    "helper.preprocess_and_save_data(cifar10_dataset_folder_path, normalize, one_hot_encode)"
   ]
  },
  {
   "cell_type": "markdown",
   "metadata": {},
   "source": [
    "# Check Point\n",
    "This is your first checkpoint.  If you ever decide to come back to this notebook or have to restart the notebook, you can start from here.  The preprocessed data has been saved to disk."
   ]
  },
  {
   "cell_type": "code",
   "execution_count": 6,
   "metadata": {
    "collapsed": true
   },
   "outputs": [],
   "source": [
    "\"\"\"\n",
    "DON'T MODIFY ANYTHING IN THIS CELL\n",
    "\"\"\"\n",
    "import pickle\n",
    "import problem_unittests as tests\n",
    "import helper\n",
    "\n",
    "# Load the Preprocessed Validation data\n",
    "valid_features, valid_labels = pickle.load(open('preprocess_validation.p', mode='rb'))"
   ]
  },
  {
   "cell_type": "markdown",
   "metadata": {},
   "source": [
    "## Build the network\n",
    "For the neural network, you'll build each layer into a function.  Most of the code you've seen has been outside of functions. To test your code more thoroughly, we require that you put each layer in a function.  This allows us to give you better feedback and test for simple mistakes using our unittests before you submit your project.\n",
    "\n",
    ">**Note:** If you're finding it hard to dedicate enough time for this course each week, we've provided a small shortcut to this part of the project. In the next couple of problems, you'll have the option to use classes from the [TensorFlow Layers](https://www.tensorflow.org/api_docs/python/tf/layers) or [TensorFlow Layers (contrib)](https://www.tensorflow.org/api_guides/python/contrib.layers) packages to build each layer, except the layers you build in the \"Convolutional and Max Pooling Layer\" section.  TF Layers is similar to Keras's and TFLearn's abstraction to layers, so it's easy to pickup.\n",
    "\n",
    ">However, if you would like to get the most out of this course, try to solve all the problems _without_ using anything from the TF Layers packages. You **can** still use classes from other packages that happen to have the same name as ones you find in TF Layers! For example, instead of using the TF Layers version of the `conv2d` class, [tf.layers.conv2d](https://www.tensorflow.org/api_docs/python/tf/layers/conv2d), you would want to use the TF Neural Network version of `conv2d`, [tf.nn.conv2d](https://www.tensorflow.org/api_docs/python/tf/nn/conv2d). \n",
    "\n",
    "Let's begin!\n",
    "\n",
    "### Input\n",
    "The neural network needs to read the image data, one-hot encoded labels, and dropout keep probability. Implement the following functions\n",
    "* Implement `neural_net_image_input`\n",
    " * Return a [TF Placeholder](https://www.tensorflow.org/api_docs/python/tf/placeholder)\n",
    " * Set the shape using `image_shape` with batch size set to `None`.\n",
    " * Name the TensorFlow placeholder \"x\" using the TensorFlow `name` parameter in the [TF Placeholder](https://www.tensorflow.org/api_docs/python/tf/placeholder).\n",
    "* Implement `neural_net_label_input`\n",
    " * Return a [TF Placeholder](https://www.tensorflow.org/api_docs/python/tf/placeholder)\n",
    " * Set the shape using `n_classes` with batch size set to `None`.\n",
    " * Name the TensorFlow placeholder \"y\" using the TensorFlow `name` parameter in the [TF Placeholder](https://www.tensorflow.org/api_docs/python/tf/placeholder).\n",
    "* Implement `neural_net_keep_prob_input`\n",
    " * Return a [TF Placeholder](https://www.tensorflow.org/api_docs/python/tf/placeholder) for dropout keep probability.\n",
    " * Name the TensorFlow placeholder \"keep_prob\" using the TensorFlow `name` parameter in the [TF Placeholder](https://www.tensorflow.org/api_docs/python/tf/placeholder).\n",
    "\n",
    "These names will be used at the end of the project to load your saved model.\n",
    "\n",
    "Note: `None` for shapes in TensorFlow allow for a dynamic size."
   ]
  },
  {
   "cell_type": "code",
   "execution_count": 7,
   "metadata": {},
   "outputs": [
    {
     "name": "stdout",
     "output_type": "stream",
     "text": [
      "Image Input Tests Passed.\n",
      "Label Input Tests Passed.\n",
      "Keep Prob Tests Passed.\n"
     ]
    }
   ],
   "source": [
    "import tensorflow as tf\n",
    "\n",
    "def neural_net_image_input(image_shape):\n",
    "    \"\"\"\n",
    "    Return a Tensor for a batch of image input\n",
    "    : image_shape: Shape of the images\n",
    "    : return: Tensor for image input.\n",
    "    \"\"\"\n",
    "    # TODO: Implement Function\n",
    "    height, width, depth = image_shape\n",
    "    return tf.placeholder(tf.float32, [None, height, width, depth], name='x')\n",
    "\n",
    "\n",
    "def neural_net_label_input(n_classes):\n",
    "    \"\"\"\n",
    "    Return a Tensor for a batch of label input\n",
    "    : n_classes: Number of classes\n",
    "    : return: Tensor for label input.\n",
    "    \"\"\"\n",
    "    # TODO: Implement Function\n",
    "    return tf.placeholder(tf.float32, [None, n_classes], name='y')\n",
    "\n",
    "\n",
    "def neural_net_keep_prob_input():\n",
    "    \"\"\"\n",
    "    Return a Tensor for keep probability\n",
    "    : return: Tensor for keep probability.\n",
    "    \"\"\"\n",
    "    # TODO: Implement Function\n",
    "    return tf.placeholder(tf.float32, name='keep_prob')\n",
    "\n",
    "\n",
    "\"\"\"\n",
    "DON'T MODIFY ANYTHING IN THIS CELL THAT IS BELOW THIS LINE\n",
    "\"\"\"\n",
    "tf.reset_default_graph()\n",
    "tests.test_nn_image_inputs(neural_net_image_input)\n",
    "tests.test_nn_label_inputs(neural_net_label_input)\n",
    "tests.test_nn_keep_prob_inputs(neural_net_keep_prob_input)"
   ]
  },
  {
   "cell_type": "markdown",
   "metadata": {},
   "source": [
    "### Convolution and Max Pooling Layer\n",
    "Convolution layers have a lot of success with images. For this code cell, you should implement the function `conv2d_maxpool` to apply convolution then max pooling:\n",
    "* Create the weight and bias using `conv_ksize`, `conv_num_outputs` and the shape of `x_tensor`.\n",
    "* Apply a convolution to `x_tensor` using weight and `conv_strides`.\n",
    " * We recommend you use same padding, but you're welcome to use any padding.\n",
    "* Add bias\n",
    "* Add a nonlinear activation to the convolution.\n",
    "* Apply Max Pooling using `pool_ksize` and `pool_strides`.\n",
    " * We recommend you use same padding, but you're welcome to use any padding.\n",
    "\n",
    "**Note:** You **can't** use [TensorFlow Layers](https://www.tensorflow.org/api_docs/python/tf/layers) or [TensorFlow Layers (contrib)](https://www.tensorflow.org/api_guides/python/contrib.layers) for **this** layer, but you can still use TensorFlow's [Neural Network](https://www.tensorflow.org/api_docs/python/tf/nn) package. You may still use the shortcut option for all the **other** layers."
   ]
  },
  {
   "cell_type": "markdown",
   "metadata": {},
   "source": [
    "### Formula\n",
    "\n",
    "$\n",
    "h_{new} = \\frac{h_{ori} - h_{k} + 2P}{s} + 1\n",
    "$"
   ]
  },
  {
   "cell_type": "code",
   "execution_count": 8,
   "metadata": {
    "scrolled": false
   },
   "outputs": [
    {
     "name": "stdout",
     "output_type": "stream",
     "text": [
      "Tests Passed\n"
     ]
    }
   ],
   "source": [
    "def conv2d_maxpool(x_tensor, conv_num_outputs, conv_ksize, conv_strides, pool_ksize, pool_strides):\n",
    "    \"\"\"\n",
    "    Apply convolution then max pooling to x_tensor\n",
    "    :param x_tensor: TensorFlow Tensor\n",
    "    :param conv_num_outputs: Number of outputs for the convolutional layer\n",
    "    :param conv_ksize: kernal size 2-D Tuple for the convolutional layer\n",
    "    :param conv_strides: Stride 2-D Tuple for convolution\n",
    "    :param pool_ksize: kernal size 2-D Tuple for pool\n",
    "    :param pool_strides: Stride 2-D Tuple for pool\n",
    "    : return: A tensor that represents convolution and max pooling of x_tensor\n",
    "    \"\"\"\n",
    "    # TODO: Implement Function\n",
    "    x_shape = x_tensor.get_shape().as_list()\n",
    "    stddev = 2 / np.sqrt(x_shape[1] * x_shape[2] * x_shape[3])\n",
    "    w_init = tf.truncated_normal([conv_ksize[0], conv_ksize[1], x_shape[3], conv_num_outputs], stddev=stddev)\n",
    "    W = tf.Variable(w_init)\n",
    "    b = tf.Variable(tf.zeros([conv_num_outputs]))\n",
    "    conv = tf.nn.conv2d(x_tensor, W, strides=[1, conv_strides[0], conv_strides[1], 1], padding='SAME')\n",
    "    conv = tf.nn.bias_add(conv, b)\n",
    "    conv = tf.nn.relu(conv)\n",
    "    pool = tf.nn.pool(conv, [pool_ksize[0], pool_ksize[1]], pooling_type='MAX', strides=[pool_strides[0], pool_strides[1]], padding='VALID')\n",
    "    return pool\n",
    "\n",
    "\n",
    "\"\"\"\n",
    "DON'T MODIFY ANYTHING IN THIS CELL THAT IS BELOW THIS LINE\n",
    "\"\"\"\n",
    "tests.test_con_pool(conv2d_maxpool)"
   ]
  },
  {
   "cell_type": "markdown",
   "metadata": {},
   "source": [
    "### Flatten Layer\n",
    "Implement the `flatten` function to change the dimension of `x_tensor` from a 4-D tensor to a 2-D tensor.  The output should be the shape (*Batch Size*, *Flattened Image Size*). Shortcut option: you can use classes from the [TensorFlow Layers](https://www.tensorflow.org/api_docs/python/tf/layers) or [TensorFlow Layers (contrib)](https://www.tensorflow.org/api_guides/python/contrib.layers) packages for this layer. For more of a challenge, only use other TensorFlow packages."
   ]
  },
  {
   "cell_type": "code",
   "execution_count": 9,
   "metadata": {},
   "outputs": [
    {
     "name": "stdout",
     "output_type": "stream",
     "text": [
      "Tests Passed\n"
     ]
    }
   ],
   "source": [
    "def flatten(x_tensor):\n",
    "    \"\"\"\n",
    "    Flatten x_tensor to (Batch Size, Flattened Image Size)\n",
    "    : x_tensor: A tensor of size (Batch Size, ...), where ... are the image dimensions.\n",
    "    : return: A tensor of size (Batch Size, Flattened Image Size).\n",
    "    \"\"\"\n",
    "    # TODO: Implement Function\n",
    "    tensor_shape = x_tensor.get_shape().as_list()\n",
    "    return tf.reshape(x_tensor, [-1, tensor_shape[1]*tensor_shape[2]*tensor_shape[3]])\n",
    "\n",
    "\n",
    "\"\"\"\n",
    "DON'T MODIFY ANYTHING IN THIS CELL THAT IS BELOW THIS LINE\n",
    "\"\"\"\n",
    "tests.test_flatten(flatten)"
   ]
  },
  {
   "cell_type": "markdown",
   "metadata": {},
   "source": [
    "### Fully-Connected Layer\n",
    "Implement the `fully_conn` function to apply a fully connected layer to `x_tensor` with the shape (*Batch Size*, *num_outputs*). Shortcut option: you can use classes from the [TensorFlow Layers](https://www.tensorflow.org/api_docs/python/tf/layers) or [TensorFlow Layers (contrib)](https://www.tensorflow.org/api_guides/python/contrib.layers) packages for this layer. For more of a challenge, only use other TensorFlow packages."
   ]
  },
  {
   "cell_type": "code",
   "execution_count": 10,
   "metadata": {},
   "outputs": [
    {
     "name": "stdout",
     "output_type": "stream",
     "text": [
      "Tests Passed\n"
     ]
    }
   ],
   "source": [
    "def fully_conn(x_tensor, num_outputs):\n",
    "    \"\"\"\n",
    "    Apply a fully connected layer to x_tensor using weight and bias\n",
    "    : x_tensor: A 2-D tensor where the first dimension is batch size.\n",
    "    : num_outputs: The number of output that the new tensor should be.\n",
    "    : return: A 2-D tensor where the second dimension is num_outputs.\n",
    "    \"\"\"\n",
    "    # TODO: Implement Function\n",
    "    x_shape = x_tensor.get_shape().as_list()\n",
    "    stddev = 2 / np.sqrt(x_shape[1])\n",
    "    w_init = tf.truncated_normal([x_shape[1], num_outputs], stddev=stddev)\n",
    "    W = tf.Variable(w_init)\n",
    "    b = tf.Variable(tf.zeros([num_outputs]))\n",
    "    logits = tf.nn.bias_add(tf.matmul(x_tensor, W), b)\n",
    "    return tf.nn.relu(logits)\n",
    "\n",
    "\n",
    "\"\"\"\n",
    "DON'T MODIFY ANYTHING IN THIS CELL THAT IS BELOW THIS LINE\n",
    "\"\"\"\n",
    "tests.test_fully_conn(fully_conn)"
   ]
  },
  {
   "cell_type": "markdown",
   "metadata": {},
   "source": [
    "### Output Layer\n",
    "Implement the `output` function to apply a fully connected layer to `x_tensor` with the shape (*Batch Size*, *num_outputs*). Shortcut option: you can use classes from the [TensorFlow Layers](https://www.tensorflow.org/api_docs/python/tf/layers) or [TensorFlow Layers (contrib)](https://www.tensorflow.org/api_guides/python/contrib.layers) packages for this layer. For more of a challenge, only use other TensorFlow packages.\n",
    "\n",
    "**Note:** Activation, softmax, or cross entropy should **not** be applied to this."
   ]
  },
  {
   "cell_type": "code",
   "execution_count": 11,
   "metadata": {},
   "outputs": [
    {
     "name": "stdout",
     "output_type": "stream",
     "text": [
      "Tests Passed\n"
     ]
    }
   ],
   "source": [
    "def output(x_tensor, num_outputs):\n",
    "    \"\"\"\n",
    "    Apply a output layer to x_tensor using weight and bias\n",
    "    : x_tensor: A 2-D tensor where the first dimension is batch size.\n",
    "    : num_outputs: The number of output that the new tensor should be.\n",
    "    : return: A 2-D tensor where the second dimension is num_outputs.\n",
    "    \"\"\"\n",
    "    # TODO: Implement Function\n",
    "    x_shape = x_tensor.get_shape().as_list()\n",
    "    stddev = 2 / np.sqrt(x_shape[1])\n",
    "    w_init = tf.truncated_normal([x_shape[1], num_outputs], stddev=stddev)\n",
    "    W = tf.Variable(w_init)\n",
    "    b = tf.Variable(tf.zeros([num_outputs]))\n",
    "    return tf.nn.bias_add(tf.matmul(x_tensor, W), b)\n",
    "\n",
    "\n",
    "\"\"\"\n",
    "DON'T MODIFY ANYTHING IN THIS CELL THAT IS BELOW THIS LINE\n",
    "\"\"\"\n",
    "tests.test_output(output)"
   ]
  },
  {
   "cell_type": "markdown",
   "metadata": {},
   "source": [
    "### Create Convolutional Model\n",
    "Implement the function `conv_net` to create a convolutional neural network model. The function takes in a batch of images, `x`, and outputs logits.  Use the layers you created above to create this model:\n",
    "\n",
    "* Apply 1, 2, or 3 Convolution and Max Pool layers\n",
    "* Apply a Flatten Layer\n",
    "* Apply 1, 2, or 3 Fully Connected Layers\n",
    "* Apply an Output Layer\n",
    "* Return the output\n",
    "* Apply [TensorFlow's Dropout](https://www.tensorflow.org/api_docs/python/tf/nn/dropout) to one or more layers in the model using `keep_prob`. "
   ]
  },
  {
   "cell_type": "code",
   "execution_count": 12,
   "metadata": {},
   "outputs": [
    {
     "name": "stdout",
     "output_type": "stream",
     "text": [
      "Neural Network Built!\n"
     ]
    }
   ],
   "source": [
    "def conv_net(x, keep_prob):\n",
    "    \"\"\"\n",
    "    Create a convolutional neural network model\n",
    "    : x: Placeholder tensor that holds image data.\n",
    "    : keep_prob: Placeholder tensor that hold dropout keep probability.\n",
    "    : return: Tensor that represents logits\n",
    "    \"\"\"\n",
    "    # TODO: Apply 1, 2, or 3 Convolution and Max Pool layers\n",
    "    #    Play around with different number of outputs, kernel size and stride\n",
    "    # Function Definition from Above:\n",
    "    #    conv2d_maxpool(x_tensor, conv_num_outputs, conv_ksize, conv_strides, pool_ksize, pool_strides)\n",
    "    conv_1 = conv2d_maxpool(x, 192, [5, 5], [1, 1], [2, 2], [2, 2])\n",
    "    conv_2 = conv2d_maxpool(conv_1, 256, [3, 3], [1, 1], [1, 1], [1, 1])\n",
    "    conv_out = tf.nn.dropout(conv_2, keep_prob)\n",
    "\n",
    "    # TODO: Apply a Flatten Layer\n",
    "    # Function Definition from Above:\n",
    "    #   flatten(x_tensor)\n",
    "    conv_flat = flatten(conv_out)\n",
    "\n",
    "    # TODO: Apply 1, 2, or 3 Fully Connected Layers\n",
    "    #    Play around with different number of outputs\n",
    "    # Function Definition from Above:\n",
    "    #   fully_conn(x_tensor, num_outputs)\n",
    "    fc_1 = fully_conn(conv_flat, 1024)\n",
    "    fc_1_drop = tf.nn.dropout(fc_1, keep_prob)\n",
    "    fc_out = fully_conn(fc_1_drop, 512)\n",
    "    \n",
    "    # TODO: Apply an Output Layer\n",
    "    #    Set this to the number of classes\n",
    "    # Function Definition from Above:\n",
    "    #   output(x_tensor, num_outputs)\n",
    "    out = output(fc_out, 10)\n",
    "    \n",
    "    # TODO: return output\n",
    "    return out\n",
    "\n",
    "\n",
    "\"\"\"\n",
    "DON'T MODIFY ANYTHING IN THIS CELL THAT IS BELOW THIS LINE\n",
    "\"\"\"\n",
    "\n",
    "##############################\n",
    "## Build the Neural Network ##\n",
    "##############################\n",
    "\n",
    "# Remove previous weights, bias, inputs, etc..\n",
    "tf.reset_default_graph()\n",
    "\n",
    "# Inputs\n",
    "x = neural_net_image_input((32, 32, 3))\n",
    "y = neural_net_label_input(10)\n",
    "keep_prob = neural_net_keep_prob_input()\n",
    "\n",
    "# Model\n",
    "logits = conv_net(x, keep_prob)\n",
    "\n",
    "# Name logits Tensor, so that is can be loaded from disk after training\n",
    "logits = tf.identity(logits, name='logits')\n",
    "\n",
    "# Loss and Optimizer\n",
    "cost = tf.reduce_mean(tf.nn.softmax_cross_entropy_with_logits(logits=logits, labels=y))\n",
    "optimizer = tf.train.AdamOptimizer().minimize(cost)\n",
    "\n",
    "# Accuracy\n",
    "correct_pred = tf.equal(tf.argmax(logits, 1), tf.argmax(y, 1))\n",
    "accuracy = tf.reduce_mean(tf.cast(correct_pred, tf.float32), name='accuracy')\n",
    "\n",
    "tests.test_conv_net(conv_net)"
   ]
  },
  {
   "cell_type": "markdown",
   "metadata": {},
   "source": [
    "## Train the Neural Network\n",
    "### Single Optimization\n",
    "Implement the function `train_neural_network` to do a single optimization.  The optimization should use `optimizer` to optimize in `session` with a `feed_dict` of the following:\n",
    "* `x` for image input\n",
    "* `y` for labels\n",
    "* `keep_prob` for keep probability for dropout\n",
    "\n",
    "This function will be called for each batch, so `tf.global_variables_initializer()` has already been called.\n",
    "\n",
    "Note: Nothing needs to be returned. This function is only optimizing the neural network."
   ]
  },
  {
   "cell_type": "code",
   "execution_count": 13,
   "metadata": {},
   "outputs": [
    {
     "name": "stdout",
     "output_type": "stream",
     "text": [
      "Tests Passed\n"
     ]
    }
   ],
   "source": [
    "def train_neural_network(session, optimizer, keep_probability, feature_batch, label_batch):\n",
    "    \"\"\"\n",
    "    Optimize the session on a batch of images and labels\n",
    "    : session: Current TensorFlow session\n",
    "    : optimizer: TensorFlow optimizer function\n",
    "    : keep_probability: keep probability\n",
    "    : feature_batch: Batch of Numpy image data\n",
    "    : label_batch: Batch of Numpy label data\n",
    "    \"\"\"\n",
    "    # TODO: Implement Function\n",
    "    session.run(optimizer, feed_dict={x:feature_batch, y: label_batch, keep_prob: keep_probability})\n",
    "\n",
    "\n",
    "\"\"\"\n",
    "DON'T MODIFY ANYTHING IN THIS CELL THAT IS BELOW THIS LINE\n",
    "\"\"\"\n",
    "tests.test_train_nn(train_neural_network)"
   ]
  },
  {
   "cell_type": "markdown",
   "metadata": {},
   "source": [
    "### Show Stats\n",
    "Implement the function `print_stats` to print loss and validation accuracy.  Use the global variables `valid_features` and `valid_labels` to calculate validation accuracy.  Use a keep probability of `1.0` to calculate the loss and validation accuracy."
   ]
  },
  {
   "cell_type": "code",
   "execution_count": 14,
   "metadata": {
    "collapsed": true
   },
   "outputs": [],
   "source": [
    "def print_stats(session, feature_batch, label_batch, cost, accuracy):\n",
    "    \"\"\"\n",
    "    Print information about loss and validation accuracy\n",
    "    : session: Current TensorFlow session\n",
    "    : feature_batch: Batch of Numpy image data\n",
    "    : label_batch: Batch of Numpy label data\n",
    "    : cost: TensorFlow cost function\n",
    "    : accuracy: TensorFlow accuracy function\n",
    "    \"\"\"\n",
    "    # TODO: Implement Function\n",
    "    loss = session.run(cost, feed_dict={x:feature_batch, y:label_batch, keep_prob:1.})\n",
    "    valid_accuracy = session.run(accuracy, feed_dict={x:valid_features, y:valid_labels, keep_prob:1.})\n",
    "    print('Accuracy: {}, Loss: {}'.format(valid_accuracy, loss))"
   ]
  },
  {
   "cell_type": "markdown",
   "metadata": {},
   "source": [
    "### Hyperparameters\n",
    "Tune the following parameters:\n",
    "* Set `epochs` to the number of iterations until the network stops learning or start overfitting\n",
    "* Set `batch_size` to the highest number that your machine has memory for.  Most people set them to common sizes of memory:\n",
    " * 64\n",
    " * 128\n",
    " * 256\n",
    " * ...\n",
    "* Set `keep_probability` to the probability of keeping a node using dropout"
   ]
  },
  {
   "cell_type": "code",
   "execution_count": 15,
   "metadata": {
    "collapsed": true
   },
   "outputs": [],
   "source": [
    "# TODO: Tune Parameters\n",
    "epochs = 30\n",
    "batch_size = 512\n",
    "keep_probability = .6"
   ]
  },
  {
   "cell_type": "markdown",
   "metadata": {},
   "source": [
    "### Train on a Single CIFAR-10 Batch\n",
    "Instead of training the neural network on all the CIFAR-10 batches of data, let's use a single batch. This should save time while you iterate on the model to get a better accuracy.  Once the final validation accuracy is 50% or greater, run the model on all the data in the next section."
   ]
  },
  {
   "cell_type": "code",
   "execution_count": 16,
   "metadata": {
    "scrolled": false
   },
   "outputs": [
    {
     "name": "stdout",
     "output_type": "stream",
     "text": [
      "Checking the Training on a Single Batch...\n",
      "Epoch  1, CIFAR-10 Batch 1:  Accuracy: 0.20899997651576996, Loss: 2.1150870323181152\n",
      "Epoch  2, CIFAR-10 Batch 1:  Accuracy: 0.3787999749183655, Loss: 1.7623075246810913\n",
      "Epoch  3, CIFAR-10 Batch 1:  Accuracy: 0.436599999666214, Loss: 1.6000386476516724\n",
      "Epoch  4, CIFAR-10 Batch 1:  Accuracy: 0.4757999777793884, Loss: 1.4012596607208252\n",
      "Epoch  5, CIFAR-10 Batch 1:  Accuracy: 0.4389999806880951, Loss: 1.4067503213882446\n",
      "Epoch  6, CIFAR-10 Batch 1:  Accuracy: 0.5155999660491943, Loss: 1.1520910263061523\n",
      "Epoch  7, CIFAR-10 Batch 1:  Accuracy: 0.5169999599456787, Loss: 1.0467203855514526\n",
      "Epoch  8, CIFAR-10 Batch 1:  Accuracy: 0.5407999157905579, Loss: 0.8531498312950134\n",
      "Epoch  9, CIFAR-10 Batch 1:  Accuracy: 0.5339999198913574, Loss: 0.7767938375473022\n",
      "Epoch 10, CIFAR-10 Batch 1:  Accuracy: 0.5539999008178711, Loss: 0.6104190349578857\n",
      "Epoch 11, CIFAR-10 Batch 1:  Accuracy: 0.5613999366760254, Loss: 0.5394446849822998\n",
      "Epoch 12, CIFAR-10 Batch 1:  Accuracy: 0.5477998852729797, Loss: 0.4468538165092468\n",
      "Epoch 13, CIFAR-10 Batch 1:  Accuracy: 0.5635999441146851, Loss: 0.37790510058403015\n",
      "Epoch 14, CIFAR-10 Batch 1:  Accuracy: 0.5625999569892883, Loss: 0.3201069235801697\n",
      "Epoch 15, CIFAR-10 Batch 1:  Accuracy: 0.5481999516487122, Loss: 0.2643931806087494\n",
      "Epoch 16, CIFAR-10 Batch 1:  Accuracy: 0.5691999197006226, Loss: 0.1677897572517395\n",
      "Epoch 17, CIFAR-10 Batch 1:  Accuracy: 0.5345999598503113, Loss: 0.16462787985801697\n",
      "Epoch 18, CIFAR-10 Batch 1:  Accuracy: 0.5665999054908752, Loss: 0.122983917593956\n",
      "Epoch 19, CIFAR-10 Batch 1:  Accuracy: 0.5417999625205994, Loss: 0.12140510231256485\n",
      "Epoch 20, CIFAR-10 Batch 1:  Accuracy: 0.5519999265670776, Loss: 0.0898122563958168\n",
      "Epoch 21, CIFAR-10 Batch 1:  Accuracy: 0.5453999638557434, Loss: 0.08749227970838547\n",
      "Epoch 22, CIFAR-10 Batch 1:  Accuracy: 0.55159991979599, Loss: 0.05504598841071129\n",
      "Epoch 23, CIFAR-10 Batch 1:  Accuracy: 0.5485999584197998, Loss: 0.04764336720108986\n",
      "Epoch 24, CIFAR-10 Batch 1:  Accuracy: 0.5427999496459961, Loss: 0.04123832285404205\n",
      "Epoch 25, CIFAR-10 Batch 1:  Accuracy: 0.5461999177932739, Loss: 0.036401208490133286\n",
      "Epoch 26, CIFAR-10 Batch 1:  Accuracy: 0.543199896812439, Loss: 0.04182925075292587\n",
      "Epoch 27, CIFAR-10 Batch 1:  Accuracy: 0.559999942779541, Loss: 0.02952994778752327\n",
      "Epoch 28, CIFAR-10 Batch 1:  Accuracy: 0.5669999122619629, Loss: 0.023059546947479248\n",
      "Epoch 29, CIFAR-10 Batch 1:  Accuracy: 0.5585999488830566, Loss: 0.013321921229362488\n",
      "Epoch 30, CIFAR-10 Batch 1:  Accuracy: 0.5697999000549316, Loss: 0.016085593029856682\n"
     ]
    }
   ],
   "source": [
    "\"\"\"\n",
    "DON'T MODIFY ANYTHING IN THIS CELL\n",
    "\"\"\"\n",
    "print('Checking the Training on a Single Batch...')\n",
    "with tf.Session() as sess:\n",
    "    # Initializing the variables\n",
    "    sess.run(tf.global_variables_initializer())\n",
    "    \n",
    "    # Training cycle\n",
    "    for epoch in range(epochs):\n",
    "        batch_i = 1\n",
    "        for batch_features, batch_labels in helper.load_preprocess_training_batch(batch_i, batch_size):\n",
    "            train_neural_network(sess, optimizer, keep_probability, batch_features, batch_labels)\n",
    "        print('Epoch {:>2}, CIFAR-10 Batch {}:  '.format(epoch + 1, batch_i), end='')\n",
    "        print_stats(sess, batch_features, batch_labels, cost, accuracy)"
   ]
  },
  {
   "cell_type": "markdown",
   "metadata": {},
   "source": [
    "### Fully Train the Model\n",
    "Now that you got a good accuracy with a single CIFAR-10 batch, try it with all five batches."
   ]
  },
  {
   "cell_type": "code",
   "execution_count": 17,
   "metadata": {
    "scrolled": false
   },
   "outputs": [
    {
     "name": "stdout",
     "output_type": "stream",
     "text": [
      "Training...\n",
      "Epoch  1, CIFAR-10 Batch 1:  Accuracy: 0.16520000994205475, Loss: 2.1763710975646973\n",
      "Epoch  1, CIFAR-10 Batch 2:  Accuracy: 0.3507999777793884, Loss: 1.7597906589508057\n",
      "Epoch  1, CIFAR-10 Batch 3:  Accuracy: 0.39639997482299805, Loss: 1.480670690536499\n",
      "Epoch  1, CIFAR-10 Batch 4:  Accuracy: 0.45739996433258057, Loss: 1.4238511323928833\n",
      "Epoch  1, CIFAR-10 Batch 5:  Accuracy: 0.4909999370574951, Loss: 1.3755680322647095\n",
      "Epoch  2, CIFAR-10 Batch 1:  Accuracy: 0.4941999316215515, Loss: 1.4574366807937622\n",
      "Epoch  2, CIFAR-10 Batch 2:  Accuracy: 0.5291999578475952, Loss: 1.2674249410629272\n",
      "Epoch  2, CIFAR-10 Batch 3:  Accuracy: 0.5403999090194702, Loss: 1.0717182159423828\n",
      "Epoch  2, CIFAR-10 Batch 4:  Accuracy: 0.5641999244689941, Loss: 1.0456292629241943\n",
      "Epoch  2, CIFAR-10 Batch 5:  Accuracy: 0.5569999814033508, Loss: 1.0922214984893799\n",
      "Epoch  3, CIFAR-10 Batch 1:  Accuracy: 0.5561999082565308, Loss: 1.1892971992492676\n",
      "Epoch  3, CIFAR-10 Batch 2:  Accuracy: 0.5877999663352966, Loss: 1.0285933017730713\n",
      "Epoch  3, CIFAR-10 Batch 3:  Accuracy: 0.5899999141693115, Loss: 0.887972354888916\n",
      "Epoch  3, CIFAR-10 Batch 4:  Accuracy: 0.5965999364852905, Loss: 0.9051505327224731\n",
      "Epoch  3, CIFAR-10 Batch 5:  Accuracy: 0.5841999053955078, Loss: 0.9621914625167847\n",
      "Epoch  4, CIFAR-10 Batch 1:  Accuracy: 0.6023999452590942, Loss: 1.0311089754104614\n",
      "Epoch  4, CIFAR-10 Batch 2:  Accuracy: 0.6111998558044434, Loss: 0.9057013392448425\n",
      "Epoch  4, CIFAR-10 Batch 3:  Accuracy: 0.6145999431610107, Loss: 0.762896716594696\n",
      "Epoch  4, CIFAR-10 Batch 4:  Accuracy: 0.6185998916625977, Loss: 0.7918314337730408\n",
      "Epoch  4, CIFAR-10 Batch 5:  Accuracy: 0.6291998624801636, Loss: 0.7990940809249878\n",
      "Epoch  5, CIFAR-10 Batch 1:  Accuracy: 0.6335999369621277, Loss: 0.9048078656196594\n",
      "Epoch  5, CIFAR-10 Batch 2:  Accuracy: 0.6511998772621155, Loss: 0.7889017462730408\n",
      "Epoch  5, CIFAR-10 Batch 3:  Accuracy: 0.6467998623847961, Loss: 0.6613783836364746\n",
      "Epoch  5, CIFAR-10 Batch 4:  Accuracy: 0.6411998867988586, Loss: 0.6820852160453796\n",
      "Epoch  5, CIFAR-10 Batch 5:  Accuracy: 0.6509998440742493, Loss: 0.7121132016181946\n",
      "Epoch  6, CIFAR-10 Batch 1:  Accuracy: 0.6527999043464661, Loss: 0.7712116241455078\n",
      "Epoch  6, CIFAR-10 Batch 2:  Accuracy: 0.658599853515625, Loss: 0.6996454000473022\n",
      "Epoch  6, CIFAR-10 Batch 3:  Accuracy: 0.6693999171257019, Loss: 0.591164767742157\n",
      "Epoch  6, CIFAR-10 Batch 4:  Accuracy: 0.6515998840332031, Loss: 0.6077976226806641\n",
      "Epoch  6, CIFAR-10 Batch 5:  Accuracy: 0.6655998826026917, Loss: 0.6261577606201172\n",
      "Epoch  7, CIFAR-10 Batch 1:  Accuracy: 0.6657999157905579, Loss: 0.6494140625\n",
      "Epoch  7, CIFAR-10 Batch 2:  Accuracy: 0.6769998669624329, Loss: 0.6295623779296875\n",
      "Epoch  7, CIFAR-10 Batch 3:  Accuracy: 0.6743998527526855, Loss: 0.5065294504165649\n",
      "Epoch  7, CIFAR-10 Batch 4:  Accuracy: 0.6677998900413513, Loss: 0.541979193687439\n",
      "Epoch  7, CIFAR-10 Batch 5:  Accuracy: 0.6723998785018921, Loss: 0.5614867210388184\n",
      "Epoch  8, CIFAR-10 Batch 1:  Accuracy: 0.663399875164032, Loss: 0.548259973526001\n",
      "Epoch  8, CIFAR-10 Batch 2:  Accuracy: 0.6625998616218567, Loss: 0.5960344672203064\n",
      "Epoch  8, CIFAR-10 Batch 3:  Accuracy: 0.6685999035835266, Loss: 0.4655301570892334\n",
      "Epoch  8, CIFAR-10 Batch 4:  Accuracy: 0.6817998886108398, Loss: 0.440360426902771\n",
      "Epoch  8, CIFAR-10 Batch 5:  Accuracy: 0.6783998012542725, Loss: 0.4708864092826843\n",
      "Epoch  9, CIFAR-10 Batch 1:  Accuracy: 0.6933999061584473, Loss: 0.45149344205856323\n",
      "Epoch  9, CIFAR-10 Batch 2:  Accuracy: 0.6835998892784119, Loss: 0.4900892376899719\n",
      "Epoch  9, CIFAR-10 Batch 3:  Accuracy: 0.6851998567581177, Loss: 0.4068247973918915\n",
      "Epoch  9, CIFAR-10 Batch 4:  Accuracy: 0.6815998554229736, Loss: 0.41487589478492737\n",
      "Epoch  9, CIFAR-10 Batch 5:  Accuracy: 0.6761999130249023, Loss: 0.43064209818840027\n",
      "Epoch 10, CIFAR-10 Batch 1:  Accuracy: 0.6911998391151428, Loss: 0.4013194441795349\n",
      "Epoch 10, CIFAR-10 Batch 2:  Accuracy: 0.6881998777389526, Loss: 0.41953521966934204\n",
      "Epoch 10, CIFAR-10 Batch 3:  Accuracy: 0.6767998337745667, Loss: 0.34993207454681396\n",
      "Epoch 10, CIFAR-10 Batch 4:  Accuracy: 0.7027998566627502, Loss: 0.3205716013908386\n",
      "Epoch 10, CIFAR-10 Batch 5:  Accuracy: 0.6981998682022095, Loss: 0.3283904790878296\n",
      "Epoch 11, CIFAR-10 Batch 1:  Accuracy: 0.7009998559951782, Loss: 0.39428359270095825\n",
      "Epoch 11, CIFAR-10 Batch 2:  Accuracy: 0.6771998405456543, Loss: 0.37158989906311035\n",
      "Epoch 11, CIFAR-10 Batch 3:  Accuracy: 0.6951999068260193, Loss: 0.27058112621307373\n",
      "Epoch 11, CIFAR-10 Batch 4:  Accuracy: 0.6997998952865601, Loss: 0.27156582474708557\n",
      "Epoch 11, CIFAR-10 Batch 5:  Accuracy: 0.6973998546600342, Loss: 0.29452401399612427\n",
      "Epoch 12, CIFAR-10 Batch 1:  Accuracy: 0.6993998885154724, Loss: 0.2935843765735626\n",
      "Epoch 12, CIFAR-10 Batch 2:  Accuracy: 0.6623998880386353, Loss: 0.3469744622707367\n",
      "Epoch 12, CIFAR-10 Batch 3:  Accuracy: 0.6951998472213745, Loss: 0.24289867281913757\n",
      "Epoch 12, CIFAR-10 Batch 4:  Accuracy: 0.7121999263763428, Loss: 0.24314332008361816\n",
      "Epoch 12, CIFAR-10 Batch 5:  Accuracy: 0.7057998180389404, Loss: 0.2210310995578766\n",
      "Epoch 13, CIFAR-10 Batch 1:  Accuracy: 0.7029998898506165, Loss: 0.2476940155029297\n",
      "Epoch 13, CIFAR-10 Batch 2:  Accuracy: 0.6911998987197876, Loss: 0.287240594625473\n",
      "Epoch 13, CIFAR-10 Batch 3:  Accuracy: 0.6915998458862305, Loss: 0.22973237931728363\n",
      "Epoch 13, CIFAR-10 Batch 4:  Accuracy: 0.6951998472213745, Loss: 0.24654501676559448\n",
      "Epoch 13, CIFAR-10 Batch 5:  Accuracy: 0.6967998147010803, Loss: 0.18996408581733704\n",
      "Epoch 14, CIFAR-10 Batch 1:  Accuracy: 0.6933998465538025, Loss: 0.21257299184799194\n",
      "Epoch 14, CIFAR-10 Batch 2:  Accuracy: 0.6889998316764832, Loss: 0.21450288593769073\n",
      "Epoch 14, CIFAR-10 Batch 3:  Accuracy: 0.6951999068260193, Loss: 0.18411794304847717\n",
      "Epoch 14, CIFAR-10 Batch 4:  Accuracy: 0.692599892616272, Loss: 0.19769251346588135\n",
      "Epoch 14, CIFAR-10 Batch 5:  Accuracy: 0.7103999257087708, Loss: 0.16183939576148987\n",
      "Epoch 15, CIFAR-10 Batch 1:  Accuracy: 0.689599871635437, Loss: 0.18288512527942657\n",
      "Epoch 15, CIFAR-10 Batch 2:  Accuracy: 0.679399847984314, Loss: 0.1991041749715805\n",
      "Epoch 15, CIFAR-10 Batch 3:  Accuracy: 0.7019999027252197, Loss: 0.1630876362323761\n",
      "Epoch 15, CIFAR-10 Batch 4:  Accuracy: 0.6939998269081116, Loss: 0.15601563453674316\n",
      "Epoch 15, CIFAR-10 Batch 5:  Accuracy: 0.705599844455719, Loss: 0.13995349407196045\n",
      "Epoch 16, CIFAR-10 Batch 1:  Accuracy: 0.68479984998703, Loss: 0.16383211314678192\n",
      "Epoch 16, CIFAR-10 Batch 2:  Accuracy: 0.6941998600959778, Loss: 0.16449514031410217\n",
      "Epoch 16, CIFAR-10 Batch 3:  Accuracy: 0.7015998363494873, Loss: 0.1452181339263916\n",
      "Epoch 16, CIFAR-10 Batch 4:  Accuracy: 0.711999773979187, Loss: 0.12184242159128189\n",
      "Epoch 16, CIFAR-10 Batch 5:  Accuracy: 0.7063999176025391, Loss: 0.13092711567878723\n",
      "Epoch 17, CIFAR-10 Batch 1:  Accuracy: 0.686599850654602, Loss: 0.14060766994953156\n",
      "Epoch 17, CIFAR-10 Batch 2:  Accuracy: 0.6975998878479004, Loss: 0.1314980834722519\n",
      "Epoch 17, CIFAR-10 Batch 3:  Accuracy: 0.6997998356819153, Loss: 0.12205889821052551\n",
      "Epoch 17, CIFAR-10 Batch 4:  Accuracy: 0.702799916267395, Loss: 0.12376110255718231\n",
      "Epoch 17, CIFAR-10 Batch 5:  Accuracy: 0.7083998322486877, Loss: 0.09938345104455948\n",
      "Epoch 18, CIFAR-10 Batch 1:  Accuracy: 0.6965997815132141, Loss: 0.09697412699460983\n",
      "Epoch 18, CIFAR-10 Batch 2:  Accuracy: 0.6965998411178589, Loss: 0.11574795842170715\n",
      "Epoch 18, CIFAR-10 Batch 3:  Accuracy: 0.6989998817443848, Loss: 0.11161352694034576\n",
      "Epoch 18, CIFAR-10 Batch 4:  Accuracy: 0.700799822807312, Loss: 0.11798553168773651\n",
      "Epoch 18, CIFAR-10 Batch 5:  Accuracy: 0.7119998931884766, Loss: 0.0831674337387085\n",
      "Epoch 19, CIFAR-10 Batch 1:  Accuracy: 0.7167998552322388, Loss: 0.0824398323893547\n",
      "Epoch 19, CIFAR-10 Batch 2:  Accuracy: 0.7053998708724976, Loss: 0.11049548536539078\n",
      "Epoch 19, CIFAR-10 Batch 3:  Accuracy: 0.7179998159408569, Loss: 0.06265736371278763\n",
      "Epoch 19, CIFAR-10 Batch 4:  Accuracy: 0.7091999053955078, Loss: 0.09615698456764221\n",
      "Epoch 19, CIFAR-10 Batch 5:  Accuracy: 0.7081998586654663, Loss: 0.09168045222759247\n",
      "Epoch 20, CIFAR-10 Batch 1:  Accuracy: 0.697199821472168, Loss: 0.10622813552618027\n",
      "Epoch 20, CIFAR-10 Batch 2:  Accuracy: 0.7045998573303223, Loss: 0.0960383415222168\n"
     ]
    },
    {
     "name": "stdout",
     "output_type": "stream",
     "text": [
      "Epoch 20, CIFAR-10 Batch 3:  Accuracy: 0.6873999834060669, Loss: 0.10575496405363083\n",
      "Epoch 20, CIFAR-10 Batch 4:  Accuracy: 0.7009998559951782, Loss: 0.10277239233255386\n",
      "Epoch 20, CIFAR-10 Batch 5:  Accuracy: 0.7083998918533325, Loss: 0.0887952595949173\n",
      "Epoch 21, CIFAR-10 Batch 1:  Accuracy: 0.7149998545646667, Loss: 0.08057807385921478\n",
      "Epoch 21, CIFAR-10 Batch 2:  Accuracy: 0.7127998471260071, Loss: 0.06760159879922867\n",
      "Epoch 21, CIFAR-10 Batch 3:  Accuracy: 0.7049998641014099, Loss: 0.05374118685722351\n",
      "Epoch 21, CIFAR-10 Batch 4:  Accuracy: 0.673599898815155, Loss: 0.10613653808832169\n",
      "Epoch 21, CIFAR-10 Batch 5:  Accuracy: 0.7061998844146729, Loss: 0.07924076169729233\n",
      "Epoch 22, CIFAR-10 Batch 1:  Accuracy: 0.6995998620986938, Loss: 0.06091870367527008\n",
      "Epoch 22, CIFAR-10 Batch 2:  Accuracy: 0.7093998789787292, Loss: 0.06680859625339508\n",
      "Epoch 22, CIFAR-10 Batch 3:  Accuracy: 0.7029998302459717, Loss: 0.06557141989469528\n",
      "Epoch 22, CIFAR-10 Batch 4:  Accuracy: 0.6989998817443848, Loss: 0.08539135754108429\n",
      "Epoch 22, CIFAR-10 Batch 5:  Accuracy: 0.7027998566627502, Loss: 0.08153019845485687\n",
      "Epoch 23, CIFAR-10 Batch 1:  Accuracy: 0.7087998390197754, Loss: 0.05305550992488861\n",
      "Epoch 23, CIFAR-10 Batch 2:  Accuracy: 0.700999915599823, Loss: 0.06273271143436432\n",
      "Epoch 23, CIFAR-10 Batch 3:  Accuracy: 0.7033998966217041, Loss: 0.0414285734295845\n",
      "Epoch 23, CIFAR-10 Batch 4:  Accuracy: 0.6955998539924622, Loss: 0.07138911634683609\n",
      "Epoch 23, CIFAR-10 Batch 5:  Accuracy: 0.7055997848510742, Loss: 0.06517861783504486\n",
      "Epoch 24, CIFAR-10 Batch 1:  Accuracy: 0.7065998315811157, Loss: 0.05968891829252243\n",
      "Epoch 24, CIFAR-10 Batch 2:  Accuracy: 0.7061998844146729, Loss: 0.050734031945466995\n",
      "Epoch 24, CIFAR-10 Batch 3:  Accuracy: 0.7007998824119568, Loss: 0.057672955095767975\n",
      "Epoch 24, CIFAR-10 Batch 4:  Accuracy: 0.7067999243736267, Loss: 0.04266238585114479\n",
      "Epoch 24, CIFAR-10 Batch 5:  Accuracy: 0.7051998376846313, Loss: 0.0587417334318161\n",
      "Epoch 25, CIFAR-10 Batch 1:  Accuracy: 0.7125998139381409, Loss: 0.04285254701972008\n",
      "Epoch 25, CIFAR-10 Batch 2:  Accuracy: 0.7077999114990234, Loss: 0.04286755248904228\n",
      "Epoch 25, CIFAR-10 Batch 3:  Accuracy: 0.6985998749732971, Loss: 0.04287991672754288\n",
      "Epoch 25, CIFAR-10 Batch 4:  Accuracy: 0.7043998837471008, Loss: 0.04513110965490341\n",
      "Epoch 25, CIFAR-10 Batch 5:  Accuracy: 0.7081998586654663, Loss: 0.04296450316905975\n",
      "Epoch 26, CIFAR-10 Batch 1:  Accuracy: 0.7169998288154602, Loss: 0.04329048842191696\n",
      "Epoch 26, CIFAR-10 Batch 2:  Accuracy: 0.7035998106002808, Loss: 0.044123575091362\n",
      "Epoch 26, CIFAR-10 Batch 3:  Accuracy: 0.7061998844146729, Loss: 0.04945996031165123\n",
      "Epoch 26, CIFAR-10 Batch 4:  Accuracy: 0.7067999243736267, Loss: 0.052464425563812256\n",
      "Epoch 26, CIFAR-10 Batch 5:  Accuracy: 0.710399866104126, Loss: 0.041407935321331024\n",
      "Epoch 27, CIFAR-10 Batch 1:  Accuracy: 0.7141998410224915, Loss: 0.037985965609550476\n",
      "Epoch 27, CIFAR-10 Batch 2:  Accuracy: 0.7067998647689819, Loss: 0.039411406964063644\n",
      "Epoch 27, CIFAR-10 Batch 3:  Accuracy: 0.6913999319076538, Loss: 0.043278053402900696\n",
      "Epoch 27, CIFAR-10 Batch 4:  Accuracy: 0.714999794960022, Loss: 0.05038800090551376\n",
      "Epoch 27, CIFAR-10 Batch 5:  Accuracy: 0.7011998891830444, Loss: 0.03871730715036392\n",
      "Epoch 28, CIFAR-10 Batch 1:  Accuracy: 0.7035998702049255, Loss: 0.0322035551071167\n",
      "Epoch 28, CIFAR-10 Batch 2:  Accuracy: 0.7129998207092285, Loss: 0.035558395087718964\n",
      "Epoch 28, CIFAR-10 Batch 3:  Accuracy: 0.7083998322486877, Loss: 0.0369332991540432\n",
      "Epoch 28, CIFAR-10 Batch 4:  Accuracy: 0.7079998850822449, Loss: 0.04038340225815773\n",
      "Epoch 28, CIFAR-10 Batch 5:  Accuracy: 0.7087998986244202, Loss: 0.034382570534944534\n",
      "Epoch 29, CIFAR-10 Batch 1:  Accuracy: 0.710399866104126, Loss: 0.03649219125509262\n",
      "Epoch 29, CIFAR-10 Batch 2:  Accuracy: 0.718799889087677, Loss: 0.02466786839067936\n",
      "Epoch 29, CIFAR-10 Batch 3:  Accuracy: 0.7047998309135437, Loss: 0.03760650008916855\n",
      "Epoch 29, CIFAR-10 Batch 4:  Accuracy: 0.7179998755455017, Loss: 0.02844158373773098\n",
      "Epoch 29, CIFAR-10 Batch 5:  Accuracy: 0.6955998539924622, Loss: 0.0332486666738987\n",
      "Epoch 30, CIFAR-10 Batch 1:  Accuracy: 0.7133998870849609, Loss: 0.029868219047784805\n",
      "Epoch 30, CIFAR-10 Batch 2:  Accuracy: 0.7133998870849609, Loss: 0.024580512195825577\n",
      "Epoch 30, CIFAR-10 Batch 3:  Accuracy: 0.7193998694419861, Loss: 0.03619730472564697\n",
      "Epoch 30, CIFAR-10 Batch 4:  Accuracy: 0.7127998471260071, Loss: 0.029144195839762688\n",
      "Epoch 30, CIFAR-10 Batch 5:  Accuracy: 0.7227997779846191, Loss: 0.019035033881664276\n"
     ]
    }
   ],
   "source": [
    "\"\"\"\n",
    "DON'T MODIFY ANYTHING IN THIS CELL\n",
    "\"\"\"\n",
    "save_model_path = './image_classification'\n",
    "\n",
    "print('Training...')\n",
    "with tf.Session() as sess:\n",
    "    # Initializing the variables\n",
    "    sess.run(tf.global_variables_initializer())\n",
    "    \n",
    "    # Training cycle\n",
    "    for epoch in range(epochs):\n",
    "        # Loop over all batches\n",
    "        n_batches = 5\n",
    "        for batch_i in range(1, n_batches + 1):\n",
    "            for batch_features, batch_labels in helper.load_preprocess_training_batch(batch_i, batch_size):\n",
    "                train_neural_network(sess, optimizer, keep_probability, batch_features, batch_labels)\n",
    "            print('Epoch {:>2}, CIFAR-10 Batch {}:  '.format(epoch + 1, batch_i), end='')\n",
    "            print_stats(sess, batch_features, batch_labels, cost, accuracy)\n",
    "            \n",
    "    # Save Model\n",
    "    saver = tf.train.Saver()\n",
    "    save_path = saver.save(sess, save_model_path)"
   ]
  },
  {
   "cell_type": "markdown",
   "metadata": {},
   "source": [
    "# Checkpoint\n",
    "The model has been saved to disk.\n",
    "## Test Model\n",
    "Test your model against the test dataset.  This will be your final accuracy. You should have an accuracy greater than 50%. If you don't, keep tweaking the model architecture and parameters."
   ]
  },
  {
   "cell_type": "code",
   "execution_count": 18,
   "metadata": {},
   "outputs": [
    {
     "name": "stdout",
     "output_type": "stream",
     "text": [
      "INFO:tensorflow:Restoring parameters from ./image_classification\n",
      "Testing Accuracy: 0.7125229775905609\n",
      "\n"
     ]
    },
    {
     "data": {
      "image/png": "[encoded data removed]",
      "text/plain": [
       "<matplotlib.figure.Figure at 0x7efee00dc6d8>"
      ]
     },
     "metadata": {
      "image/png": {
       "height": 319,
       "width": 355
      }
     },
     "output_type": "display_data"
    }
   ],
   "source": [
    "\"\"\"\n",
    "DON'T MODIFY ANYTHING IN THIS CELL\n",
    "\"\"\"\n",
    "%matplotlib inline\n",
    "%config InlineBackend.figure_format = 'retina'\n",
    "\n",
    "import tensorflow as tf\n",
    "import pickle\n",
    "import helper\n",
    "import random\n",
    "\n",
    "# Set batch size if not already set\n",
    "try:\n",
    "    if batch_size:\n",
    "        pass\n",
    "except NameError:\n",
    "    batch_size = 64\n",
    "\n",
    "save_model_path = './image_classification'\n",
    "n_samples = 4\n",
    "top_n_predictions = 3\n",
    "\n",
    "def test_model():\n",
    "    \"\"\"\n",
    "    Test the saved model against the test dataset\n",
    "    \"\"\"\n",
    "\n",
    "    test_features, test_labels = pickle.load(open('preprocess_test.p', mode='rb'))\n",
    "    loaded_graph = tf.Graph()\n",
    "\n",
    "    with tf.Session(graph=loaded_graph) as sess:\n",
    "        # Load model\n",
    "        loader = tf.train.import_meta_graph(save_model_path + '.meta')\n",
    "        loader.restore(sess, save_model_path)\n",
    "\n",
    "        # Get Tensors from loaded model\n",
    "        loaded_x = loaded_graph.get_tensor_by_name('x:0')\n",
    "        loaded_y = loaded_graph.get_tensor_by_name('y:0')\n",
    "        loaded_keep_prob = loaded_graph.get_tensor_by_name('keep_prob:0')\n",
    "        loaded_logits = loaded_graph.get_tensor_by_name('logits:0')\n",
    "        loaded_acc = loaded_graph.get_tensor_by_name('accuracy:0')\n",
    "        \n",
    "        # Get accuracy in batches for memory limitations\n",
    "        test_batch_acc_total = 0\n",
    "        test_batch_count = 0\n",
    "        \n",
    "        for test_feature_batch, test_label_batch in helper.batch_features_labels(test_features, test_labels, batch_size):\n",
    "            test_batch_acc_total += sess.run(\n",
    "                loaded_acc,\n",
    "                feed_dict={loaded_x: test_feature_batch, loaded_y: test_label_batch, loaded_keep_prob: 1.0})\n",
    "            test_batch_count += 1\n",
    "\n",
    "        print('Testing Accuracy: {}\\n'.format(test_batch_acc_total/test_batch_count))\n",
    "\n",
    "        # Print Random Samples\n",
    "        random_test_features, random_test_labels = tuple(zip(*random.sample(list(zip(test_features, test_labels)), n_samples)))\n",
    "        random_test_predictions = sess.run(\n",
    "            tf.nn.top_k(tf.nn.softmax(loaded_logits), top_n_predictions),\n",
    "            feed_dict={loaded_x: random_test_features, loaded_y: random_test_labels, loaded_keep_prob: 1.0})\n",
    "        helper.display_image_predictions(random_test_features, random_test_labels, random_test_predictions)\n",
    "\n",
    "\n",
    "test_model()"
   ]
  },
  {
   "cell_type": "markdown",
   "metadata": {},
   "source": [
    "## Why 50-80% Accuracy?\n",
    "You might be wondering why you can't get an accuracy any higher. First things first, 50% isn't bad for a simple CNN.  Pure guessing would get you 10% accuracy. However, you might notice people are getting scores [well above 80%](http://rodrigob.github.io/are_we_there_yet/build/classification_datasets_results.html#43494641522d3130).  That's because we haven't taught you all there is to know about neural networks. We still need to cover a few more techniques.\n",
    "## Submitting This Project\n",
    "When submitting this project, make sure to run all the cells before saving the notebook.  Save the notebook file as \"dlnd_image_classification.ipynb\" and save it as a HTML file under \"File\" -> \"Download as\".  Include the \"helper.py\" and \"problem_unittests.py\" files in your submission."
   ]
  }
 ],
 "metadata": {
  "kernelspec": {
   "display_name": "Python [default]",
   "language": "python",
   "name": "python3"
  },
  "language_info": {
   "codemirror_mode": {
    "name": "ipython",
    "version": 3
   },
   "file_extension": ".py",
   "mimetype": "text/x-python",
   "name": "python",
   "nbconvert_exporter": "python",
   "pygments_lexer": "ipython3",
   "version": "3.6.1"
  }
 },
 "nbformat": 4,
 "nbformat_minor": 1
}

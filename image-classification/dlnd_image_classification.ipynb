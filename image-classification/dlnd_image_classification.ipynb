{
 "cells": [
  {
   "cell_type": "markdown",
   "metadata": {
    "collapsed": true
   },
   "source": [
    "# Image Classification\n",
    "In this project, you'll classify images from the [CIFAR-10 dataset](https://www.cs.toronto.edu/~kriz/cifar.html).  The dataset consists of airplanes, dogs, cats, and other objects. You'll preprocess the images, then train a convolutional neural network on all the samples. The images need to be normalized and the labels need to be one-hot encoded.  You'll get to apply what you learned and build a convolutional, max pooling, dropout, and fully connected layers.  At the end, you'll get to see your neural network's predictions on the sample images.\n",
    "## Get the Data\n",
    "Run the following cell to download the [CIFAR-10 dataset for python](https://www.cs.toronto.edu/~kriz/cifar-10-python.tar.gz)."
   ]
  },
  {
   "cell_type": "code",
   "execution_count": 1,
   "metadata": {},
   "outputs": [
    {
     "name": "stdout",
     "output_type": "stream",
     "text": [
      "All files found!\n"
     ]
    }
   ],
   "source": [
    "\"\"\"\n",
    "DON'T MODIFY ANYTHING IN THIS CELL THAT IS BELOW THIS LINE\n",
    "\"\"\"\n",
    "from urllib.request import urlretrieve\n",
    "from os.path import isfile, isdir\n",
    "from tqdm import tqdm\n",
    "import problem_unittests as tests\n",
    "import tarfile\n",
    "\n",
    "cifar10_dataset_folder_path = 'cifar-10-batches-py'\n",
    "\n",
    "# Use Floyd's cifar-10 dataset if present\n",
    "floyd_cifar10_location = '/input/cifar-10/python.tar.gz'\n",
    "if isfile(floyd_cifar10_location):\n",
    "    tar_gz_path = floyd_cifar10_location\n",
    "else:\n",
    "    tar_gz_path = 'cifar-10-python.tar.gz'\n",
    "\n",
    "class DLProgress(tqdm):\n",
    "    last_block = 0\n",
    "\n",
    "    def hook(self, block_num=1, block_size=1, total_size=None):\n",
    "        self.total = total_size\n",
    "        self.update((block_num - self.last_block) * block_size)\n",
    "        self.last_block = block_num\n",
    "\n",
    "if not isfile(tar_gz_path):\n",
    "    with DLProgress(unit='B', unit_scale=True, miniters=1, desc='CIFAR-10 Dataset') as pbar:\n",
    "        urlretrieve(\n",
    "            'https://www.cs.toronto.edu/~kriz/cifar-10-python.tar.gz',\n",
    "            tar_gz_path,\n",
    "            pbar.hook)\n",
    "\n",
    "if not isdir(cifar10_dataset_folder_path):\n",
    "    with tarfile.open(tar_gz_path) as tar:\n",
    "        tar.extractall()\n",
    "        tar.close()\n",
    "\n",
    "\n",
    "tests.test_folder_path(cifar10_dataset_folder_path)"
   ]
  },
  {
   "cell_type": "markdown",
   "metadata": {},
   "source": [
    "## Explore the Data\n",
    "The dataset is broken into batches to prevent your machine from running out of memory.  The CIFAR-10 dataset consists of 5 batches, named `data_batch_1`, `data_batch_2`, etc.. Each batch contains the labels and images that are one of the following:\n",
    "* airplane\n",
    "* automobile\n",
    "* bird\n",
    "* cat\n",
    "* deer\n",
    "* dog\n",
    "* frog\n",
    "* horse\n",
    "* ship\n",
    "* truck\n",
    "\n",
    "Understanding a dataset is part of making predictions on the data.  Play around with the code cell below by changing the `batch_id` and `sample_id`. The `batch_id` is the id for a batch (1-5). The `sample_id` is the id for a image and label pair in the batch.\n",
    "\n",
    "Ask yourself \"What are all possible labels?\", \"What is the range of values for the image data?\", \"Are the labels in order or random?\".  Answers to questions like these will help you preprocess the data and end up with better predictions."
   ]
  },
  {
   "cell_type": "code",
   "execution_count": 2,
   "metadata": {},
   "outputs": [
    {
     "name": "stdout",
     "output_type": "stream",
     "text": [
      "\n",
      "Stats of batch 4:\n",
      "Samples: 10000\n",
      "Label Counts: {0: 1003, 1: 963, 2: 1041, 3: 976, 4: 1004, 5: 1021, 6: 1004, 7: 981, 8: 1024, 9: 983}\n",
      "First 20 Labels: [0, 6, 0, 2, 7, 2, 1, 2, 4, 1, 5, 6, 6, 3, 1, 3, 5, 5, 8, 1]\n",
      "\n",
      "Example of Image 7:\n",
      "Image - Min Value: 17 Max Value: 221\n",
      "Image - Shape: (32, 32, 3)\n",
      "Label - Label Id: 2 Name: bird\n"
     ]
    },
    {
     "data": {
      "image/png": "[encoded data removed]",
      "text/plain": [
       "<matplotlib.figure.Figure at 0x7f131c2c90f0>"
      ]
     },
     "metadata": {
      "image/png": {
       "height": 250,
       "width": 253
      }
     },
     "output_type": "display_data"
    }
   ],
   "source": [
    "%matplotlib inline\n",
    "%config InlineBackend.figure_format = 'retina'\n",
    "\n",
    "import helper\n",
    "import numpy as np\n",
    "\n",
    "# Explore the dataset\n",
    "batch_id = 4\n",
    "sample_id = 7\n",
    "batch_size = 5\n",
    "image_sizes = 32\n",
    "image_channels = 3\n",
    "helper.display_stats(cifar10_dataset_folder_path, batch_id, sample_id)"
   ]
  },
  {
   "cell_type": "markdown",
   "metadata": {},
   "source": [
    "## Implement Preprocess Functions\n",
    "### Normalize\n",
    "In the cell below, implement the `normalize` function to take in image data, `x`, and return it as a normalized Numpy array. The values should be in the range of 0 to 1, inclusive.  The return object should be the same shape as `x`."
   ]
  },
  {
   "cell_type": "code",
   "execution_count": 3,
   "metadata": {},
   "outputs": [
    {
     "name": "stdout",
     "output_type": "stream",
     "text": [
      "Tests Passed\n"
     ]
    }
   ],
   "source": [
    "def normalize(x):\n",
    "    \"\"\"\n",
    "    Normalize a list of sample image data in the range of 0 to 1\n",
    "    : x: List of image data.  The image shape is (32, 32, 3)\n",
    "    : return: Numpy array of normalize data\n",
    "    \"\"\"\n",
    "    # TODO: Implement Function\n",
    "    x_min = np.min(x)\n",
    "    return (x - x_min)/(np.max(x) - x_min)\n",
    "\n",
    "\n",
    "\"\"\"\n",
    "DON'T MODIFY ANYTHING IN THIS CELL THAT IS BELOW THIS LINE\n",
    "\"\"\"\n",
    "tests.test_normalize(normalize)"
   ]
  },
  {
   "cell_type": "markdown",
   "metadata": {},
   "source": [
    "### One-hot encode\n",
    "Just like the previous code cell, you'll be implementing a function for preprocessing.  This time, you'll implement the `one_hot_encode` function. The input, `x`, are a list of labels.  Implement the function to return the list of labels as One-Hot encoded Numpy array.  The possible values for labels are 0 to 9. The one-hot encoding function should return the same encoding for each value between each call to `one_hot_encode`.  Make sure to save the map of encodings outside the function.\n",
    "\n",
    "Hint: Don't reinvent the wheel."
   ]
  },
  {
   "cell_type": "code",
   "execution_count": 4,
   "metadata": {
    "scrolled": false
   },
   "outputs": [
    {
     "name": "stdout",
     "output_type": "stream",
     "text": [
      "Tests Passed\n"
     ]
    }
   ],
   "source": [
    "import tensorflow as tf\n",
    "\n",
    "def one_hot_encode(x):\n",
    "    \"\"\"\n",
    "    One hot encode a list of sample labels. Return a one-hot encoded vector for each label.\n",
    "    : x: List of sample Labels\n",
    "    : return: Numpy array of one-hot encoded labels\n",
    "    \"\"\"\n",
    "    # TODO: Implement Function\n",
    "    encoder = tf.one_hot(x, 10)\n",
    "    encodings = None\n",
    "    with tf.Session() as sess:\n",
    "        encodings = sess.run(encoder)\n",
    "    return encodings\n",
    "\n",
    "\"\"\"\n",
    "DON'T MODIFY ANYTHING IN THIS CELL THAT IS BELOW THIS LINE\n",
    "\"\"\"\n",
    "tests.test_one_hot_encode(one_hot_encode)"
   ]
  },
  {
   "cell_type": "markdown",
   "metadata": {},
   "source": [
    "### Randomize Data\n",
    "As you saw from exploring the data above, the order of the samples are randomized.  It doesn't hurt to randomize it again, but you don't need to for this dataset."
   ]
  },
  {
   "cell_type": "markdown",
   "metadata": {},
   "source": [
    "## Preprocess all the data and save it\n",
    "Running the code cell below will preprocess all the CIFAR-10 data and save it to file. The code below also uses 10% of the training data for validation."
   ]
  },
  {
   "cell_type": "code",
   "execution_count": 5,
   "metadata": {
    "collapsed": true
   },
   "outputs": [],
   "source": [
    "\"\"\"\n",
    "DON'T MODIFY ANYTHING IN THIS CELL\n",
    "\"\"\"\n",
    "# Preprocess Training, Validation, and Testing Data\n",
    "helper.preprocess_and_save_data(cifar10_dataset_folder_path, normalize, one_hot_encode)"
   ]
  },
  {
   "cell_type": "markdown",
   "metadata": {},
   "source": [
    "# Check Point\n",
    "This is your first checkpoint.  If you ever decide to come back to this notebook or have to restart the notebook, you can start from here.  The preprocessed data has been saved to disk."
   ]
  },
  {
   "cell_type": "code",
   "execution_count": 6,
   "metadata": {
    "collapsed": true
   },
   "outputs": [],
   "source": [
    "\"\"\"\n",
    "DON'T MODIFY ANYTHING IN THIS CELL\n",
    "\"\"\"\n",
    "import pickle\n",
    "import problem_unittests as tests\n",
    "import helper\n",
    "\n",
    "# Load the Preprocessed Validation data\n",
    "valid_features, valid_labels = pickle.load(open('preprocess_validation.p', mode='rb'))"
   ]
  },
  {
   "cell_type": "markdown",
   "metadata": {},
   "source": [
    "## Build the network\n",
    "For the neural network, you'll build each layer into a function.  Most of the code you've seen has been outside of functions. To test your code more thoroughly, we require that you put each layer in a function.  This allows us to give you better feedback and test for simple mistakes using our unittests before you submit your project.\n",
    "\n",
    ">**Note:** If you're finding it hard to dedicate enough time for this course each week, we've provided a small shortcut to this part of the project. In the next couple of problems, you'll have the option to use classes from the [TensorFlow Layers](https://www.tensorflow.org/api_docs/python/tf/layers) or [TensorFlow Layers (contrib)](https://www.tensorflow.org/api_guides/python/contrib.layers) packages to build each layer, except the layers you build in the \"Convolutional and Max Pooling Layer\" section.  TF Layers is similar to Keras's and TFLearn's abstraction to layers, so it's easy to pickup.\n",
    "\n",
    ">However, if you would like to get the most out of this course, try to solve all the problems _without_ using anything from the TF Layers packages. You **can** still use classes from other packages that happen to have the same name as ones you find in TF Layers! For example, instead of using the TF Layers version of the `conv2d` class, [tf.layers.conv2d](https://www.tensorflow.org/api_docs/python/tf/layers/conv2d), you would want to use the TF Neural Network version of `conv2d`, [tf.nn.conv2d](https://www.tensorflow.org/api_docs/python/tf/nn/conv2d). \n",
    "\n",
    "Let's begin!\n",
    "\n",
    "### Input\n",
    "The neural network needs to read the image data, one-hot encoded labels, and dropout keep probability. Implement the following functions\n",
    "* Implement `neural_net_image_input`\n",
    " * Return a [TF Placeholder](https://www.tensorflow.org/api_docs/python/tf/placeholder)\n",
    " * Set the shape using `image_shape` with batch size set to `None`.\n",
    " * Name the TensorFlow placeholder \"x\" using the TensorFlow `name` parameter in the [TF Placeholder](https://www.tensorflow.org/api_docs/python/tf/placeholder).\n",
    "* Implement `neural_net_label_input`\n",
    " * Return a [TF Placeholder](https://www.tensorflow.org/api_docs/python/tf/placeholder)\n",
    " * Set the shape using `n_classes` with batch size set to `None`.\n",
    " * Name the TensorFlow placeholder \"y\" using the TensorFlow `name` parameter in the [TF Placeholder](https://www.tensorflow.org/api_docs/python/tf/placeholder).\n",
    "* Implement `neural_net_keep_prob_input`\n",
    " * Return a [TF Placeholder](https://www.tensorflow.org/api_docs/python/tf/placeholder) for dropout keep probability.\n",
    " * Name the TensorFlow placeholder \"keep_prob\" using the TensorFlow `name` parameter in the [TF Placeholder](https://www.tensorflow.org/api_docs/python/tf/placeholder).\n",
    "\n",
    "These names will be used at the end of the project to load your saved model.\n",
    "\n",
    "Note: `None` for shapes in TensorFlow allow for a dynamic size."
   ]
  },
  {
   "cell_type": "code",
   "execution_count": 7,
   "metadata": {},
   "outputs": [
    {
     "name": "stdout",
     "output_type": "stream",
     "text": [
      "Image Input Tests Passed.\n",
      "Label Input Tests Passed.\n",
      "Keep Prob Tests Passed.\n"
     ]
    }
   ],
   "source": [
    "import tensorflow as tf\n",
    "\n",
    "def neural_net_image_input(image_shape):\n",
    "    \"\"\"\n",
    "    Return a Tensor for a batch of image input\n",
    "    : image_shape: Shape of the images\n",
    "    : return: Tensor for image input.\n",
    "    \"\"\"\n",
    "    # TODO: Implement Function\n",
    "    height, width, depth = image_shape\n",
    "    return tf.placeholder(tf.float32, [None, height, width, depth], name='x')\n",
    "\n",
    "\n",
    "def neural_net_label_input(n_classes):\n",
    "    \"\"\"\n",
    "    Return a Tensor for a batch of label input\n",
    "    : n_classes: Number of classes\n",
    "    : return: Tensor for label input.\n",
    "    \"\"\"\n",
    "    # TODO: Implement Function\n",
    "    return tf.placeholder(tf.float32, [None, n_classes], name='y')\n",
    "\n",
    "\n",
    "def neural_net_keep_prob_input():\n",
    "    \"\"\"\n",
    "    Return a Tensor for keep probability\n",
    "    : return: Tensor for keep probability.\n",
    "    \"\"\"\n",
    "    # TODO: Implement Function\n",
    "    return tf.placeholder(tf.float32, name='keep_prob')\n",
    "\n",
    "\n",
    "\"\"\"\n",
    "DON'T MODIFY ANYTHING IN THIS CELL THAT IS BELOW THIS LINE\n",
    "\"\"\"\n",
    "tf.reset_default_graph()\n",
    "tests.test_nn_image_inputs(neural_net_image_input)\n",
    "tests.test_nn_label_inputs(neural_net_label_input)\n",
    "tests.test_nn_keep_prob_inputs(neural_net_keep_prob_input)"
   ]
  },
  {
   "cell_type": "markdown",
   "metadata": {},
   "source": [
    "### Convolution and Max Pooling Layer\n",
    "Convolution layers have a lot of success with images. For this code cell, you should implement the function `conv2d_maxpool` to apply convolution then max pooling:\n",
    "* Create the weight and bias using `conv_ksize`, `conv_num_outputs` and the shape of `x_tensor`.\n",
    "* Apply a convolution to `x_tensor` using weight and `conv_strides`.\n",
    " * We recommend you use same padding, but you're welcome to use any padding.\n",
    "* Add bias\n",
    "* Add a nonlinear activation to the convolution.\n",
    "* Apply Max Pooling using `pool_ksize` and `pool_strides`.\n",
    " * We recommend you use same padding, but you're welcome to use any padding.\n",
    "\n",
    "**Note:** You **can't** use [TensorFlow Layers](https://www.tensorflow.org/api_docs/python/tf/layers) or [TensorFlow Layers (contrib)](https://www.tensorflow.org/api_guides/python/contrib.layers) for **this** layer, but you can still use TensorFlow's [Neural Network](https://www.tensorflow.org/api_docs/python/tf/nn) package. You may still use the shortcut option for all the **other** layers."
   ]
  },
  {
   "cell_type": "markdown",
   "metadata": {},
   "source": [
    "### Formula\n",
    "\n",
    "$\n",
    "h_{new} = \\frac{h_{ori} - h_{k} + 2P}{s} + 1\n",
    "$"
   ]
  },
  {
   "cell_type": "code",
   "execution_count": 8,
   "metadata": {
    "scrolled": false
   },
   "outputs": [
    {
     "name": "stdout",
     "output_type": "stream",
     "text": [
      "Tests Passed\n"
     ]
    }
   ],
   "source": [
    "def conv2d_maxpool(x_tensor, conv_num_outputs, conv_ksize, conv_strides, pool_ksize, pool_strides):\n",
    "    \"\"\"\n",
    "    Apply convolution then max pooling to x_tensor\n",
    "    :param x_tensor: TensorFlow Tensor\n",
    "    :param conv_num_outputs: Number of outputs for the convolutional layer\n",
    "    :param conv_ksize: kernal size 2-D Tuple for the convolutional layer\n",
    "    :param conv_strides: Stride 2-D Tuple for convolution\n",
    "    :param pool_ksize: kernal size 2-D Tuple for pool\n",
    "    :param pool_strides: Stride 2-D Tuple for pool\n",
    "    : return: A tensor that represents convolution and max pooling of x_tensor\n",
    "    \"\"\"\n",
    "    # TODO: Implement Function\n",
    "    x_shape = x_tensor.get_shape().as_list()\n",
    "    stddev = 2 / np.sqrt(x_shape[1] * x_shape[2] * x_shape[3])\n",
    "    w_init = tf.truncated_normal([conv_ksize[0], conv_ksize[1], x_shape[3], conv_num_outputs], stddev=stddev)\n",
    "    W = tf.Variable(w_init)\n",
    "    b = tf.Variable(tf.zeros([conv_num_outputs]))\n",
    "    conv = tf.nn.conv2d(x_tensor, W, strides=[1, conv_strides[0], conv_strides[1], 1], padding='SAME')\n",
    "    conv = tf.nn.bias_add(conv, b)\n",
    "    conv = tf.nn.relu(conv)\n",
    "    pool = tf.nn.pool(conv, [pool_ksize[0], pool_ksize[1]], pooling_type='MAX', strides=[pool_strides[0], pool_strides[1]], padding='VALID')\n",
    "    return pool\n",
    "\n",
    "\n",
    "\"\"\"\n",
    "DON'T MODIFY ANYTHING IN THIS CELL THAT IS BELOW THIS LINE\n",
    "\"\"\"\n",
    "tests.test_con_pool(conv2d_maxpool)"
   ]
  },
  {
   "cell_type": "markdown",
   "metadata": {},
   "source": [
    "### Flatten Layer\n",
    "Implement the `flatten` function to change the dimension of `x_tensor` from a 4-D tensor to a 2-D tensor.  The output should be the shape (*Batch Size*, *Flattened Image Size*). Shortcut option: you can use classes from the [TensorFlow Layers](https://www.tensorflow.org/api_docs/python/tf/layers) or [TensorFlow Layers (contrib)](https://www.tensorflow.org/api_guides/python/contrib.layers) packages for this layer. For more of a challenge, only use other TensorFlow packages."
   ]
  },
  {
   "cell_type": "code",
   "execution_count": 9,
   "metadata": {},
   "outputs": [
    {
     "name": "stdout",
     "output_type": "stream",
     "text": [
      "Tests Passed\n"
     ]
    }
   ],
   "source": [
    "def flatten(x_tensor):\n",
    "    \"\"\"\n",
    "    Flatten x_tensor to (Batch Size, Flattened Image Size)\n",
    "    : x_tensor: A tensor of size (Batch Size, ...), where ... are the image dimensions.\n",
    "    : return: A tensor of size (Batch Size, Flattened Image Size).\n",
    "    \"\"\"\n",
    "    # TODO: Implement Function\n",
    "    tensor_shape = x_tensor.get_shape().as_list()\n",
    "    return tf.reshape(x_tensor, [-1, tensor_shape[1]*tensor_shape[2]*tensor_shape[3]])\n",
    "\n",
    "\n",
    "\"\"\"\n",
    "DON'T MODIFY ANYTHING IN THIS CELL THAT IS BELOW THIS LINE\n",
    "\"\"\"\n",
    "tests.test_flatten(flatten)"
   ]
  },
  {
   "cell_type": "markdown",
   "metadata": {},
   "source": [
    "### Fully-Connected Layer\n",
    "Implement the `fully_conn` function to apply a fully connected layer to `x_tensor` with the shape (*Batch Size*, *num_outputs*). Shortcut option: you can use classes from the [TensorFlow Layers](https://www.tensorflow.org/api_docs/python/tf/layers) or [TensorFlow Layers (contrib)](https://www.tensorflow.org/api_guides/python/contrib.layers) packages for this layer. For more of a challenge, only use other TensorFlow packages."
   ]
  },
  {
   "cell_type": "code",
   "execution_count": 10,
   "metadata": {},
   "outputs": [
    {
     "name": "stdout",
     "output_type": "stream",
     "text": [
      "Tests Passed\n"
     ]
    }
   ],
   "source": [
    "def fully_conn(x_tensor, num_outputs):\n",
    "    \"\"\"\n",
    "    Apply a fully connected layer to x_tensor using weight and bias\n",
    "    : x_tensor: A 2-D tensor where the first dimension is batch size.\n",
    "    : num_outputs: The number of output that the new tensor should be.\n",
    "    : return: A 2-D tensor where the second dimension is num_outputs.\n",
    "    \"\"\"\n",
    "    # TODO: Implement Function\n",
    "    x_shape = x_tensor.get_shape().as_list()\n",
    "    stddev = 2 / np.sqrt(x_shape[1])\n",
    "    w_init = tf.truncated_normal([x_shape[1], num_outputs], stddev=stddev)\n",
    "    W = tf.Variable(w_init)\n",
    "    b = tf.Variable(tf.zeros([num_outputs]))\n",
    "    logits = tf.nn.bias_add(tf.matmul(x_tensor, W), b)\n",
    "    return tf.nn.relu(logits)\n",
    "\n",
    "\n",
    "\"\"\"\n",
    "DON'T MODIFY ANYTHING IN THIS CELL THAT IS BELOW THIS LINE\n",
    "\"\"\"\n",
    "tests.test_fully_conn(fully_conn)"
   ]
  },
  {
   "cell_type": "markdown",
   "metadata": {},
   "source": [
    "### Output Layer\n",
    "Implement the `output` function to apply a fully connected layer to `x_tensor` with the shape (*Batch Size*, *num_outputs*). Shortcut option: you can use classes from the [TensorFlow Layers](https://www.tensorflow.org/api_docs/python/tf/layers) or [TensorFlow Layers (contrib)](https://www.tensorflow.org/api_guides/python/contrib.layers) packages for this layer. For more of a challenge, only use other TensorFlow packages.\n",
    "\n",
    "**Note:** Activation, softmax, or cross entropy should **not** be applied to this."
   ]
  },
  {
   "cell_type": "code",
   "execution_count": 11,
   "metadata": {},
   "outputs": [
    {
     "name": "stdout",
     "output_type": "stream",
     "text": [
      "Tests Passed\n"
     ]
    }
   ],
   "source": [
    "def output(x_tensor, num_outputs):\n",
    "    \"\"\"\n",
    "    Apply a output layer to x_tensor using weight and bias\n",
    "    : x_tensor: A 2-D tensor where the first dimension is batch size.\n",
    "    : num_outputs: The number of output that the new tensor should be.\n",
    "    : return: A 2-D tensor where the second dimension is num_outputs.\n",
    "    \"\"\"\n",
    "    # TODO: Implement Function\n",
    "    x_shape = x_tensor.get_shape().as_list()\n",
    "    stddev = 2 / np.sqrt(x_shape[1])\n",
    "    w_init = tf.truncated_normal([x_shape[1], num_outputs], stddev=stddev)\n",
    "    W = tf.Variable(w_init)\n",
    "    b = tf.Variable(tf.zeros([num_outputs]))\n",
    "    return tf.nn.bias_add(tf.matmul(x_tensor, W), b)\n",
    "\n",
    "\n",
    "\"\"\"\n",
    "DON'T MODIFY ANYTHING IN THIS CELL THAT IS BELOW THIS LINE\n",
    "\"\"\"\n",
    "tests.test_output(output)"
   ]
  },
  {
   "cell_type": "markdown",
   "metadata": {},
   "source": [
    "### Create Convolutional Model\n",
    "Implement the function `conv_net` to create a convolutional neural network model. The function takes in a batch of images, `x`, and outputs logits.  Use the layers you created above to create this model:\n",
    "\n",
    "* Apply 1, 2, or 3 Convolution and Max Pool layers\n",
    "* Apply a Flatten Layer\n",
    "* Apply 1, 2, or 3 Fully Connected Layers\n",
    "* Apply an Output Layer\n",
    "* Return the output\n",
    "* Apply [TensorFlow's Dropout](https://www.tensorflow.org/api_docs/python/tf/nn/dropout) to one or more layers in the model using `keep_prob`. "
   ]
  },
  {
   "cell_type": "code",
   "execution_count": 12,
   "metadata": {},
   "outputs": [
    {
     "name": "stdout",
     "output_type": "stream",
     "text": [
      "Neural Network Built!\n"
     ]
    }
   ],
   "source": [
    "def conv_net(x, keep_prob):\n",
    "    \"\"\"\n",
    "    Create a convolutional neural network model\n",
    "    : x: Placeholder tensor that holds image data.\n",
    "    : keep_prob: Placeholder tensor that hold dropout keep probability.\n",
    "    : return: Tensor that represents logits\n",
    "    \"\"\"\n",
    "    # TODO: Apply 1, 2, or 3 Convolution and Max Pool layers\n",
    "    #    Play around with different number of outputs, kernel size and stride\n",
    "    # Function Definition from Above:\n",
    "    #    conv2d_maxpool(x_tensor, conv_num_outputs, conv_ksize, conv_strides, pool_ksize, pool_strides)\n",
    "    conv_1 = conv2d_maxpool(x, 192, [5, 5], [1, 1], [2, 2], [2, 2])\n",
    "    conv_2 = conv2d_maxpool(conv_1, 256, [3, 3], [1, 1], [1, 1], [1, 1])\n",
    "    conv_out = tf.nn.dropout(conv_2, keep_prob)\n",
    "\n",
    "    # TODO: Apply a Flatten Layer\n",
    "    # Function Definition from Above:\n",
    "    #   flatten(x_tensor)\n",
    "    conv_flat = flatten(conv_out)\n",
    "\n",
    "    # TODO: Apply 1, 2, or 3 Fully Connected Layers\n",
    "    #    Play around with different number of outputs\n",
    "    # Function Definition from Above:\n",
    "    #   fully_conn(x_tensor, num_outputs)\n",
    "    fc_1 = fully_conn(conv_flat, 1024)\n",
    "    fc_1_drop = tf.nn.dropout(fc_1, keep_prob)\n",
    "    fc_out = fully_conn(fc_1_drop, 512)\n",
    "    \n",
    "    # TODO: Apply an Output Layer\n",
    "    #    Set this to the number of classes\n",
    "    # Function Definition from Above:\n",
    "    #   output(x_tensor, num_outputs)\n",
    "    out = output(fc_out, 10)\n",
    "    \n",
    "    # TODO: return output\n",
    "    return out\n",
    "\n",
    "\n",
    "\"\"\"\n",
    "DON'T MODIFY ANYTHING IN THIS CELL THAT IS BELOW THIS LINE\n",
    "\"\"\"\n",
    "\n",
    "##############################\n",
    "## Build the Neural Network ##\n",
    "##############################\n",
    "\n",
    "# Remove previous weights, bias, inputs, etc..\n",
    "tf.reset_default_graph()\n",
    "\n",
    "# Inputs\n",
    "x = neural_net_image_input((32, 32, 3))\n",
    "y = neural_net_label_input(10)\n",
    "keep_prob = neural_net_keep_prob_input()\n",
    "\n",
    "# Model\n",
    "logits = conv_net(x, keep_prob)\n",
    "\n",
    "# Name logits Tensor, so that is can be loaded from disk after training\n",
    "logits = tf.identity(logits, name='logits')\n",
    "\n",
    "# Loss and Optimizer\n",
    "cost = tf.reduce_mean(tf.nn.softmax_cross_entropy_with_logits(logits=logits, labels=y))\n",
    "optimizer = tf.train.AdamOptimizer().minimize(cost)\n",
    "\n",
    "# Accuracy\n",
    "correct_pred = tf.equal(tf.argmax(logits, 1), tf.argmax(y, 1))\n",
    "accuracy = tf.reduce_mean(tf.cast(correct_pred, tf.float32), name='accuracy')\n",
    "\n",
    "tests.test_conv_net(conv_net)"
   ]
  },
  {
   "cell_type": "markdown",
   "metadata": {},
   "source": [
    "## Train the Neural Network\n",
    "### Single Optimization\n",
    "Implement the function `train_neural_network` to do a single optimization.  The optimization should use `optimizer` to optimize in `session` with a `feed_dict` of the following:\n",
    "* `x` for image input\n",
    "* `y` for labels\n",
    "* `keep_prob` for keep probability for dropout\n",
    "\n",
    "This function will be called for each batch, so `tf.global_variables_initializer()` has already been called.\n",
    "\n",
    "Note: Nothing needs to be returned. This function is only optimizing the neural network."
   ]
  },
  {
   "cell_type": "code",
   "execution_count": 13,
   "metadata": {},
   "outputs": [
    {
     "name": "stdout",
     "output_type": "stream",
     "text": [
      "Tests Passed\n"
     ]
    }
   ],
   "source": [
    "def train_neural_network(session, optimizer, keep_probability, feature_batch, label_batch):\n",
    "    \"\"\"\n",
    "    Optimize the session on a batch of images and labels\n",
    "    : session: Current TensorFlow session\n",
    "    : optimizer: TensorFlow optimizer function\n",
    "    : keep_probability: keep probability\n",
    "    : feature_batch: Batch of Numpy image data\n",
    "    : label_batch: Batch of Numpy label data\n",
    "    \"\"\"\n",
    "    # TODO: Implement Function\n",
    "    session.run(optimizer, feed_dict={x:feature_batch, y: label_batch, keep_prob: keep_probability})\n",
    "\n",
    "\n",
    "\"\"\"\n",
    "DON'T MODIFY ANYTHING IN THIS CELL THAT IS BELOW THIS LINE\n",
    "\"\"\"\n",
    "tests.test_train_nn(train_neural_network)"
   ]
  },
  {
   "cell_type": "markdown",
   "metadata": {},
   "source": [
    "### Show Stats\n",
    "Implement the function `print_stats` to print loss and validation accuracy.  Use the global variables `valid_features` and `valid_labels` to calculate validation accuracy.  Use a keep probability of `1.0` to calculate the loss and validation accuracy."
   ]
  },
  {
   "cell_type": "code",
   "execution_count": 17,
   "metadata": {
    "collapsed": true
   },
   "outputs": [],
   "source": [
    "def print_stats(session, feature_batch, label_batch, cost, accuracy):\n",
    "    \"\"\"\n",
    "    Print information about loss and validation accuracy\n",
    "    : session: Current TensorFlow session\n",
    "    : feature_batch: Batch of Numpy image data\n",
    "    : label_batch: Batch of Numpy label data\n",
    "    : cost: TensorFlow cost function\n",
    "    : accuracy: TensorFlow accuracy function\n",
    "    \"\"\"\n",
    "    # TODO: Implement Function\n",
    "    train_loss = session.run(cost, feed_dict={x:feature_batch, y:label_batch, keep_prob:1.})\n",
    "    valid_loss = session.run(cost, feed_dict={x:valid_features, y:valid_labels, keep_prob:1.})\n",
    "    train_accuracy = session.run(accuracy, feed_dict={x:feature_batch, y:label_batch, keep_prob:1.})\n",
    "    valid_accuracy = session.run(accuracy, feed_dict={x:valid_features, y:valid_labels, keep_prob:1.})\n",
    "    print('\\nTrain (Acc: {} Loss: {}), Valid (Acc: {} Loss: {})'.format(train_accuracy, train_loss, valid_accuracy, valid_loss))"
   ]
  },
  {
   "cell_type": "markdown",
   "metadata": {},
   "source": [
    "### Hyperparameters\n",
    "Tune the following parameters:\n",
    "* Set `epochs` to the number of iterations until the network stops learning or start overfitting\n",
    "* Set `batch_size` to the highest number that your machine has memory for.  Most people set them to common sizes of memory:\n",
    " * 64\n",
    " * 128\n",
    " * 256\n",
    " * ...\n",
    "* Set `keep_probability` to the probability of keeping a node using dropout"
   ]
  },
  {
   "cell_type": "code",
   "execution_count": 18,
   "metadata": {
    "collapsed": true
   },
   "outputs": [],
   "source": [
    "# TODO: Tune Parameters\n",
    "epochs = 30\n",
    "batch_size = 512\n",
    "keep_probability = .6"
   ]
  },
  {
   "cell_type": "markdown",
   "metadata": {},
   "source": [
    "### Train on a Single CIFAR-10 Batch\n",
    "Instead of training the neural network on all the CIFAR-10 batches of data, let's use a single batch. This should save time while you iterate on the model to get a better accuracy.  Once the final validation accuracy is 50% or greater, run the model on all the data in the next section."
   ]
  },
  {
   "cell_type": "code",
   "execution_count": 19,
   "metadata": {
    "scrolled": false
   },
   "outputs": [
    {
     "name": "stdout",
     "output_type": "stream",
     "text": [
      "Checking the Training on a Single Batch...\n",
      "Epoch  1, CIFAR-10 Batch 1:  \n",
      "Train (Acc: 0.2500000298023224 Loss: 2.054727792739868), Valid (Acc: 0.2683999836444855 Loss: 2.0114340782165527)\n",
      "Epoch  2, CIFAR-10 Batch 1:  \n",
      "Train (Acc: 0.4121621549129486 Loss: 1.6976532936096191), Valid (Acc: 0.4016000032424927 Loss: 1.6470024585723877)\n",
      "Epoch  3, CIFAR-10 Batch 1:  \n",
      "Train (Acc: 0.48310816287994385 Loss: 1.5204441547393799), Valid (Acc: 0.44439998269081116 Loss: 1.5368704795837402)\n",
      "Epoch  4, CIFAR-10 Batch 1:  \n",
      "Train (Acc: 0.5101351141929626 Loss: 1.4629042148590088), Valid (Acc: 0.44579994678497314 Loss: 1.5616047382354736)\n",
      "Epoch  5, CIFAR-10 Batch 1:  \n",
      "Train (Acc: 0.5912162661552429 Loss: 1.2225589752197266), Valid (Acc: 0.511199951171875 Loss: 1.3633275032043457)\n",
      "Epoch  6, CIFAR-10 Batch 1:  \n",
      "Train (Acc: 0.6283784508705139 Loss: 1.0773252248764038), Valid (Acc: 0.5161999464035034 Loss: 1.3347550630569458)\n",
      "Epoch  7, CIFAR-10 Batch 1:  \n",
      "Train (Acc: 0.6959459781646729 Loss: 0.9474613666534424), Valid (Acc: 0.527999997138977 Loss: 1.3248286247253418)\n",
      "Epoch  8, CIFAR-10 Batch 1:  \n",
      "Train (Acc: 0.7466216087341309 Loss: 0.8156883716583252), Valid (Acc: 0.5417999029159546 Loss: 1.279856562614441)\n",
      "Epoch  9, CIFAR-10 Batch 1:  \n",
      "Train (Acc: 0.7770270705223083 Loss: 0.7361559271812439), Valid (Acc: 0.5351998805999756 Loss: 1.3165132999420166)\n",
      "Epoch 10, CIFAR-10 Batch 1:  \n",
      "Train (Acc: 0.7972972989082336 Loss: 0.6142896413803101), Valid (Acc: 0.5421999096870422 Loss: 1.3069820404052734)\n",
      "Epoch 11, CIFAR-10 Batch 1:  \n",
      "Train (Acc: 0.837837815284729 Loss: 0.5445282459259033), Valid (Acc: 0.5509999394416809 Loss: 1.3283812999725342)\n",
      "Epoch 12, CIFAR-10 Batch 1:  \n",
      "Train (Acc: 0.8817568421363831 Loss: 0.42258453369140625), Valid (Acc: 0.5603999495506287 Loss: 1.33368980884552)\n",
      "Epoch 13, CIFAR-10 Batch 1:  \n",
      "Train (Acc: 0.912162184715271 Loss: 0.34874412417411804), Valid (Acc: 0.5549999475479126 Loss: 1.3676432371139526)\n",
      "Epoch 14, CIFAR-10 Batch 1:  \n",
      "Train (Acc: 0.9358108043670654 Loss: 0.2698550224304199), Valid (Acc: 0.5673999190330505 Loss: 1.3460400104522705)\n",
      "Epoch 15, CIFAR-10 Batch 1:  \n",
      "Train (Acc: 0.9560810923576355 Loss: 0.221768319606781), Valid (Acc: 0.5631999373435974 Loss: 1.4125324487686157)\n",
      "Epoch 16, CIFAR-10 Batch 1:  \n",
      "Train (Acc: 0.9662162065505981 Loss: 0.18669939041137695), Valid (Acc: 0.5573999881744385 Loss: 1.438223123550415)\n",
      "Epoch 17, CIFAR-10 Batch 1:  \n",
      "Train (Acc: 0.9763513207435608 Loss: 0.11996451765298843), Valid (Acc: 0.568399965763092 Loss: 1.4224741458892822)\n",
      "Epoch 18, CIFAR-10 Batch 1:  \n",
      "Train (Acc: 0.9729729890823364 Loss: 0.11523081362247467), Valid (Acc: 0.5683999061584473 Loss: 1.4370490312576294)\n",
      "Epoch 19, CIFAR-10 Batch 1:  \n",
      "Train (Acc: 0.9729729890823364 Loss: 0.12405230849981308), Valid (Acc: 0.5387998819351196 Loss: 1.6416511535644531)\n",
      "Epoch 20, CIFAR-10 Batch 1:  \n",
      "Train (Acc: 0.9831080436706543 Loss: 0.13125833868980408), Valid (Acc: 0.5377999544143677 Loss: 1.5494917631149292)\n",
      "Epoch 21, CIFAR-10 Batch 1:  \n",
      "Train (Acc: 0.9797297716140747 Loss: 0.09297572076320648), Valid (Acc: 0.5613999366760254 Loss: 1.5502705574035645)\n",
      "Epoch 22, CIFAR-10 Batch 1:  \n",
      "Train (Acc: 0.9898648858070374 Loss: 0.057460375130176544), Valid (Acc: 0.5699999928474426 Loss: 1.6198461055755615)\n",
      "Epoch 23, CIFAR-10 Batch 1:  \n",
      "Train (Acc: 0.986486554145813 Loss: 0.06816064566373825), Valid (Acc: 0.5583999156951904 Loss: 1.6904929876327515)\n",
      "Epoch 24, CIFAR-10 Batch 1:  \n",
      "Train (Acc: 0.9966216087341309 Loss: 0.047491658478975296), Valid (Acc: 0.5379999279975891 Loss: 1.8004881143569946)\n",
      "Epoch 25, CIFAR-10 Batch 1:  \n",
      "Train (Acc: 0.9966216087341309 Loss: 0.028080066666007042), Valid (Acc: 0.548599898815155 Loss: 1.756855845451355)\n",
      "Epoch 26, CIFAR-10 Batch 1:  \n",
      "Train (Acc: 0.9966216087341309 Loss: 0.027349764481186867), Valid (Acc: 0.5733999013900757 Loss: 1.6906918287277222)\n",
      "Epoch 27, CIFAR-10 Batch 1:  \n",
      "Train (Acc: 1.0 Loss: 0.02852858603000641), Valid (Acc: 0.5549999475479126 Loss: 1.758617639541626)\n",
      "Epoch 28, CIFAR-10 Batch 1:  \n",
      "Train (Acc: 1.0 Loss: 0.021397091448307037), Valid (Acc: 0.5463999509811401 Loss: 1.8090193271636963)\n",
      "Epoch 29, CIFAR-10 Batch 1:  \n",
      "Train (Acc: 0.9966216087341309 Loss: 0.025325026363134384), Valid (Acc: 0.5543999671936035 Loss: 1.7914584875106812)\n",
      "Epoch 30, CIFAR-10 Batch 1:  \n",
      "Train (Acc: 1.0 Loss: 0.021824201568961143), Valid (Acc: 0.561799943447113 Loss: 1.7166668176651)\n"
     ]
    }
   ],
   "source": [
    "\"\"\"\n",
    "DON'T MODIFY ANYTHING IN THIS CELL\n",
    "\"\"\"\n",
    "print('Checking the Training on a Single Batch...')\n",
    "with tf.Session() as sess:\n",
    "    # Initializing the variables\n",
    "    sess.run(tf.global_variables_initializer())\n",
    "    \n",
    "    # Training cycle\n",
    "    for epoch in range(epochs):\n",
    "        batch_i = 1\n",
    "        for batch_features, batch_labels in helper.load_preprocess_training_batch(batch_i, batch_size):\n",
    "            train_neural_network(sess, optimizer, keep_probability, batch_features, batch_labels)\n",
    "        print('Epoch {:>2}, CIFAR-10 Batch {}:  '.format(epoch + 1, batch_i), end='')\n",
    "        print_stats(sess, batch_features, batch_labels, cost, accuracy)"
   ]
  },
  {
   "cell_type": "markdown",
   "metadata": {},
   "source": [
    "### Fully Train the Model\n",
    "Now that you got a good accuracy with a single CIFAR-10 batch, try it with all five batches."
   ]
  },
  {
   "cell_type": "code",
   "execution_count": 20,
   "metadata": {
    "scrolled": false
   },
   "outputs": [
    {
     "name": "stdout",
     "output_type": "stream",
     "text": [
      "Training...\n",
      "Epoch  1, CIFAR-10 Batch 1:  \n",
      "Train (Acc: 0.2060810923576355 Loss: 2.159376621246338), Valid (Acc: 0.19579999148845673 Loss: 2.1569314002990723)\n",
      "Epoch  1, CIFAR-10 Batch 2:  \n",
      "Train (Acc: 0.4121622145175934 Loss: 1.6368893384933472), Valid (Acc: 0.3633999824523926 Loss: 1.7294831275939941)\n",
      "Epoch  1, CIFAR-10 Batch 3:  \n",
      "Train (Acc: 0.45945948362350464 Loss: 1.5296154022216797), Valid (Acc: 0.399399995803833 Loss: 1.643139123916626)\n",
      "Epoch  1, CIFAR-10 Batch 4:  \n",
      "Train (Acc: 0.49662163853645325 Loss: 1.3653686046600342), Valid (Acc: 0.46459996700286865 Loss: 1.4671584367752075)\n",
      "Epoch  1, CIFAR-10 Batch 5:  \n",
      "Train (Acc: 0.537162184715271 Loss: 1.3804247379302979), Valid (Acc: 0.47899994254112244 Loss: 1.4303441047668457)\n",
      "Epoch  2, CIFAR-10 Batch 1:  \n",
      "Train (Acc: 0.5304054617881775 Loss: 1.3943920135498047), Valid (Acc: 0.5195999145507812 Loss: 1.3440148830413818)\n",
      "Epoch  2, CIFAR-10 Batch 2:  \n",
      "Train (Acc: 0.5506756901741028 Loss: 1.2561691999435425), Valid (Acc: 0.5085999369621277 Loss: 1.3314118385314941)\n",
      "Epoch  2, CIFAR-10 Batch 3:  \n",
      "Train (Acc: 0.5945946574211121 Loss: 1.0930675268173218), Valid (Acc: 0.547999918460846 Loss: 1.251221776008606)\n",
      "Epoch  2, CIFAR-10 Batch 4:  \n",
      "Train (Acc: 0.6047297120094299 Loss: 1.0661790370941162), Valid (Acc: 0.5581998825073242 Loss: 1.2165074348449707)\n",
      "Epoch  2, CIFAR-10 Batch 5:  \n",
      "Train (Acc: 0.6081081032752991 Loss: 1.0453338623046875), Valid (Acc: 0.5833998918533325 Loss: 1.171547532081604)\n",
      "Epoch  3, CIFAR-10 Batch 1:  \n",
      "Train (Acc: 0.6047297716140747 Loss: 1.1465270519256592), Valid (Acc: 0.5907999277114868 Loss: 1.1510727405548096)\n",
      "Epoch  3, CIFAR-10 Batch 2:  \n",
      "Train (Acc: 0.6418918967247009 Loss: 0.9992332458496094), Valid (Acc: 0.5963999032974243 Loss: 1.122580885887146)\n",
      "Epoch  3, CIFAR-10 Batch 3:  \n",
      "Train (Acc: 0.6689189672470093 Loss: 0.910707414150238), Valid (Acc: 0.5983999371528625 Loss: 1.113114356994629)\n",
      "Epoch  3, CIFAR-10 Batch 4:  \n",
      "Train (Acc: 0.6689189672470093 Loss: 0.9322561025619507), Valid (Acc: 0.5875999331474304 Loss: 1.1360876560211182)\n",
      "Epoch  3, CIFAR-10 Batch 5:  \n",
      "Train (Acc: 0.7060811519622803 Loss: 0.884025514125824), Valid (Acc: 0.6099998950958252 Loss: 1.0892466306686401)\n",
      "Epoch  4, CIFAR-10 Batch 1:  \n",
      "Train (Acc: 0.6418918967247009 Loss: 1.0111911296844482), Valid (Acc: 0.6035999059677124 Loss: 1.112387776374817)\n",
      "Epoch  4, CIFAR-10 Batch 2:  \n",
      "Train (Acc: 0.7229729890823364 Loss: 0.8502576351165771), Valid (Acc: 0.6291999220848083 Loss: 1.0467289686203003)\n",
      "Epoch  4, CIFAR-10 Batch 3:  \n",
      "Train (Acc: 0.7094594836235046 Loss: 0.8207248449325562), Valid (Acc: 0.6173999309539795 Loss: 1.0596644878387451)\n",
      "Epoch  4, CIFAR-10 Batch 4:  \n",
      "Train (Acc: 0.7533783912658691 Loss: 0.7122024297714233), Valid (Acc: 0.6435999274253845 Loss: 0.9965643286705017)\n",
      "Epoch  4, CIFAR-10 Batch 5:  \n",
      "Train (Acc: 0.7635135054588318 Loss: 0.7244954705238342), Valid (Acc: 0.6355998516082764 Loss: 1.0152029991149902)\n",
      "Epoch  5, CIFAR-10 Batch 1:  \n",
      "Train (Acc: 0.6959459781646729 Loss: 0.8689095377922058), Valid (Acc: 0.6287999153137207 Loss: 1.050222396850586)\n",
      "Epoch  5, CIFAR-10 Batch 2:  \n",
      "Train (Acc: 0.7500000596046448 Loss: 0.7492666840553284), Valid (Acc: 0.6497998833656311 Loss: 0.9985844492912292)\n",
      "Epoch  5, CIFAR-10 Batch 3:  \n",
      "Train (Acc: 0.7702702879905701 Loss: 0.7132591009140015), Valid (Acc: 0.6381999254226685 Loss: 1.013915777206421)\n",
      "Epoch  5, CIFAR-10 Batch 4:  \n",
      "Train (Acc: 0.7702702879905701 Loss: 0.6660085916519165), Valid (Acc: 0.6435998678207397 Loss: 0.9977443218231201)\n",
      "Epoch  5, CIFAR-10 Batch 5:  \n",
      "Train (Acc: 0.8108108043670654 Loss: 0.6094749569892883), Valid (Acc: 0.6629998683929443 Loss: 0.943578839302063)\n",
      "Epoch  6, CIFAR-10 Batch 1:  \n",
      "Train (Acc: 0.7601352334022522 Loss: 0.7153710126876831), Valid (Acc: 0.6489998698234558 Loss: 0.9837380051612854)\n",
      "Epoch  6, CIFAR-10 Batch 2:  \n",
      "Train (Acc: 0.7635135650634766 Loss: 0.7043642401695251), Valid (Acc: 0.6431999206542969 Loss: 0.9907281994819641)\n",
      "Epoch  6, CIFAR-10 Batch 3:  \n",
      "Train (Acc: 0.8175675272941589 Loss: 0.5791495442390442), Valid (Acc: 0.6593998074531555 Loss: 0.9637672305107117)\n",
      "Epoch  6, CIFAR-10 Batch 4:  \n",
      "Train (Acc: 0.8310810923576355 Loss: 0.5248414278030396), Valid (Acc: 0.6617999076843262 Loss: 0.9540532231330872)\n",
      "Epoch  6, CIFAR-10 Batch 5:  \n",
      "Train (Acc: 0.8479730486869812 Loss: 0.5029178261756897), Valid (Acc: 0.684199869632721 Loss: 0.8990823030471802)\n",
      "Epoch  7, CIFAR-10 Batch 1:  \n",
      "Train (Acc: 0.7770270109176636 Loss: 0.5850533246994019), Valid (Acc: 0.6589998602867126 Loss: 0.9449427723884583)\n",
      "Epoch  7, CIFAR-10 Batch 2:  \n",
      "Train (Acc: 0.8040541410446167 Loss: 0.6226359009742737), Valid (Acc: 0.640799880027771 Loss: 1.0321911573410034)\n",
      "Epoch  7, CIFAR-10 Batch 3:  \n",
      "Train (Acc: 0.8648648858070374 Loss: 0.5208054184913635), Valid (Acc: 0.6663998961448669 Loss: 0.9501919746398926)\n",
      "Epoch  7, CIFAR-10 Batch 4:  \n",
      "Train (Acc: 0.8479729890823364 Loss: 0.46852782368659973), Valid (Acc: 0.6787998676300049 Loss: 0.9170937538146973)\n",
      "Epoch  7, CIFAR-10 Batch 5:  \n",
      "Train (Acc: 0.8750000596046448 Loss: 0.43430984020233154), Valid (Acc: 0.679999828338623 Loss: 0.9018440842628479)\n",
      "Epoch  8, CIFAR-10 Batch 1:  \n",
      "Train (Acc: 0.8479730486869812 Loss: 0.46687161922454834), Valid (Acc: 0.6655999422073364 Loss: 0.9538184404373169)\n",
      "Epoch  8, CIFAR-10 Batch 2:  \n",
      "Train (Acc: 0.8648649454116821 Loss: 0.4731000065803528), Valid (Acc: 0.6715999245643616 Loss: 0.9282001256942749)\n",
      "Epoch  8, CIFAR-10 Batch 3:  \n",
      "Train (Acc: 0.875 Loss: 0.42876961827278137), Valid (Acc: 0.6703999042510986 Loss: 0.9449270963668823)\n",
      "Epoch  8, CIFAR-10 Batch 4:  \n",
      "Train (Acc: 0.8918918967247009 Loss: 0.3750821053981781), Valid (Acc: 0.6899998188018799 Loss: 0.8747443556785583)\n",
      "Epoch  8, CIFAR-10 Batch 5:  \n",
      "Train (Acc: 0.8918918967247009 Loss: 0.395844966173172), Valid (Acc: 0.6635998487472534 Loss: 0.9754548072814941)\n",
      "Epoch  9, CIFAR-10 Batch 1:  \n",
      "Train (Acc: 0.8783782720565796 Loss: 0.3978436589241028), Valid (Acc: 0.6783998608589172 Loss: 0.9261091351509094)\n",
      "Epoch  9, CIFAR-10 Batch 2:  \n",
      "Train (Acc: 0.8682433366775513 Loss: 0.4801771640777588), Valid (Acc: 0.6625999212265015 Loss: 0.9620860815048218)\n",
      "Epoch  9, CIFAR-10 Batch 3:  \n",
      "Train (Acc: 0.8817567229270935 Loss: 0.40174639225006104), Valid (Acc: 0.66159987449646 Loss: 0.9782322645187378)\n",
      "Epoch  9, CIFAR-10 Batch 4:  \n",
      "Train (Acc: 0.9189189076423645 Loss: 0.3380367159843445), Valid (Acc: 0.6857998371124268 Loss: 0.8947279453277588)\n",
      "Epoch  9, CIFAR-10 Batch 5:  \n",
      "Train (Acc: 0.9290540814399719 Loss: 0.30375003814697266), Valid (Acc: 0.6825999021530151 Loss: 0.9410858750343323)\n",
      "Epoch 10, CIFAR-10 Batch 1:  \n",
      "Train (Acc: 0.8986486196517944 Loss: 0.3394172489643097), Valid (Acc: 0.678399920463562 Loss: 0.9597009420394897)\n",
      "Epoch 10, CIFAR-10 Batch 2:  \n",
      "Train (Acc: 0.9054054021835327 Loss: 0.3827199339866638), Valid (Acc: 0.6763999462127686 Loss: 0.9430309534072876)\n",
      "Epoch 10, CIFAR-10 Batch 3:  \n",
      "Train (Acc: 0.9290540218353271 Loss: 0.2900996506214142), Valid (Acc: 0.6945999264717102 Loss: 0.9074671268463135)\n",
      "Epoch 10, CIFAR-10 Batch 4:  \n",
      "Train (Acc: 0.9391892552375793 Loss: 0.25019896030426025), Valid (Acc: 0.6981998682022095 Loss: 0.8980652093887329)\n",
      "Epoch 10, CIFAR-10 Batch 5:  \n",
      "Train (Acc: 0.9324325323104858 Loss: 0.26366519927978516), Valid (Acc: 0.6963998675346375 Loss: 0.8983004689216614)\n",
      "Epoch 11, CIFAR-10 Batch 1:  \n",
      "Train (Acc: 0.949324369430542 Loss: 0.23392939567565918), Valid (Acc: 0.6833998560905457 Loss: 0.9392507076263428)\n",
      "Epoch 11, CIFAR-10 Batch 2:  \n",
      "Train (Acc: 0.9324324727058411 Loss: 0.24264861643314362), Valid (Acc: 0.6981999278068542 Loss: 0.8980929851531982)\n",
      "Epoch 11, CIFAR-10 Batch 3:  \n",
      "Train (Acc: 0.9391891956329346 Loss: 0.23577836155891418), Valid (Acc: 0.6863998174667358 Loss: 0.9092109203338623)\n",
      "Epoch 11, CIFAR-10 Batch 4:  \n",
      "Train (Acc: 0.962837815284729 Loss: 0.20495620369911194), Valid (Acc: 0.7025998830795288 Loss: 0.8653075695037842)\n",
      "Epoch 11, CIFAR-10 Batch 5:  \n",
      "Train (Acc: 0.9358108639717102 Loss: 0.23881471157073975), Valid (Acc: 0.6973998546600342 Loss: 0.8954833745956421)\n",
      "Epoch 12, CIFAR-10 Batch 1:  \n",
      "Train (Acc: 0.9527027010917664 Loss: 0.18907442688941956), Valid (Acc: 0.6903998851776123 Loss: 0.9566308856010437)\n",
      "Epoch 12, CIFAR-10 Batch 2:  \n",
      "Train (Acc: 0.9324324131011963 Loss: 0.23607075214385986), Valid (Acc: 0.6629999279975891 Loss: 1.0173006057739258)\n"
     ]
    },
    {
     "name": "stdout",
     "output_type": "stream",
     "text": [
      "Epoch 12, CIFAR-10 Batch 3:  \n",
      "Train (Acc: 0.9560810327529907 Loss: 0.20211775600910187), Valid (Acc: 0.6903998851776123 Loss: 0.9387230277061462)\n",
      "Epoch 12, CIFAR-10 Batch 4:  \n",
      "Train (Acc: 0.9628377556800842 Loss: 0.18901555240154266), Valid (Acc: 0.7023998498916626 Loss: 0.9066762924194336)\n",
      "Epoch 12, CIFAR-10 Batch 5:  \n",
      "Train (Acc: 0.949324369430542 Loss: 0.19655627012252808), Valid (Acc: 0.7009997963905334 Loss: 0.9194555282592773)\n",
      "Epoch 13, CIFAR-10 Batch 1:  \n",
      "Train (Acc: 0.9729729294776917 Loss: 0.18438835442066193), Valid (Acc: 0.6889998316764832 Loss: 0.9459422826766968)\n",
      "Epoch 13, CIFAR-10 Batch 2:  \n",
      "Train (Acc: 0.9358108639717102 Loss: 0.19704696536064148), Valid (Acc: 0.689599871635437 Loss: 0.9311528205871582)\n",
      "Epoch 13, CIFAR-10 Batch 3:  \n",
      "Train (Acc: 0.976351261138916 Loss: 0.1346486359834671), Valid (Acc: 0.6975998282432556 Loss: 0.9552546143531799)\n",
      "Epoch 13, CIFAR-10 Batch 4:  \n",
      "Train (Acc: 0.9763513803482056 Loss: 0.16639988124370575), Valid (Acc: 0.6849998831748962 Loss: 0.9646792411804199)\n",
      "Epoch 13, CIFAR-10 Batch 5:  \n",
      "Train (Acc: 0.9763513803482056 Loss: 0.14289957284927368), Valid (Acc: 0.6897998452186584 Loss: 0.9904330372810364)\n",
      "Epoch 14, CIFAR-10 Batch 1:  \n",
      "Train (Acc: 0.9797297716140747 Loss: 0.12092234939336777), Valid (Acc: 0.7001999020576477 Loss: 0.9511369466781616)\n",
      "Epoch 14, CIFAR-10 Batch 2:  \n",
      "Train (Acc: 0.9729729294776917 Loss: 0.1555783599615097), Valid (Acc: 0.6901998519897461 Loss: 0.9681150913238525)\n",
      "Epoch 14, CIFAR-10 Batch 3:  \n",
      "Train (Acc: 0.9695945978164673 Loss: 0.16360877454280853), Valid (Acc: 0.6879998445510864 Loss: 0.9879269599914551)\n",
      "Epoch 14, CIFAR-10 Batch 4:  \n",
      "Train (Acc: 0.9831081032752991 Loss: 0.14125120639801025), Valid (Acc: 0.6881999373435974 Loss: 0.9737828969955444)\n",
      "Epoch 14, CIFAR-10 Batch 5:  \n",
      "Train (Acc: 0.9898649454116821 Loss: 0.11206026375293732), Valid (Acc: 0.697199821472168 Loss: 0.9780808687210083)\n",
      "Epoch 15, CIFAR-10 Batch 1:  \n",
      "Train (Acc: 0.9831080436706543 Loss: 0.11634577065706253), Valid (Acc: 0.6833997964859009 Loss: 1.0112189054489136)\n",
      "Epoch 15, CIFAR-10 Batch 2:  \n",
      "Train (Acc: 0.9695945978164673 Loss: 0.14407408237457275), Valid (Acc: 0.6887998580932617 Loss: 0.9631849527359009)\n",
      "Epoch 15, CIFAR-10 Batch 3:  \n",
      "Train (Acc: 0.9797296524047852 Loss: 0.1296905279159546), Valid (Acc: 0.694199800491333 Loss: 0.9617980122566223)\n",
      "Epoch 15, CIFAR-10 Batch 4:  \n",
      "Train (Acc: 0.9932432174682617 Loss: 0.09256470203399658), Valid (Acc: 0.696199893951416 Loss: 0.9906170964241028)\n",
      "Epoch 15, CIFAR-10 Batch 5:  \n",
      "Train (Acc: 0.9831080436706543 Loss: 0.1242365688085556), Valid (Acc: 0.697999894618988 Loss: 0.9652125835418701)\n",
      "Epoch 16, CIFAR-10 Batch 1:  \n",
      "Train (Acc: 0.9594595432281494 Loss: 0.1536330282688141), Valid (Acc: 0.6553999185562134 Loss: 1.129153847694397)\n",
      "Epoch 16, CIFAR-10 Batch 2:  \n",
      "Train (Acc: 0.9763513803482056 Loss: 0.13423089683055878), Valid (Acc: 0.6853998899459839 Loss: 0.9940621256828308)\n",
      "Epoch 16, CIFAR-10 Batch 3:  \n",
      "Train (Acc: 0.9831080436706543 Loss: 0.11038471013307571), Valid (Acc: 0.7041998505592346 Loss: 0.9504889249801636)\n",
      "Epoch 16, CIFAR-10 Batch 4:  \n",
      "Train (Acc: 0.9898648262023926 Loss: 0.08613693714141846), Valid (Acc: 0.7007999420166016 Loss: 0.9898609519004822)\n",
      "Epoch 16, CIFAR-10 Batch 5:  \n",
      "Train (Acc: 0.9864864945411682 Loss: 0.09666024148464203), Valid (Acc: 0.7029998898506165 Loss: 0.9724961519241333)\n",
      "Epoch 17, CIFAR-10 Batch 1:  \n",
      "Train (Acc: 0.986486554145813 Loss: 0.09032183140516281), Valid (Acc: 0.6785998344421387 Loss: 1.0314979553222656)\n",
      "Epoch 17, CIFAR-10 Batch 2:  \n",
      "Train (Acc: 0.9864864945411682 Loss: 0.10661644488573074), Valid (Acc: 0.6941998600959778 Loss: 0.973059892654419)\n",
      "Epoch 17, CIFAR-10 Batch 3:  \n",
      "Train (Acc: 0.9797297716140747 Loss: 0.09018034487962723), Valid (Acc: 0.7005998492240906 Loss: 1.0055453777313232)\n",
      "Epoch 17, CIFAR-10 Batch 4:  \n",
      "Train (Acc: 0.9898648262023926 Loss: 0.07337628304958344), Valid (Acc: 0.6975998878479004 Loss: 1.0004645586013794)\n",
      "Epoch 17, CIFAR-10 Batch 5:  \n",
      "Train (Acc: 0.9797297120094299 Loss: 0.07817757874727249), Valid (Acc: 0.6973998546600342 Loss: 1.011947512626648)\n",
      "Epoch 18, CIFAR-10 Batch 1:  \n",
      "Train (Acc: 0.9932432174682617 Loss: 0.07181394845247269), Valid (Acc: 0.6891998648643494 Loss: 1.0167176723480225)\n",
      "Epoch 18, CIFAR-10 Batch 2:  \n",
      "Train (Acc: 0.9831081032752991 Loss: 0.11848878860473633), Valid (Acc: 0.6839998960494995 Loss: 0.9960494041442871)\n",
      "Epoch 18, CIFAR-10 Batch 3:  \n",
      "Train (Acc: 0.9898648262023926 Loss: 0.06688809394836426), Valid (Acc: 0.7001998424530029 Loss: 1.012244701385498)\n",
      "Epoch 18, CIFAR-10 Batch 4:  \n",
      "Train (Acc: 1.0 Loss: 0.05696111544966698), Valid (Acc: 0.6947998404502869 Loss: 1.028710126876831)\n",
      "Epoch 18, CIFAR-10 Batch 5:  \n",
      "Train (Acc: 0.9864864945411682 Loss: 0.07133296132087708), Valid (Acc: 0.6937999129295349 Loss: 1.0236374139785767)\n",
      "Epoch 19, CIFAR-10 Batch 1:  \n",
      "Train (Acc: 0.9932432174682617 Loss: 0.07105180621147156), Valid (Acc: 0.6977998614311218 Loss: 1.0090678930282593)\n",
      "Epoch 19, CIFAR-10 Batch 2:  \n",
      "Train (Acc: 0.9898648262023926 Loss: 0.08556599915027618), Valid (Acc: 0.6907998323440552 Loss: 0.9827360510826111)\n",
      "Epoch 19, CIFAR-10 Batch 3:  \n",
      "Train (Acc: 0.986486554145813 Loss: 0.07683167606592178), Valid (Acc: 0.6967998743057251 Loss: 1.0545308589935303)\n",
      "Epoch 19, CIFAR-10 Batch 4:  \n",
      "Train (Acc: 0.9966216087341309 Loss: 0.04443620890378952), Valid (Acc: 0.7045998573303223 Loss: 1.0199763774871826)\n",
      "Epoch 19, CIFAR-10 Batch 5:  \n",
      "Train (Acc: 0.9932432174682617 Loss: 0.05560573562979698), Valid (Acc: 0.6967998743057251 Loss: 1.0107216835021973)\n",
      "Epoch 20, CIFAR-10 Batch 1:  \n",
      "Train (Acc: 0.9898648262023926 Loss: 0.07323915511369705), Valid (Acc: 0.7017998695373535 Loss: 1.0179004669189453)\n",
      "Epoch 20, CIFAR-10 Batch 2:  \n",
      "Train (Acc: 1.0 Loss: 0.06928093731403351), Valid (Acc: 0.6787998676300049 Loss: 1.104429006576538)\n",
      "Epoch 20, CIFAR-10 Batch 3:  \n",
      "Train (Acc: 0.9898648262023926 Loss: 0.0667615607380867), Valid (Acc: 0.6965998411178589 Loss: 1.0310758352279663)\n",
      "Epoch 20, CIFAR-10 Batch 4:  \n",
      "Train (Acc: 0.9932432174682617 Loss: 0.05768479406833649), Valid (Acc: 0.6923999190330505 Loss: 1.0629366636276245)\n",
      "Epoch 20, CIFAR-10 Batch 5:  \n",
      "Train (Acc: 0.9898648262023926 Loss: 0.054905444383621216), Valid (Acc: 0.700799822807312 Loss: 1.000012755393982)\n",
      "Epoch 21, CIFAR-10 Batch 1:  \n",
      "Train (Acc: 0.9932432174682617 Loss: 0.045344024896621704), Valid (Acc: 0.7031998634338379 Loss: 1.0389785766601562)\n",
      "Epoch 21, CIFAR-10 Batch 2:  \n",
      "Train (Acc: 0.9898648262023926 Loss: 0.06987997889518738), Valid (Acc: 0.6873998641967773 Loss: 1.0917762517929077)\n",
      "Epoch 21, CIFAR-10 Batch 3:  \n",
      "Train (Acc: 0.9966216087341309 Loss: 0.04648388549685478), Valid (Acc: 0.6987998485565186 Loss: 1.0523267984390259)\n",
      "Epoch 21, CIFAR-10 Batch 4:  \n",
      "Train (Acc: 0.9932432174682617 Loss: 0.049209676682949066), Valid (Acc: 0.6975998878479004 Loss: 1.043566346168518)\n",
      "Epoch 21, CIFAR-10 Batch 5:  \n",
      "Train (Acc: 1.0 Loss: 0.041512370109558105), Valid (Acc: 0.7075998783111572 Loss: 1.0144102573394775)\n",
      "Epoch 22, CIFAR-10 Batch 1:  \n",
      "Train (Acc: 0.9864864349365234 Loss: 0.044604819267988205), Valid (Acc: 0.693199872970581 Loss: 1.0799477100372314)\n",
      "Epoch 22, CIFAR-10 Batch 2:  \n",
      "Train (Acc: 0.9966216087341309 Loss: 0.04458567500114441), Valid (Acc: 0.6949998736381531 Loss: 1.0551180839538574)\n",
      "Epoch 22, CIFAR-10 Batch 3:  \n",
      "Train (Acc: 1.0 Loss: 0.0526004321873188), Valid (Acc: 0.6929998397827148 Loss: 1.0663238763809204)\n",
      "Epoch 22, CIFAR-10 Batch 4:  \n",
      "Train (Acc: 0.9932432174682617 Loss: 0.041257407516241074), Valid (Acc: 0.696199893951416 Loss: 1.0659757852554321)\n",
      "Epoch 22, CIFAR-10 Batch 5:  \n",
      "Train (Acc: 0.9966216683387756 Loss: 0.03128797933459282), Valid (Acc: 0.7039998769760132 Loss: 1.0488797426223755)\n",
      "Epoch 23, CIFAR-10 Batch 1:  \n",
      "Train (Acc: 0.9966216087341309 Loss: 0.03672659769654274), Valid (Acc: 0.7053998708724976 Loss: 1.054931640625)\n",
      "Epoch 23, CIFAR-10 Batch 2:  \n",
      "Train (Acc: 0.9966216087341309 Loss: 0.03451533243060112), Valid (Acc: 0.715199887752533 Loss: 0.9906328320503235)\n",
      "Epoch 23, CIFAR-10 Batch 3:  \n",
      "Train (Acc: 0.9966216087341309 Loss: 0.038967907428741455), Valid (Acc: 0.6909998655319214 Loss: 1.0811223983764648)\n",
      "Epoch 23, CIFAR-10 Batch 4:  \n",
      "Train (Acc: 0.9932432174682617 Loss: 0.05216469243168831), Valid (Acc: 0.6949998736381531 Loss: 1.0794724225997925)\n"
     ]
    },
    {
     "name": "stdout",
     "output_type": "stream",
     "text": [
      "Epoch 23, CIFAR-10 Batch 5:  \n",
      "Train (Acc: 1.0 Loss: 0.03552694991230965), Valid (Acc: 0.7009998559951782 Loss: 1.0820425748825073)\n",
      "Epoch 24, CIFAR-10 Batch 1:  \n",
      "Train (Acc: 0.9966216087341309 Loss: 0.039192549884319305), Valid (Acc: 0.7005998492240906 Loss: 1.0532103776931763)\n",
      "Epoch 24, CIFAR-10 Batch 2:  \n",
      "Train (Acc: 1.0 Loss: 0.02935708872973919), Valid (Acc: 0.7101998329162598 Loss: 1.012686014175415)\n",
      "Epoch 24, CIFAR-10 Batch 3:  \n",
      "Train (Acc: 1.0 Loss: 0.030849972739815712), Valid (Acc: 0.6965998411178589 Loss: 1.1225112676620483)\n",
      "Epoch 24, CIFAR-10 Batch 4:  \n",
      "Train (Acc: 0.9966216087341309 Loss: 0.03150993585586548), Valid (Acc: 0.6917998790740967 Loss: 1.1482590436935425)\n",
      "Epoch 24, CIFAR-10 Batch 5:  \n",
      "Train (Acc: 0.9932432174682617 Loss: 0.037336476147174835), Valid (Acc: 0.7029998898506165 Loss: 1.0781772136688232)\n",
      "Epoch 25, CIFAR-10 Batch 1:  \n",
      "Train (Acc: 1.0 Loss: 0.027716046199202538), Valid (Acc: 0.7039998769760132 Loss: 1.033201813697815)\n",
      "Epoch 25, CIFAR-10 Batch 2:  \n",
      "Train (Acc: 0.9966216087341309 Loss: 0.027719344943761826), Valid (Acc: 0.7097998857498169 Loss: 1.0188084840774536)\n",
      "Epoch 25, CIFAR-10 Batch 3:  \n",
      "Train (Acc: 1.0 Loss: 0.019938034936785698), Valid (Acc: 0.7117998600006104 Loss: 1.0596561431884766)\n",
      "Epoch 25, CIFAR-10 Batch 4:  \n",
      "Train (Acc: 0.9966216087341309 Loss: 0.031533241271972656), Valid (Acc: 0.6911998391151428 Loss: 1.136775016784668)\n",
      "Epoch 25, CIFAR-10 Batch 5:  \n",
      "Train (Acc: 1.0 Loss: 0.02305001951754093), Valid (Acc: 0.7007998824119568 Loss: 1.1011395454406738)\n",
      "Epoch 26, CIFAR-10 Batch 1:  \n",
      "Train (Acc: 1.0 Loss: 0.024627704173326492), Valid (Acc: 0.7097998857498169 Loss: 1.0440064668655396)\n",
      "Epoch 26, CIFAR-10 Batch 2:  \n",
      "Train (Acc: 1.0 Loss: 0.01732991635799408), Valid (Acc: 0.71399986743927 Loss: 1.056156039237976)\n",
      "Epoch 26, CIFAR-10 Batch 3:  \n",
      "Train (Acc: 1.0 Loss: 0.014954830519855022), Valid (Acc: 0.7069998383522034 Loss: 1.1354961395263672)\n",
      "Epoch 26, CIFAR-10 Batch 4:  \n",
      "Train (Acc: 1.0 Loss: 0.022316833958029747), Valid (Acc: 0.695399820804596 Loss: 1.1068669557571411)\n",
      "Epoch 26, CIFAR-10 Batch 5:  \n",
      "Train (Acc: 1.0 Loss: 0.015471627935767174), Valid (Acc: 0.703799843788147 Loss: 1.1000950336456299)\n",
      "Epoch 27, CIFAR-10 Batch 1:  \n",
      "Train (Acc: 1.0 Loss: 0.014862585812807083), Valid (Acc: 0.7131998538970947 Loss: 1.0510035753250122)\n",
      "Epoch 27, CIFAR-10 Batch 2:  \n",
      "Train (Acc: 1.0 Loss: 0.014377827756106853), Valid (Acc: 0.7145999073982239 Loss: 1.0510146617889404)\n",
      "Epoch 27, CIFAR-10 Batch 3:  \n",
      "Train (Acc: 0.9966216087341309 Loss: 0.015123738907277584), Valid (Acc: 0.707399845123291 Loss: 1.1377090215682983)\n",
      "Epoch 27, CIFAR-10 Batch 4:  \n",
      "Train (Acc: 0.9966216087341309 Loss: 0.018739987164735794), Valid (Acc: 0.6981998682022095 Loss: 1.1319940090179443)\n",
      "Epoch 27, CIFAR-10 Batch 5:  \n",
      "Train (Acc: 1.0 Loss: 0.01283014751970768), Valid (Acc: 0.6999998688697815 Loss: 1.1605206727981567)\n",
      "Epoch 28, CIFAR-10 Batch 1:  \n",
      "Train (Acc: 1.0 Loss: 0.013841774314641953), Valid (Acc: 0.712199866771698 Loss: 1.0878965854644775)\n",
      "Epoch 28, CIFAR-10 Batch 2:  \n",
      "Train (Acc: 1.0 Loss: 0.012942854315042496), Valid (Acc: 0.7061998844146729 Loss: 1.0982553958892822)\n",
      "Epoch 28, CIFAR-10 Batch 3:  \n",
      "Train (Acc: 1.0 Loss: 0.010372694581747055), Valid (Acc: 0.7057998180389404 Loss: 1.1322675943374634)\n",
      "Epoch 28, CIFAR-10 Batch 4:  \n",
      "Train (Acc: 0.9966216087341309 Loss: 0.01966981217265129), Valid (Acc: 0.7011998891830444 Loss: 1.1323392391204834)\n",
      "Epoch 28, CIFAR-10 Batch 5:  \n",
      "Train (Acc: 1.0 Loss: 0.01274003554135561), Valid (Acc: 0.7099997997283936 Loss: 1.1111035346984863)\n",
      "Epoch 29, CIFAR-10 Batch 1:  \n",
      "Train (Acc: 1.0 Loss: 0.015904501080513), Valid (Acc: 0.7081997990608215 Loss: 1.101245641708374)\n",
      "Epoch 29, CIFAR-10 Batch 2:  \n",
      "Train (Acc: 1.0 Loss: 0.01560826227068901), Valid (Acc: 0.7107998132705688 Loss: 1.075936198234558)\n",
      "Epoch 29, CIFAR-10 Batch 3:  \n",
      "Train (Acc: 1.0 Loss: 0.012814002111554146), Valid (Acc: 0.697999894618988 Loss: 1.1797689199447632)\n",
      "Epoch 29, CIFAR-10 Batch 4:  \n",
      "Train (Acc: 1.0 Loss: 0.011431609280407429), Valid (Acc: 0.7053998708724976 Loss: 1.1173856258392334)\n",
      "Epoch 29, CIFAR-10 Batch 5:  \n",
      "Train (Acc: 0.9966216087341309 Loss: 0.017831824719905853), Valid (Acc: 0.7087998390197754 Loss: 1.1133625507354736)\n",
      "Epoch 30, CIFAR-10 Batch 1:  \n",
      "Train (Acc: 0.9932432174682617 Loss: 0.025542493909597397), Valid (Acc: 0.7033998370170593 Loss: 1.1032838821411133)\n",
      "Epoch 30, CIFAR-10 Batch 2:  \n",
      "Train (Acc: 1.0 Loss: 0.011271696537733078), Valid (Acc: 0.7129998207092285 Loss: 1.0862393379211426)\n",
      "Epoch 30, CIFAR-10 Batch 3:  \n",
      "Train (Acc: 1.0 Loss: 0.011378869414329529), Valid (Acc: 0.6959998607635498 Loss: 1.1988115310668945)\n",
      "Epoch 30, CIFAR-10 Batch 4:  \n",
      "Train (Acc: 1.0 Loss: 0.01598607376217842), Valid (Acc: 0.6929998397827148 Loss: 1.1755731105804443)\n",
      "Epoch 30, CIFAR-10 Batch 5:  \n",
      "Train (Acc: 1.0 Loss: 0.011685622856020927), Valid (Acc: 0.7093998193740845 Loss: 1.1354284286499023)\n"
     ]
    }
   ],
   "source": [
    "\"\"\"\n",
    "DON'T MODIFY ANYTHING IN THIS CELL\n",
    "\"\"\"\n",
    "save_model_path = './image_classification'\n",
    "\n",
    "print('Training...')\n",
    "with tf.Session() as sess:\n",
    "    # Initializing the variables\n",
    "    sess.run(tf.global_variables_initializer())\n",
    "    \n",
    "    # Training cycle\n",
    "    for epoch in range(epochs):\n",
    "        # Loop over all batches\n",
    "        n_batches = 5\n",
    "        for batch_i in range(1, n_batches + 1):\n",
    "            for batch_features, batch_labels in helper.load_preprocess_training_batch(batch_i, batch_size):\n",
    "                train_neural_network(sess, optimizer, keep_probability, batch_features, batch_labels)\n",
    "            print('Epoch {:>2}, CIFAR-10 Batch {}:  '.format(epoch + 1, batch_i), end='')\n",
    "            print_stats(sess, batch_features, batch_labels, cost, accuracy)\n",
    "            \n",
    "    # Save Model\n",
    "    saver = tf.train.Saver()\n",
    "    save_path = saver.save(sess, save_model_path)"
   ]
  },
  {
   "cell_type": "markdown",
   "metadata": {},
   "source": [
    "# Checkpoint\n",
    "The model has been saved to disk.\n",
    "## Test Model\n",
    "Test your model against the test dataset.  This will be your final accuracy. You should have an accuracy greater than 50%. If you don't, keep tweaking the model architecture and parameters."
   ]
  },
  {
   "cell_type": "code",
   "execution_count": 21,
   "metadata": {},
   "outputs": [
    {
     "name": "stdout",
     "output_type": "stream",
     "text": [
      "INFO:tensorflow:Restoring parameters from ./image_classification\n",
      "Testing Accuracy: 0.70390625\n",
      "\n"
     ]
    },
    {
     "data": {
      "image/png": "[encoded data removed]",
      "text/plain": [
       "<matplotlib.figure.Figure at 0x7f1324bdbb38>"
      ]
     },
     "metadata": {
      "image/png": {
       "height": 319,
       "width": 355
      }
     },
     "output_type": "display_data"
    }
   ],
   "source": [
    "\"\"\"\n",
    "DON'T MODIFY ANYTHING IN THIS CELL\n",
    "\"\"\"\n",
    "%matplotlib inline\n",
    "%config InlineBackend.figure_format = 'retina'\n",
    "\n",
    "import tensorflow as tf\n",
    "import pickle\n",
    "import helper\n",
    "import random\n",
    "\n",
    "# Set batch size if not already set\n",
    "try:\n",
    "    if batch_size:\n",
    "        pass\n",
    "except NameError:\n",
    "    batch_size = 64\n",
    "\n",
    "save_model_path = './image_classification'\n",
    "n_samples = 4\n",
    "top_n_predictions = 3\n",
    "\n",
    "def test_model():\n",
    "    \"\"\"\n",
    "    Test the saved model against the test dataset\n",
    "    \"\"\"\n",
    "\n",
    "    test_features, test_labels = pickle.load(open('preprocess_test.p', mode='rb'))\n",
    "    loaded_graph = tf.Graph()\n",
    "\n",
    "    with tf.Session(graph=loaded_graph) as sess:\n",
    "        # Load model\n",
    "        loader = tf.train.import_meta_graph(save_model_path + '.meta')\n",
    "        loader.restore(sess, save_model_path)\n",
    "\n",
    "        # Get Tensors from loaded model\n",
    "        loaded_x = loaded_graph.get_tensor_by_name('x:0')\n",
    "        loaded_y = loaded_graph.get_tensor_by_name('y:0')\n",
    "        loaded_keep_prob = loaded_graph.get_tensor_by_name('keep_prob:0')\n",
    "        loaded_logits = loaded_graph.get_tensor_by_name('logits:0')\n",
    "        loaded_acc = loaded_graph.get_tensor_by_name('accuracy:0')\n",
    "        \n",
    "        # Get accuracy in batches for memory limitations\n",
    "        test_batch_acc_total = 0\n",
    "        test_batch_count = 0\n",
    "        \n",
    "        for test_feature_batch, test_label_batch in helper.batch_features_labels(test_features, test_labels, batch_size):\n",
    "            test_batch_acc_total += sess.run(\n",
    "                loaded_acc,\n",
    "                feed_dict={loaded_x: test_feature_batch, loaded_y: test_label_batch, loaded_keep_prob: 1.0})\n",
    "            test_batch_count += 1\n",
    "\n",
    "        print('Testing Accuracy: {}\\n'.format(test_batch_acc_total/test_batch_count))\n",
    "\n",
    "        # Print Random Samples\n",
    "        random_test_features, random_test_labels = tuple(zip(*random.sample(list(zip(test_features, test_labels)), n_samples)))\n",
    "        random_test_predictions = sess.run(\n",
    "            tf.nn.top_k(tf.nn.softmax(loaded_logits), top_n_predictions),\n",
    "            feed_dict={loaded_x: random_test_features, loaded_y: random_test_labels, loaded_keep_prob: 1.0})\n",
    "        helper.display_image_predictions(random_test_features, random_test_labels, random_test_predictions)\n",
    "\n",
    "\n",
    "test_model()"
   ]
  },
  {
   "cell_type": "markdown",
   "metadata": {},
   "source": [
    "## Why 50-80% Accuracy?\n",
    "You might be wondering why you can't get an accuracy any higher. First things first, 50% isn't bad for a simple CNN.  Pure guessing would get you 10% accuracy. However, you might notice people are getting scores [well above 80%](http://rodrigob.github.io/are_we_there_yet/build/classification_datasets_results.html#43494641522d3130).  That's because we haven't taught you all there is to know about neural networks. We still need to cover a few more techniques.\n",
    "## Submitting This Project\n",
    "When submitting this project, make sure to run all the cells before saving the notebook.  Save the notebook file as \"dlnd_image_classification.ipynb\" and save it as a HTML file under \"File\" -> \"Download as\".  Include the \"helper.py\" and \"problem_unittests.py\" files in your submission."
   ]
  }
 ],
 "metadata": {
  "kernelspec": {
   "display_name": "Python [default]",
   "language": "python",
   "name": "python3"
  },
  "language_info": {
   "codemirror_mode": {
    "name": "ipython",
    "version": 3
   },
   "file_extension": ".py",
   "mimetype": "text/x-python",
   "name": "python",
   "nbconvert_exporter": "python",
   "pygments_lexer": "ipython3",
   "version": "3.6.1"
  }
 },
 "nbformat": 4,
 "nbformat_minor": 1
}
